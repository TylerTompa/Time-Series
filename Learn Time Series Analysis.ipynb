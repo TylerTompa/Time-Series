{
 "cells": [
  {
   "cell_type": "markdown",
   "metadata": {},
   "source": [
    "# Time Series\n",
    "\n",
    "Simply put, a time series is any data put into chronological order.  Time Series Analysis therefore is simply an analysis of how a subject has behaved over time."
   ]
  },
  {
   "cell_type": "code",
   "execution_count": 1,
   "metadata": {},
   "outputs": [
    {
     "name": "stdout",
     "output_type": "stream",
     "text": [
      "Time Series:\n",
      "Start = 1871 \n",
      "End = 1970 \n",
      "Frequency = 1 \n",
      "  [1] 1120 1160  963 1210 1160 1160  813 1230 1370 1140  995  935 1110  994 1020\n",
      " [16]  960 1180  799  958 1140 1100 1210 1150 1250 1260 1220 1030 1100  774  840\n",
      " [31]  874  694  940  833  701  916  692 1020 1050  969  831  726  456  824  702\n",
      " [46] 1120 1100  832  764  821  768  845  864  862  698  845  744  796 1040  759\n",
      " [61]  781  865  845  944  984  897  822 1010  771  676  649  846  812  742  801\n",
      " [76] 1040  860  874  848  890  744  749  838 1050  918  986  797  923  975  815\n",
      " [91] 1020  906  901 1170  912  746  919  718  714  740\n"
     ]
    }
   ],
   "source": [
    "# The built-in Nile object is a dataset recording the measurements of the annual flow of the Nile river.\n",
    "# It's class is \"ts,\" for time series.\n",
    "# Using the print() function on a time series object,\n",
    "# we can examine the start date, and end date, as well as the measurements.\n",
    "print(Nile)"
   ]
  },
  {
   "cell_type": "code",
   "execution_count": 2,
   "metadata": {},
   "outputs": [
    {
     "data": {
      "text/html": [
       "100"
      ],
      "text/latex": [
       "100"
      ],
      "text/markdown": [
       "100"
      ],
      "text/plain": [
       "[1] 100"
      ]
     },
     "metadata": {},
     "output_type": "display_data"
    },
    {
     "data": {
      "text/html": [
       "<ol class=list-inline>\n",
       "\t<li>1120</li>\n",
       "\t<li>1160</li>\n",
       "\t<li>963</li>\n",
       "\t<li>1210</li>\n",
       "\t<li>1160</li>\n",
       "</ol>\n"
      ],
      "text/latex": [
       "\\begin{enumerate*}\n",
       "\\item 1120\n",
       "\\item 1160\n",
       "\\item 963\n",
       "\\item 1210\n",
       "\\item 1160\n",
       "\\end{enumerate*}\n"
      ],
      "text/markdown": [
       "1. 1120\n",
       "2. 1160\n",
       "3. 963\n",
       "4. 1210\n",
       "5. 1160\n",
       "\n",
       "\n"
      ],
      "text/plain": [
       "[1] 1120 1160  963 1210 1160"
      ]
     },
     "metadata": {},
     "output_type": "display_data"
    },
    {
     "data": {
      "text/html": [
       "<ol class=list-inline>\n",
       "\t<li>746</li>\n",
       "\t<li>919</li>\n",
       "\t<li>718</li>\n",
       "\t<li>714</li>\n",
       "\t<li>740</li>\n",
       "</ol>\n"
      ],
      "text/latex": [
       "\\begin{enumerate*}\n",
       "\\item 746\n",
       "\\item 919\n",
       "\\item 718\n",
       "\\item 714\n",
       "\\item 740\n",
       "\\end{enumerate*}\n"
      ],
      "text/markdown": [
       "1. 746\n",
       "2. 919\n",
       "3. 718\n",
       "4. 714\n",
       "5. 740\n",
       "\n",
       "\n"
      ],
      "text/plain": [
       "[1] 746 919 718 714 740"
      ]
     },
     "metadata": {},
     "output_type": "display_data"
    }
   ],
   "source": [
    "# Similarly to dataframes, we can view other metadata about this time series\n",
    "length(Nile)\n",
    "head(Nile, 5)\n",
    "tail(Nile, 5)\n",
    "\n",
    "# Right off the bat, we can already see that the last few values are much less than the first few."
   ]
  },
  {
   "cell_type": "code",
   "execution_count": 3,
   "metadata": {},
   "outputs": [
    {
     "data": {
      "image/png": "[encoded data removed]",
      "text/plain": [
       "Plot with title \"Annual Flow of Nile River \n",
       " 1871-1970\""
      ]
     },
     "metadata": {},
     "output_type": "display_data"
    }
   ],
   "source": [
    "# Is it also useful to visualize your time series before digging any deeper.\n",
    "plot(Nile, xlab=\"Year\", ylab= expression('River Volume 1e9 m'^3) , main=\"Annual Flow of Nile River \\n 1871-1970\")"
   ]
  }
 ],
 "metadata": {
  "kernelspec": {
   "display_name": "R",
   "language": "R",
   "name": "ir"
  },
  "language_info": {
   "codemirror_mode": "r",
   "file_extension": ".r",
   "mimetype": "text/x-r-source",
   "name": "R",
   "pygments_lexer": "r",
   "version": "3.6.1"
  }
 },
 "nbformat": 4,
 "nbformat_minor": 2
}
