{
 "cells": [
  {
   "cell_type": "markdown",
   "metadata": {},
   "source": [
    "# Time Series\n",
    "\n",
    "Simply put, a time series is any data put into chronological order.  Time Series Analysis therefore is simply an analysis of how a subject has behaved over time."
   ]
  },
  {
   "cell_type": "code",
   "execution_count": 1,
   "metadata": {},
   "outputs": [
    {
     "name": "stdout",
     "output_type": "stream",
     "text": [
      "Time Series:\n",
      "Start = 1871 \n",
      "End = 1970 \n",
      "Frequency = 1 \n",
      "  [1] 1120 1160  963 1210 1160 1160  813 1230 1370 1140  995  935 1110  994 1020\n",
      " [16]  960 1180  799  958 1140 1100 1210 1150 1250 1260 1220 1030 1100  774  840\n",
      " [31]  874  694  940  833  701  916  692 1020 1050  969  831  726  456  824  702\n",
      " [46] 1120 1100  832  764  821  768  845  864  862  698  845  744  796 1040  759\n",
      " [61]  781  865  845  944  984  897  822 1010  771  676  649  846  812  742  801\n",
      " [76] 1040  860  874  848  890  744  749  838 1050  918  986  797  923  975  815\n",
      " [91] 1020  906  901 1170  912  746  919  718  714  740\n"
     ]
    }
   ],
   "source": [
    "# The built-in Nile object is a dataset recording the measurements of the annual flow of the Nile river.\n",
    "# It's class is \"ts,\" for time series.\n",
    "# Using the print() function on a time series object,\n",
    "# we can examine the start date, and end date, as well as the measurements.\n",
    "print(Nile)"
   ]
  },
  {
   "cell_type": "code",
   "execution_count": 2,
   "metadata": {},
   "outputs": [
    {
     "data": {
      "text/html": [
       "100"
      ],
      "text/latex": [
       "100"
      ],
      "text/markdown": [
       "100"
      ],
      "text/plain": [
       "[1] 100"
      ]
     },
     "metadata": {},
     "output_type": "display_data"
    },
    {
     "data": {
      "text/html": [
       "<ol class=list-inline>\n",
       "\t<li>1120</li>\n",
       "\t<li>1160</li>\n",
       "\t<li>963</li>\n",
       "\t<li>1210</li>\n",
       "\t<li>1160</li>\n",
       "</ol>\n"
      ],
      "text/latex": [
       "\\begin{enumerate*}\n",
       "\\item 1120\n",
       "\\item 1160\n",
       "\\item 963\n",
       "\\item 1210\n",
       "\\item 1160\n",
       "\\end{enumerate*}\n"
      ],
      "text/markdown": [
       "1. 1120\n",
       "2. 1160\n",
       "3. 963\n",
       "4. 1210\n",
       "5. 1160\n",
       "\n",
       "\n"
      ],
      "text/plain": [
       "[1] 1120 1160  963 1210 1160"
      ]
     },
     "metadata": {},
     "output_type": "display_data"
    },
    {
     "data": {
      "text/html": [
       "<ol class=list-inline>\n",
       "\t<li>746</li>\n",
       "\t<li>919</li>\n",
       "\t<li>718</li>\n",
       "\t<li>714</li>\n",
       "\t<li>740</li>\n",
       "</ol>\n"
      ],
      "text/latex": [
       "\\begin{enumerate*}\n",
       "\\item 746\n",
       "\\item 919\n",
       "\\item 718\n",
       "\\item 714\n",
       "\\item 740\n",
       "\\end{enumerate*}\n"
      ],
      "text/markdown": [
       "1. 746\n",
       "2. 919\n",
       "3. 718\n",
       "4. 714\n",
       "5. 740\n",
       "\n",
       "\n"
      ],
      "text/plain": [
       "[1] 746 919 718 714 740"
      ]
     },
     "metadata": {},
     "output_type": "display_data"
    }
   ],
   "source": [
    "# Similarly to dataframes, we can view other metadata about this time series\n",
    "length(Nile)\n",
    "head(Nile, 5)\n",
    "tail(Nile, 5)\n",
    "\n",
    "# Right off the bat, we can already see that the last few values are much less than the first few."
   ]
  },
  {
   "cell_type": "code",
   "execution_count": 3,
   "metadata": {
    "scrolled": true
   },
   "outputs": [
    {
     "data": {
      "image/png": "[encoded data removed]",
      "text/plain": [
       "Plot with title \"Annual Flow of Nile River \n",
       " 1871-1970\""
      ]
     },
     "metadata": {},
     "output_type": "display_data"
    }
   ],
   "source": [
    "# Is it also useful to visualize your time series before digging any deeper.\n",
    "plot(Nile, xlab=\"Year\", ylab= expression('River Volume 1e9 m'^3) , main=\"Annual Flow of Nile River \\n 1871-1970\")"
   ]
  },
  {
   "cell_type": "markdown",
   "metadata": {},
   "source": [
    "# Descriptive Information about Time Series\n",
    "\n",
    "Time series data can come in a variety of formats.  Among these are:\n",
    "\n",
    "1. Data that is exactly evenly-spaced, such as the temperature at every hour.\n",
    "2. Data that is approximately evenly-spaced, such as the temperature recorded every time you stand up from your desk.\n",
    "3. Data that is evenly spaced, but with missing values, such as the temperature recorded, but only during working hours.  This would give us a few consecutive hours, then a large pause, then another set of consecutive values, and so on.\n",
    "\n",
    "Time series analysis begins with a few assumptions:\n",
    "1. Consecutive observations are evenly-spaced.\n",
    "2. A discrete time-observation index is used. \n",
    "\n",
    "In practice, this may only hold approximately.  Depending on the circumstances, we can sometimes ignore small discrepancies and perform our analysis as if the frequencies were exact."
   ]
  },
  {
   "cell_type": "code",
   "execution_count": 4,
   "metadata": {
    "scrolled": true
   },
   "outputs": [
    {
     "data": {
      "image/png": "[encoded data removed]",
      "text/plain": [
       "plot without title"
      ]
     },
     "metadata": {},
     "output_type": "display_data"
    }
   ],
   "source": [
    "# Consider the AirPassengers dataset,\n",
    "# which records the total international airline passengers in thousands by month\n",
    "plot(AirPassengers)"
   ]
  },
  {
   "cell_type": "code",
   "execution_count": 5,
   "metadata": {},
   "outputs": [
    {
     "data": {
      "text/html": [
       "12"
      ],
      "text/latex": [
       "12"
      ],
      "text/markdown": [
       "12"
      ],
      "text/plain": [
       "[1] 12"
      ]
     },
     "metadata": {},
     "output_type": "display_data"
    },
    {
     "data": {
      "text/html": [
       "<ol class=list-inline>\n",
       "\t<li>1949</li>\n",
       "\t<li>1</li>\n",
       "</ol>\n"
      ],
      "text/latex": [
       "\\begin{enumerate*}\n",
       "\\item 1949\n",
       "\\item 1\n",
       "\\end{enumerate*}\n"
      ],
      "text/markdown": [
       "1. 1949\n",
       "2. 1\n",
       "\n",
       "\n"
      ],
      "text/plain": [
       "[1] 1949    1"
      ]
     },
     "metadata": {},
     "output_type": "display_data"
    },
    {
     "data": {
      "text/html": [
       "<ol class=list-inline>\n",
       "\t<li>1960</li>\n",
       "\t<li>12</li>\n",
       "</ol>\n"
      ],
      "text/latex": [
       "\\begin{enumerate*}\n",
       "\\item 1960\n",
       "\\item 12\n",
       "\\end{enumerate*}\n"
      ],
      "text/markdown": [
       "1. 1960\n",
       "2. 12\n",
       "\n",
       "\n"
      ],
      "text/plain": [
       "[1] 1960   12"
      ]
     },
     "metadata": {},
     "output_type": "display_data"
    },
    {
     "data": {
      "text/html": [
       "0.0833333333333333"
      ],
      "text/latex": [
       "0.0833333333333333"
      ],
      "text/markdown": [
       "0.0833333333333333"
      ],
      "text/plain": [
       "[1] 0.08333333"
      ]
     },
     "metadata": {},
     "output_type": "display_data"
    }
   ],
   "source": [
    "# The frequency function returns the number of samples per unit time\n",
    "frequency(AirPassengers)\n",
    "# We can see that in this dataset, each unit time has twelve observations; in this case, twelve months.\n",
    "\n",
    "# The start() function returns the time index of the first observation.\n",
    "# The end() function returns the time index of the last observation.\n",
    "start(AirPassengers)\n",
    "end(AirPassengers)\n",
    "# We can see that the first observation is the first month of the year 1949,\n",
    "# and the last observation is the twelfth month of the year 1960.\n",
    "\n",
    "# The deltat() function returns the time interval between each observation.\n",
    "deltat(AirPassengers)\n",
    "# In our case, we are breaking down observations by month.\n",
    "# Therefore, we have 1/12 = 0.083 observations within each year; this is the deltat value."
   ]
  },
  {
   "cell_type": "code",
   "execution_count": 6,
   "metadata": {},
   "outputs": [
    {
     "name": "stderr",
     "output_type": "stream",
     "text": [
      "ERROR while rich displaying an object: Error in repr_matrix_generic(obj, \"\\n%s%s\\n\", sprintf(\"|%%s\\n|%s|\\n\", : formal argument \"cols\" matched by multiple actual arguments\n",
      "\n",
      "Traceback:\n",
      "1. FUN(X[[i]], ...)\n",
      "2. tryCatch(withCallingHandlers({\n",
      " .     if (!mime %in% names(repr::mime2repr)) \n",
      " .         stop(\"No repr_* for mimetype \", mime, \" in repr::mime2repr\")\n",
      " .     rpr <- repr::mime2repr[[mime]](obj)\n",
      " .     if (is.null(rpr)) \n",
      " .         return(NULL)\n",
      " .     prepare_content(is.raw(rpr), rpr)\n",
      " . }, error = error_handler), error = outer_handler)\n",
      "3. tryCatchList(expr, classes, parentenv, handlers)\n",
      "4. tryCatchOne(expr, names, parentenv, handlers[[1L]])\n",
      "5. doTryCatch(return(expr), name, parentenv, handler)\n",
      "6. withCallingHandlers({\n",
      " .     if (!mime %in% names(repr::mime2repr)) \n",
      " .         stop(\"No repr_* for mimetype \", mime, \" in repr::mime2repr\")\n",
      " .     rpr <- repr::mime2repr[[mime]](obj)\n",
      " .     if (is.null(rpr)) \n",
      " .         return(NULL)\n",
      " .     prepare_content(is.raw(rpr), rpr)\n",
      " . }, error = error_handler)\n",
      "7. repr::mime2repr[[mime]](obj)\n",
      "8. repr_markdown.ts(obj)\n",
      "9. repr_ts_generic(obj, repr_markdown.matrix, ...)\n",
      "10. repr_func(m, ..., rows = nrow(m), cols = ncol(m))\n"
     ]
    },
    {
     "data": {
      "text/html": [
       "<table>\n",
       "<thead><tr><th></th><th scope=col>Jan</th><th scope=col>Feb</th><th scope=col>Mar</th><th scope=col>Apr</th><th scope=col>May</th><th scope=col>Jun</th><th scope=col>Jul</th><th scope=col>Aug</th><th scope=col>Sep</th><th scope=col>Oct</th><th scope=col>Nov</th><th scope=col>Dec</th></tr></thead>\n",
       "<tbody>\n",
       "\t<tr><th scope=row>1949</th><td>1949.000</td><td>1949.083</td><td>1949.167</td><td>1949.250</td><td>1949.333</td><td>1949.417</td><td>1949.500</td><td>1949.583</td><td>1949.667</td><td>1949.750</td><td>1949.833</td><td>1949.917</td></tr>\n",
       "\t<tr><th scope=row>1950</th><td>1950.000</td><td>1950.083</td><td>1950.167</td><td>1950.250</td><td>1950.333</td><td>1950.417</td><td>1950.500</td><td>1950.583</td><td>1950.667</td><td>1950.750</td><td>1950.833</td><td>1950.917</td></tr>\n",
       "\t<tr><th scope=row>1951</th><td>1951.000</td><td>1951.083</td><td>1951.167</td><td>1951.250</td><td>1951.333</td><td>1951.417</td><td>1951.500</td><td>1951.583</td><td>1951.667</td><td>1951.750</td><td>1951.833</td><td>1951.917</td></tr>\n",
       "\t<tr><th scope=row>1952</th><td>1952.000</td><td>1952.083</td><td>1952.167</td><td>1952.250</td><td>1952.333</td><td>1952.417</td><td>1952.500</td><td>1952.583</td><td>1952.667</td><td>1952.750</td><td>1952.833</td><td>1952.917</td></tr>\n",
       "\t<tr><th scope=row>1953</th><td>1953.000</td><td>1953.083</td><td>1953.167</td><td>1953.250</td><td>1953.333</td><td>1953.417</td><td>1953.500</td><td>1953.583</td><td>1953.667</td><td>1953.750</td><td>1953.833</td><td>1953.917</td></tr>\n",
       "\t<tr><th scope=row>1954</th><td>1954.000</td><td>1954.083</td><td>1954.167</td><td>1954.250</td><td>1954.333</td><td>1954.417</td><td>1954.500</td><td>1954.583</td><td>1954.667</td><td>1954.750</td><td>1954.833</td><td>1954.917</td></tr>\n",
       "\t<tr><th scope=row>1955</th><td>1955.000</td><td>1955.083</td><td>1955.167</td><td>1955.250</td><td>1955.333</td><td>1955.417</td><td>1955.500</td><td>1955.583</td><td>1955.667</td><td>1955.750</td><td>1955.833</td><td>1955.917</td></tr>\n",
       "\t<tr><th scope=row>1956</th><td>1956.000</td><td>1956.083</td><td>1956.167</td><td>1956.250</td><td>1956.333</td><td>1956.417</td><td>1956.500</td><td>1956.583</td><td>1956.667</td><td>1956.750</td><td>1956.833</td><td>1956.917</td></tr>\n",
       "\t<tr><th scope=row>1957</th><td>1957.000</td><td>1957.083</td><td>1957.167</td><td>1957.250</td><td>1957.333</td><td>1957.417</td><td>1957.500</td><td>1957.583</td><td>1957.667</td><td>1957.750</td><td>1957.833</td><td>1957.917</td></tr>\n",
       "\t<tr><th scope=row>1958</th><td>1958.000</td><td>1958.083</td><td>1958.167</td><td>1958.250</td><td>1958.333</td><td>1958.417</td><td>1958.500</td><td>1958.583</td><td>1958.667</td><td>1958.750</td><td>1958.833</td><td>1958.917</td></tr>\n",
       "\t<tr><th scope=row>1959</th><td>1959.000</td><td>1959.083</td><td>1959.167</td><td>1959.250</td><td>1959.333</td><td>1959.417</td><td>1959.500</td><td>1959.583</td><td>1959.667</td><td>1959.750</td><td>1959.833</td><td>1959.917</td></tr>\n",
       "\t<tr><th scope=row>1960</th><td>1960.000</td><td>1960.083</td><td>1960.167</td><td>1960.250</td><td>1960.333</td><td>1960.417</td><td>1960.500</td><td>1960.583</td><td>1960.667</td><td>1960.750</td><td>1960.833</td><td>1960.917</td></tr>\n",
       "</tbody>\n",
       "</table>\n"
      ],
      "text/latex": [
       "\\begin{tabular}{r|llllllllllll}\n",
       "  & Jan & Feb & Mar & Apr & May & Jun & Jul & Aug & Sep & Oct & Nov & Dec\\\\\n",
       "\\hline\n",
       "\t1949 & 1949.000 & 1949.083 & 1949.167 & 1949.250 & 1949.333 & 1949.417 & 1949.500 & 1949.583 & 1949.667 & 1949.750 & 1949.833 & 1949.917\\\\\n",
       "\t1950 & 1950.000 & 1950.083 & 1950.167 & 1950.250 & 1950.333 & 1950.417 & 1950.500 & 1950.583 & 1950.667 & 1950.750 & 1950.833 & 1950.917\\\\\n",
       "\t1951 & 1951.000 & 1951.083 & 1951.167 & 1951.250 & 1951.333 & 1951.417 & 1951.500 & 1951.583 & 1951.667 & 1951.750 & 1951.833 & 1951.917\\\\\n",
       "\t1952 & 1952.000 & 1952.083 & 1952.167 & 1952.250 & 1952.333 & 1952.417 & 1952.500 & 1952.583 & 1952.667 & 1952.750 & 1952.833 & 1952.917\\\\\n",
       "\t1953 & 1953.000 & 1953.083 & 1953.167 & 1953.250 & 1953.333 & 1953.417 & 1953.500 & 1953.583 & 1953.667 & 1953.750 & 1953.833 & 1953.917\\\\\n",
       "\t1954 & 1954.000 & 1954.083 & 1954.167 & 1954.250 & 1954.333 & 1954.417 & 1954.500 & 1954.583 & 1954.667 & 1954.750 & 1954.833 & 1954.917\\\\\n",
       "\t1955 & 1955.000 & 1955.083 & 1955.167 & 1955.250 & 1955.333 & 1955.417 & 1955.500 & 1955.583 & 1955.667 & 1955.750 & 1955.833 & 1955.917\\\\\n",
       "\t1956 & 1956.000 & 1956.083 & 1956.167 & 1956.250 & 1956.333 & 1956.417 & 1956.500 & 1956.583 & 1956.667 & 1956.750 & 1956.833 & 1956.917\\\\\n",
       "\t1957 & 1957.000 & 1957.083 & 1957.167 & 1957.250 & 1957.333 & 1957.417 & 1957.500 & 1957.583 & 1957.667 & 1957.750 & 1957.833 & 1957.917\\\\\n",
       "\t1958 & 1958.000 & 1958.083 & 1958.167 & 1958.250 & 1958.333 & 1958.417 & 1958.500 & 1958.583 & 1958.667 & 1958.750 & 1958.833 & 1958.917\\\\\n",
       "\t1959 & 1959.000 & 1959.083 & 1959.167 & 1959.250 & 1959.333 & 1959.417 & 1959.500 & 1959.583 & 1959.667 & 1959.750 & 1959.833 & 1959.917\\\\\n",
       "\t1960 & 1960.000 & 1960.083 & 1960.167 & 1960.250 & 1960.333 & 1960.417 & 1960.500 & 1960.583 & 1960.667 & 1960.750 & 1960.833 & 1960.917\\\\\n",
       "\\end{tabular}\n"
      ],
      "text/plain": [
       "     Jan      Feb      Mar      Apr      May      Jun      Jul      Aug     \n",
       "1949 1949.000 1949.083 1949.167 1949.250 1949.333 1949.417 1949.500 1949.583\n",
       "1950 1950.000 1950.083 1950.167 1950.250 1950.333 1950.417 1950.500 1950.583\n",
       "1951 1951.000 1951.083 1951.167 1951.250 1951.333 1951.417 1951.500 1951.583\n",
       "1952 1952.000 1952.083 1952.167 1952.250 1952.333 1952.417 1952.500 1952.583\n",
       "1953 1953.000 1953.083 1953.167 1953.250 1953.333 1953.417 1953.500 1953.583\n",
       "1954 1954.000 1954.083 1954.167 1954.250 1954.333 1954.417 1954.500 1954.583\n",
       "1955 1955.000 1955.083 1955.167 1955.250 1955.333 1955.417 1955.500 1955.583\n",
       "1956 1956.000 1956.083 1956.167 1956.250 1956.333 1956.417 1956.500 1956.583\n",
       "1957 1957.000 1957.083 1957.167 1957.250 1957.333 1957.417 1957.500 1957.583\n",
       "1958 1958.000 1958.083 1958.167 1958.250 1958.333 1958.417 1958.500 1958.583\n",
       "1959 1959.000 1959.083 1959.167 1959.250 1959.333 1959.417 1959.500 1959.583\n",
       "1960 1960.000 1960.083 1960.167 1960.250 1960.333 1960.417 1960.500 1960.583\n",
       "     Sep      Oct      Nov      Dec     \n",
       "1949 1949.667 1949.750 1949.833 1949.917\n",
       "1950 1950.667 1950.750 1950.833 1950.917\n",
       "1951 1951.667 1951.750 1951.833 1951.917\n",
       "1952 1952.667 1952.750 1952.833 1952.917\n",
       "1953 1953.667 1953.750 1953.833 1953.917\n",
       "1954 1954.667 1954.750 1954.833 1954.917\n",
       "1955 1955.667 1955.750 1955.833 1955.917\n",
       "1956 1956.667 1956.750 1956.833 1956.917\n",
       "1957 1957.667 1957.750 1957.833 1957.917\n",
       "1958 1958.667 1958.750 1958.833 1958.917\n",
       "1959 1959.667 1959.750 1959.833 1959.917\n",
       "1960 1960.667 1960.750 1960.833 1960.917"
      ]
     },
     "metadata": {},
     "output_type": "display_data"
    },
    {
     "name": "stderr",
     "output_type": "stream",
     "text": [
      "ERROR while rich displaying an object: Error in repr_matrix_generic(obj, \"\\n%s%s\\n\", sprintf(\"|%%s\\n|%s|\\n\", : formal argument \"cols\" matched by multiple actual arguments\n",
      "\n",
      "Traceback:\n",
      "1. FUN(X[[i]], ...)\n",
      "2. tryCatch(withCallingHandlers({\n",
      " .     if (!mime %in% names(repr::mime2repr)) \n",
      " .         stop(\"No repr_* for mimetype \", mime, \" in repr::mime2repr\")\n",
      " .     rpr <- repr::mime2repr[[mime]](obj)\n",
      " .     if (is.null(rpr)) \n",
      " .         return(NULL)\n",
      " .     prepare_content(is.raw(rpr), rpr)\n",
      " . }, error = error_handler), error = outer_handler)\n",
      "3. tryCatchList(expr, classes, parentenv, handlers)\n",
      "4. tryCatchOne(expr, names, parentenv, handlers[[1L]])\n",
      "5. doTryCatch(return(expr), name, parentenv, handler)\n",
      "6. withCallingHandlers({\n",
      " .     if (!mime %in% names(repr::mime2repr)) \n",
      " .         stop(\"No repr_* for mimetype \", mime, \" in repr::mime2repr\")\n",
      " .     rpr <- repr::mime2repr[[mime]](obj)\n",
      " .     if (is.null(rpr)) \n",
      " .         return(NULL)\n",
      " .     prepare_content(is.raw(rpr), rpr)\n",
      " . }, error = error_handler)\n",
      "7. repr::mime2repr[[mime]](obj)\n",
      "8. repr_markdown.ts(obj)\n",
      "9. repr_ts_generic(obj, repr_markdown.matrix, ...)\n",
      "10. repr_func(m, ..., rows = nrow(m), cols = ncol(m))\n"
     ]
    },
    {
     "data": {
      "text/html": [
       "<table>\n",
       "<thead><tr><th></th><th scope=col>Jan</th><th scope=col>Feb</th><th scope=col>Mar</th><th scope=col>Apr</th><th scope=col>May</th><th scope=col>Jun</th><th scope=col>Jul</th><th scope=col>Aug</th><th scope=col>Sep</th><th scope=col>Oct</th><th scope=col>Nov</th><th scope=col>Dec</th></tr></thead>\n",
       "<tbody>\n",
       "\t<tr><th scope=row>1949</th><td> 1</td><td> 2</td><td> 3</td><td> 4</td><td> 5</td><td> 6</td><td> 7</td><td> 8</td><td> 9</td><td>10</td><td>11</td><td>12</td></tr>\n",
       "\t<tr><th scope=row>1950</th><td> 1</td><td> 2</td><td> 3</td><td> 4</td><td> 5</td><td> 6</td><td> 7</td><td> 8</td><td> 9</td><td>10</td><td>11</td><td>12</td></tr>\n",
       "\t<tr><th scope=row>1951</th><td> 1</td><td> 2</td><td> 3</td><td> 4</td><td> 5</td><td> 6</td><td> 7</td><td> 8</td><td> 9</td><td>10</td><td>11</td><td>12</td></tr>\n",
       "\t<tr><th scope=row>1952</th><td> 1</td><td> 2</td><td> 3</td><td> 4</td><td> 5</td><td> 6</td><td> 7</td><td> 8</td><td> 9</td><td>10</td><td>11</td><td>12</td></tr>\n",
       "\t<tr><th scope=row>1953</th><td> 1</td><td> 2</td><td> 3</td><td> 4</td><td> 5</td><td> 6</td><td> 7</td><td> 8</td><td> 9</td><td>10</td><td>11</td><td>12</td></tr>\n",
       "\t<tr><th scope=row>1954</th><td> 1</td><td> 2</td><td> 3</td><td> 4</td><td> 5</td><td> 6</td><td> 7</td><td> 8</td><td> 9</td><td>10</td><td>11</td><td>12</td></tr>\n",
       "\t<tr><th scope=row>1955</th><td> 1</td><td> 2</td><td> 3</td><td> 4</td><td> 5</td><td> 6</td><td> 7</td><td> 8</td><td> 9</td><td>10</td><td>11</td><td>12</td></tr>\n",
       "\t<tr><th scope=row>1956</th><td> 1</td><td> 2</td><td> 3</td><td> 4</td><td> 5</td><td> 6</td><td> 7</td><td> 8</td><td> 9</td><td>10</td><td>11</td><td>12</td></tr>\n",
       "\t<tr><th scope=row>1957</th><td> 1</td><td> 2</td><td> 3</td><td> 4</td><td> 5</td><td> 6</td><td> 7</td><td> 8</td><td> 9</td><td>10</td><td>11</td><td>12</td></tr>\n",
       "\t<tr><th scope=row>1958</th><td> 1</td><td> 2</td><td> 3</td><td> 4</td><td> 5</td><td> 6</td><td> 7</td><td> 8</td><td> 9</td><td>10</td><td>11</td><td>12</td></tr>\n",
       "\t<tr><th scope=row>1959</th><td> 1</td><td> 2</td><td> 3</td><td> 4</td><td> 5</td><td> 6</td><td> 7</td><td> 8</td><td> 9</td><td>10</td><td>11</td><td>12</td></tr>\n",
       "\t<tr><th scope=row>1960</th><td> 1</td><td> 2</td><td> 3</td><td> 4</td><td> 5</td><td> 6</td><td> 7</td><td> 8</td><td> 9</td><td>10</td><td>11</td><td>12</td></tr>\n",
       "</tbody>\n",
       "</table>\n"
      ],
      "text/latex": [
       "\\begin{tabular}{r|llllllllllll}\n",
       "  & Jan & Feb & Mar & Apr & May & Jun & Jul & Aug & Sep & Oct & Nov & Dec\\\\\n",
       "\\hline\n",
       "\t1949 &  1 &  2 &  3 &  4 &  5 &  6 &  7 &  8 &  9 & 10 & 11 & 12\\\\\n",
       "\t1950 &  1 &  2 &  3 &  4 &  5 &  6 &  7 &  8 &  9 & 10 & 11 & 12\\\\\n",
       "\t1951 &  1 &  2 &  3 &  4 &  5 &  6 &  7 &  8 &  9 & 10 & 11 & 12\\\\\n",
       "\t1952 &  1 &  2 &  3 &  4 &  5 &  6 &  7 &  8 &  9 & 10 & 11 & 12\\\\\n",
       "\t1953 &  1 &  2 &  3 &  4 &  5 &  6 &  7 &  8 &  9 & 10 & 11 & 12\\\\\n",
       "\t1954 &  1 &  2 &  3 &  4 &  5 &  6 &  7 &  8 &  9 & 10 & 11 & 12\\\\\n",
       "\t1955 &  1 &  2 &  3 &  4 &  5 &  6 &  7 &  8 &  9 & 10 & 11 & 12\\\\\n",
       "\t1956 &  1 &  2 &  3 &  4 &  5 &  6 &  7 &  8 &  9 & 10 & 11 & 12\\\\\n",
       "\t1957 &  1 &  2 &  3 &  4 &  5 &  6 &  7 &  8 &  9 & 10 & 11 & 12\\\\\n",
       "\t1958 &  1 &  2 &  3 &  4 &  5 &  6 &  7 &  8 &  9 & 10 & 11 & 12\\\\\n",
       "\t1959 &  1 &  2 &  3 &  4 &  5 &  6 &  7 &  8 &  9 & 10 & 11 & 12\\\\\n",
       "\t1960 &  1 &  2 &  3 &  4 &  5 &  6 &  7 &  8 &  9 & 10 & 11 & 12\\\\\n",
       "\\end{tabular}\n"
      ],
      "text/plain": [
       "     Jan Feb Mar Apr May Jun Jul Aug Sep Oct Nov Dec\n",
       "1949  1   2   3   4   5   6   7   8   9  10  11  12 \n",
       "1950  1   2   3   4   5   6   7   8   9  10  11  12 \n",
       "1951  1   2   3   4   5   6   7   8   9  10  11  12 \n",
       "1952  1   2   3   4   5   6   7   8   9  10  11  12 \n",
       "1953  1   2   3   4   5   6   7   8   9  10  11  12 \n",
       "1954  1   2   3   4   5   6   7   8   9  10  11  12 \n",
       "1955  1   2   3   4   5   6   7   8   9  10  11  12 \n",
       "1956  1   2   3   4   5   6   7   8   9  10  11  12 \n",
       "1957  1   2   3   4   5   6   7   8   9  10  11  12 \n",
       "1958  1   2   3   4   5   6   7   8   9  10  11  12 \n",
       "1959  1   2   3   4   5   6   7   8   9  10  11  12 \n",
       "1960  1   2   3   4   5   6   7   8   9  10  11  12 "
      ]
     },
     "metadata": {},
     "output_type": "display_data"
    }
   ],
   "source": [
    "# The time() function returns a vector of times at which each observation was sampled.\n",
    "time(AirPassengers)\n",
    "# Our first observation in 1949 was recorded at 1949.00, followed by 1949.083, then 1949.0167, etc.\n",
    "\n",
    "# Lastly, the cycle() function returns the position in the cycle for each observation.\n",
    "# Since our example is monthly, we have a cycle of one year,\n",
    "# where January is the first position; February is the second, and so on.\n",
    "cycle(AirPassengers)"
   ]
  },
  {
   "cell_type": "markdown",
   "metadata": {},
   "source": [
    "# Missing Data in Time Series"
   ]
  },
  {
   "cell_type": "code",
   "execution_count": 7,
   "metadata": {},
   "outputs": [
    {
     "name": "stderr",
     "output_type": "stream",
     "text": [
      "ERROR while rich displaying an object: Error in repr_matrix_generic(obj, \"\\n%s%s\\n\", sprintf(\"|%%s\\n|%s|\\n\", : formal argument \"cols\" matched by multiple actual arguments\n",
      "\n",
      "Traceback:\n",
      "1. FUN(X[[i]], ...)\n",
      "2. tryCatch(withCallingHandlers({\n",
      " .     if (!mime %in% names(repr::mime2repr)) \n",
      " .         stop(\"No repr_* for mimetype \", mime, \" in repr::mime2repr\")\n",
      " .     rpr <- repr::mime2repr[[mime]](obj)\n",
      " .     if (is.null(rpr)) \n",
      " .         return(NULL)\n",
      " .     prepare_content(is.raw(rpr), rpr)\n",
      " . }, error = error_handler), error = outer_handler)\n",
      "3. tryCatchList(expr, classes, parentenv, handlers)\n",
      "4. tryCatchOne(expr, names, parentenv, handlers[[1L]])\n",
      "5. doTryCatch(return(expr), name, parentenv, handler)\n",
      "6. withCallingHandlers({\n",
      " .     if (!mime %in% names(repr::mime2repr)) \n",
      " .         stop(\"No repr_* for mimetype \", mime, \" in repr::mime2repr\")\n",
      " .     rpr <- repr::mime2repr[[mime]](obj)\n",
      " .     if (is.null(rpr)) \n",
      " .         return(NULL)\n",
      " .     prepare_content(is.raw(rpr), rpr)\n",
      " . }, error = error_handler)\n",
      "7. repr::mime2repr[[mime]](obj)\n",
      "8. repr_markdown.ts(obj)\n",
      "9. repr_ts_generic(obj, repr_markdown.matrix, ...)\n",
      "10. repr_func(m, ..., rows = nrow(m), cols = ncol(m))\n"
     ]
    },
    {
     "data": {
      "text/html": [
       "<table>\n",
       "<thead><tr><th></th><th scope=col>Jan</th><th scope=col>Feb</th><th scope=col>Mar</th><th scope=col>Apr</th><th scope=col>May</th><th scope=col>Jun</th><th scope=col>Jul</th><th scope=col>Aug</th><th scope=col>Sep</th><th scope=col>Oct</th><th scope=col>Nov</th><th scope=col>Dec</th></tr></thead>\n",
       "<tbody>\n",
       "\t<tr><th scope=row>1949</th><td>112</td><td>118</td><td>132</td><td>129</td><td>121</td><td>135</td><td>148</td><td>148</td><td>136</td><td>119</td><td>104</td><td>118</td></tr>\n",
       "\t<tr><th scope=row>1950</th><td>115</td><td>126</td><td>141</td><td>135</td><td>125</td><td>149</td><td>170</td><td>170</td><td>158</td><td>133</td><td>114</td><td>140</td></tr>\n",
       "\t<tr><th scope=row>1951</th><td>145</td><td>150</td><td>178</td><td>163</td><td>172</td><td>178</td><td>199</td><td>199</td><td>184</td><td>162</td><td>146</td><td>166</td></tr>\n",
       "\t<tr><th scope=row>1952</th><td>171</td><td>180</td><td>193</td><td>181</td><td>183</td><td>218</td><td>230</td><td>242</td><td>209</td><td>191</td><td>172</td><td>194</td></tr>\n",
       "\t<tr><th scope=row>1953</th><td>196</td><td>196</td><td>236</td><td>235</td><td>229</td><td>243</td><td>264</td><td>272</td><td>237</td><td>211</td><td>180</td><td>201</td></tr>\n",
       "\t<tr><th scope=row>1954</th><td>204</td><td>188</td><td>235</td><td>227</td><td>234</td><td>264</td><td>302</td><td>293</td><td>259</td><td>229</td><td>203</td><td>229</td></tr>\n",
       "\t<tr><th scope=row>1955</th><td>242</td><td>233</td><td>267</td><td>269</td><td>270</td><td>315</td><td>364</td><td>347</td><td>312</td><td>274</td><td>237</td><td>278</td></tr>\n",
       "\t<tr><th scope=row>1956</th><td> NA</td><td> NA</td><td> NA</td><td> NA</td><td> NA</td><td> NA</td><td> NA</td><td> NA</td><td> NA</td><td> NA</td><td> NA</td><td> NA</td></tr>\n",
       "\t<tr><th scope=row>1957</th><td>315</td><td>301</td><td>356</td><td>348</td><td>355</td><td>422</td><td>465</td><td>467</td><td>404</td><td>347</td><td>305</td><td>336</td></tr>\n",
       "\t<tr><th scope=row>1958</th><td>340</td><td>318</td><td>362</td><td>348</td><td>363</td><td>435</td><td>491</td><td>505</td><td>404</td><td>359</td><td>310</td><td>337</td></tr>\n",
       "\t<tr><th scope=row>1959</th><td>360</td><td>342</td><td>406</td><td>396</td><td>420</td><td>472</td><td>548</td><td>559</td><td>463</td><td>407</td><td>362</td><td>405</td></tr>\n",
       "\t<tr><th scope=row>1960</th><td>417</td><td>391</td><td>419</td><td>461</td><td>472</td><td>535</td><td>622</td><td>606</td><td>508</td><td>461</td><td>390</td><td>432</td></tr>\n",
       "</tbody>\n",
       "</table>\n"
      ],
      "text/latex": [
       "\\begin{tabular}{r|llllllllllll}\n",
       "  & Jan & Feb & Mar & Apr & May & Jun & Jul & Aug & Sep & Oct & Nov & Dec\\\\\n",
       "\\hline\n",
       "\t1949 & 112 & 118 & 132 & 129 & 121 & 135 & 148 & 148 & 136 & 119 & 104 & 118\\\\\n",
       "\t1950 & 115 & 126 & 141 & 135 & 125 & 149 & 170 & 170 & 158 & 133 & 114 & 140\\\\\n",
       "\t1951 & 145 & 150 & 178 & 163 & 172 & 178 & 199 & 199 & 184 & 162 & 146 & 166\\\\\n",
       "\t1952 & 171 & 180 & 193 & 181 & 183 & 218 & 230 & 242 & 209 & 191 & 172 & 194\\\\\n",
       "\t1953 & 196 & 196 & 236 & 235 & 229 & 243 & 264 & 272 & 237 & 211 & 180 & 201\\\\\n",
       "\t1954 & 204 & 188 & 235 & 227 & 234 & 264 & 302 & 293 & 259 & 229 & 203 & 229\\\\\n",
       "\t1955 & 242 & 233 & 267 & 269 & 270 & 315 & 364 & 347 & 312 & 274 & 237 & 278\\\\\n",
       "\t1956 &  NA &  NA &  NA &  NA &  NA &  NA &  NA &  NA &  NA &  NA &  NA &  NA\\\\\n",
       "\t1957 & 315 & 301 & 356 & 348 & 355 & 422 & 465 & 467 & 404 & 347 & 305 & 336\\\\\n",
       "\t1958 & 340 & 318 & 362 & 348 & 363 & 435 & 491 & 505 & 404 & 359 & 310 & 337\\\\\n",
       "\t1959 & 360 & 342 & 406 & 396 & 420 & 472 & 548 & 559 & 463 & 407 & 362 & 405\\\\\n",
       "\t1960 & 417 & 391 & 419 & 461 & 472 & 535 & 622 & 606 & 508 & 461 & 390 & 432\\\\\n",
       "\\end{tabular}\n"
      ],
      "text/plain": [
       "     Jan Feb Mar Apr May Jun Jul Aug Sep Oct Nov Dec\n",
       "1949 112 118 132 129 121 135 148 148 136 119 104 118\n",
       "1950 115 126 141 135 125 149 170 170 158 133 114 140\n",
       "1951 145 150 178 163 172 178 199 199 184 162 146 166\n",
       "1952 171 180 193 181 183 218 230 242 209 191 172 194\n",
       "1953 196 196 236 235 229 243 264 272 237 211 180 201\n",
       "1954 204 188 235 227 234 264 302 293 259 229 203 229\n",
       "1955 242 233 267 269 270 315 364 347 312 274 237 278\n",
       "1956  NA  NA  NA  NA  NA  NA  NA  NA  NA  NA  NA  NA\n",
       "1957 315 301 356 348 355 422 465 467 404 347 305 336\n",
       "1958 340 318 362 348 363 435 491 505 404 359 310 337\n",
       "1959 360 342 406 396 420 472 548 559 463 407 362 405\n",
       "1960 417 391 419 461 472 535 622 606 508 461 390 432"
      ]
     },
     "metadata": {},
     "output_type": "display_data"
    },
    {
     "data": {
      "image/png": "[encoded data removed]",
      "text/plain": [
       "plot without title"
      ]
     },
     "metadata": {},
     "output_type": "display_data"
    }
   ],
   "source": [
    "# Suppose were missing data from the year 1956\n",
    "AirPassengers[85:96] <- NA\n",
    "AirPassengers\n",
    "plot(AirPassengers)"
   ]
  },
  {
   "cell_type": "code",
   "execution_count": 8,
   "metadata": {},
   "outputs": [
    {
     "name": "stderr",
     "output_type": "stream",
     "text": [
      "ERROR while rich displaying an object: Error in repr_matrix_generic(obj, \"\\n%s%s\\n\", sprintf(\"|%%s\\n|%s|\\n\", : formal argument \"cols\" matched by multiple actual arguments\n",
      "\n",
      "Traceback:\n",
      "1. FUN(X[[i]], ...)\n",
      "2. tryCatch(withCallingHandlers({\n",
      " .     if (!mime %in% names(repr::mime2repr)) \n",
      " .         stop(\"No repr_* for mimetype \", mime, \" in repr::mime2repr\")\n",
      " .     rpr <- repr::mime2repr[[mime]](obj)\n",
      " .     if (is.null(rpr)) \n",
      " .         return(NULL)\n",
      " .     prepare_content(is.raw(rpr), rpr)\n",
      " . }, error = error_handler), error = outer_handler)\n",
      "3. tryCatchList(expr, classes, parentenv, handlers)\n",
      "4. tryCatchOne(expr, names, parentenv, handlers[[1L]])\n",
      "5. doTryCatch(return(expr), name, parentenv, handler)\n",
      "6. withCallingHandlers({\n",
      " .     if (!mime %in% names(repr::mime2repr)) \n",
      " .         stop(\"No repr_* for mimetype \", mime, \" in repr::mime2repr\")\n",
      " .     rpr <- repr::mime2repr[[mime]](obj)\n",
      " .     if (is.null(rpr)) \n",
      " .         return(NULL)\n",
      " .     prepare_content(is.raw(rpr), rpr)\n",
      " . }, error = error_handler)\n",
      "7. repr::mime2repr[[mime]](obj)\n",
      "8. repr_markdown.ts(obj)\n",
      "9. repr_ts_generic(obj, repr_markdown.matrix, ...)\n",
      "10. repr_func(m, ..., rows = nrow(m), cols = ncol(m))\n"
     ]
    },
    {
     "data": {
      "text/html": [
       "<table>\n",
       "<thead><tr><th></th><th scope=col>Jan</th><th scope=col>Feb</th><th scope=col>Mar</th><th scope=col>Apr</th><th scope=col>May</th><th scope=col>Jun</th><th scope=col>Jul</th><th scope=col>Aug</th><th scope=col>Sep</th><th scope=col>Oct</th><th scope=col>Nov</th><th scope=col>Dec</th></tr></thead>\n",
       "<tbody>\n",
       "\t<tr><th scope=row>1949</th><td>112.0000</td><td>118.0000</td><td>132.0000</td><td>129.0000</td><td>121.0000</td><td>135.0000</td><td>148.0000</td><td>148.0000</td><td>136.0000</td><td>119.0000</td><td>104.0000</td><td>118.0000</td></tr>\n",
       "\t<tr><th scope=row>1950</th><td>115.0000</td><td>126.0000</td><td>141.0000</td><td>135.0000</td><td>125.0000</td><td>149.0000</td><td>170.0000</td><td>170.0000</td><td>158.0000</td><td>133.0000</td><td>114.0000</td><td>140.0000</td></tr>\n",
       "\t<tr><th scope=row>1951</th><td>145.0000</td><td>150.0000</td><td>178.0000</td><td>163.0000</td><td>172.0000</td><td>178.0000</td><td>199.0000</td><td>199.0000</td><td>184.0000</td><td>162.0000</td><td>146.0000</td><td>166.0000</td></tr>\n",
       "\t<tr><th scope=row>1952</th><td>171.0000</td><td>180.0000</td><td>193.0000</td><td>181.0000</td><td>183.0000</td><td>218.0000</td><td>230.0000</td><td>242.0000</td><td>209.0000</td><td>191.0000</td><td>172.0000</td><td>194.0000</td></tr>\n",
       "\t<tr><th scope=row>1953</th><td>196.0000</td><td>196.0000</td><td>236.0000</td><td>235.0000</td><td>229.0000</td><td>243.0000</td><td>264.0000</td><td>272.0000</td><td>237.0000</td><td>211.0000</td><td>180.0000</td><td>201.0000</td></tr>\n",
       "\t<tr><th scope=row>1954</th><td>204.0000</td><td>188.0000</td><td>235.0000</td><td>227.0000</td><td>234.0000</td><td>264.0000</td><td>302.0000</td><td>293.0000</td><td>259.0000</td><td>229.0000</td><td>203.0000</td><td>229.0000</td></tr>\n",
       "\t<tr><th scope=row>1955</th><td>242.0000</td><td>233.0000</td><td>267.0000</td><td>269.0000</td><td>270.0000</td><td>315.0000</td><td>364.0000</td><td>347.0000</td><td>312.0000</td><td>274.0000</td><td>237.0000</td><td>278.0000</td></tr>\n",
       "\t<tr><th scope=row>1956</th><td>275.9394</td><td>275.9394</td><td>275.9394</td><td>275.9394</td><td>275.9394</td><td>275.9394</td><td>275.9394</td><td>275.9394</td><td>275.9394</td><td>275.9394</td><td>275.9394</td><td>275.9394</td></tr>\n",
       "\t<tr><th scope=row>1957</th><td>315.0000</td><td>301.0000</td><td>356.0000</td><td>348.0000</td><td>355.0000</td><td>422.0000</td><td>465.0000</td><td>467.0000</td><td>404.0000</td><td>347.0000</td><td>305.0000</td><td>336.0000</td></tr>\n",
       "\t<tr><th scope=row>1958</th><td>340.0000</td><td>318.0000</td><td>362.0000</td><td>348.0000</td><td>363.0000</td><td>435.0000</td><td>491.0000</td><td>505.0000</td><td>404.0000</td><td>359.0000</td><td>310.0000</td><td>337.0000</td></tr>\n",
       "\t<tr><th scope=row>1959</th><td>360.0000</td><td>342.0000</td><td>406.0000</td><td>396.0000</td><td>420.0000</td><td>472.0000</td><td>548.0000</td><td>559.0000</td><td>463.0000</td><td>407.0000</td><td>362.0000</td><td>405.0000</td></tr>\n",
       "\t<tr><th scope=row>1960</th><td>417.0000</td><td>391.0000</td><td>419.0000</td><td>461.0000</td><td>472.0000</td><td>535.0000</td><td>622.0000</td><td>606.0000</td><td>508.0000</td><td>461.0000</td><td>390.0000</td><td>432.0000</td></tr>\n",
       "</tbody>\n",
       "</table>\n"
      ],
      "text/latex": [
       "\\begin{tabular}{r|llllllllllll}\n",
       "  & Jan & Feb & Mar & Apr & May & Jun & Jul & Aug & Sep & Oct & Nov & Dec\\\\\n",
       "\\hline\n",
       "\t1949 & 112.0000 & 118.0000 & 132.0000 & 129.0000 & 121.0000 & 135.0000 & 148.0000 & 148.0000 & 136.0000 & 119.0000 & 104.0000 & 118.0000\\\\\n",
       "\t1950 & 115.0000 & 126.0000 & 141.0000 & 135.0000 & 125.0000 & 149.0000 & 170.0000 & 170.0000 & 158.0000 & 133.0000 & 114.0000 & 140.0000\\\\\n",
       "\t1951 & 145.0000 & 150.0000 & 178.0000 & 163.0000 & 172.0000 & 178.0000 & 199.0000 & 199.0000 & 184.0000 & 162.0000 & 146.0000 & 166.0000\\\\\n",
       "\t1952 & 171.0000 & 180.0000 & 193.0000 & 181.0000 & 183.0000 & 218.0000 & 230.0000 & 242.0000 & 209.0000 & 191.0000 & 172.0000 & 194.0000\\\\\n",
       "\t1953 & 196.0000 & 196.0000 & 236.0000 & 235.0000 & 229.0000 & 243.0000 & 264.0000 & 272.0000 & 237.0000 & 211.0000 & 180.0000 & 201.0000\\\\\n",
       "\t1954 & 204.0000 & 188.0000 & 235.0000 & 227.0000 & 234.0000 & 264.0000 & 302.0000 & 293.0000 & 259.0000 & 229.0000 & 203.0000 & 229.0000\\\\\n",
       "\t1955 & 242.0000 & 233.0000 & 267.0000 & 269.0000 & 270.0000 & 315.0000 & 364.0000 & 347.0000 & 312.0000 & 274.0000 & 237.0000 & 278.0000\\\\\n",
       "\t1956 & 275.9394 & 275.9394 & 275.9394 & 275.9394 & 275.9394 & 275.9394 & 275.9394 & 275.9394 & 275.9394 & 275.9394 & 275.9394 & 275.9394\\\\\n",
       "\t1957 & 315.0000 & 301.0000 & 356.0000 & 348.0000 & 355.0000 & 422.0000 & 465.0000 & 467.0000 & 404.0000 & 347.0000 & 305.0000 & 336.0000\\\\\n",
       "\t1958 & 340.0000 & 318.0000 & 362.0000 & 348.0000 & 363.0000 & 435.0000 & 491.0000 & 505.0000 & 404.0000 & 359.0000 & 310.0000 & 337.0000\\\\\n",
       "\t1959 & 360.0000 & 342.0000 & 406.0000 & 396.0000 & 420.0000 & 472.0000 & 548.0000 & 559.0000 & 463.0000 & 407.0000 & 362.0000 & 405.0000\\\\\n",
       "\t1960 & 417.0000 & 391.0000 & 419.0000 & 461.0000 & 472.0000 & 535.0000 & 622.0000 & 606.0000 & 508.0000 & 461.0000 & 390.0000 & 432.0000\\\\\n",
       "\\end{tabular}\n"
      ],
      "text/plain": [
       "     Jan      Feb      Mar      Apr      May      Jun      Jul      Aug     \n",
       "1949 112.0000 118.0000 132.0000 129.0000 121.0000 135.0000 148.0000 148.0000\n",
       "1950 115.0000 126.0000 141.0000 135.0000 125.0000 149.0000 170.0000 170.0000\n",
       "1951 145.0000 150.0000 178.0000 163.0000 172.0000 178.0000 199.0000 199.0000\n",
       "1952 171.0000 180.0000 193.0000 181.0000 183.0000 218.0000 230.0000 242.0000\n",
       "1953 196.0000 196.0000 236.0000 235.0000 229.0000 243.0000 264.0000 272.0000\n",
       "1954 204.0000 188.0000 235.0000 227.0000 234.0000 264.0000 302.0000 293.0000\n",
       "1955 242.0000 233.0000 267.0000 269.0000 270.0000 315.0000 364.0000 347.0000\n",
       "1956 275.9394 275.9394 275.9394 275.9394 275.9394 275.9394 275.9394 275.9394\n",
       "1957 315.0000 301.0000 356.0000 348.0000 355.0000 422.0000 465.0000 467.0000\n",
       "1958 340.0000 318.0000 362.0000 348.0000 363.0000 435.0000 491.0000 505.0000\n",
       "1959 360.0000 342.0000 406.0000 396.0000 420.0000 472.0000 548.0000 559.0000\n",
       "1960 417.0000 391.0000 419.0000 461.0000 472.0000 535.0000 622.0000 606.0000\n",
       "     Sep      Oct      Nov      Dec     \n",
       "1949 136.0000 119.0000 104.0000 118.0000\n",
       "1950 158.0000 133.0000 114.0000 140.0000\n",
       "1951 184.0000 162.0000 146.0000 166.0000\n",
       "1952 209.0000 191.0000 172.0000 194.0000\n",
       "1953 237.0000 211.0000 180.0000 201.0000\n",
       "1954 259.0000 229.0000 203.0000 229.0000\n",
       "1955 312.0000 274.0000 237.0000 278.0000\n",
       "1956 275.9394 275.9394 275.9394 275.9394\n",
       "1957 404.0000 347.0000 305.0000 336.0000\n",
       "1958 404.0000 359.0000 310.0000 337.0000\n",
       "1959 463.0000 407.0000 362.0000 405.0000\n",
       "1960 508.0000 461.0000 390.0000 432.0000"
      ]
     },
     "metadata": {},
     "output_type": "display_data"
    },
    {
     "data": {
      "image/png": "[encoded data removed]",
      "text/plain": [
       "plot without title"
      ]
     },
     "metadata": {},
     "output_type": "display_data"
    }
   ],
   "source": [
    "# In certain cases, we simply replace missing values with means, medians, or other types of averages.\n",
    "AirPassengers_1956_use_mean <- AirPassengers\n",
    "AirPassengers_1956_use_mean[85:96] <- mean(AirPassengers, na.rm = TRUE) # remove NA values, as this breaks the mean() function.\n",
    "AirPassengers_1956_use_mean\n",
    "par(mfrow=c(1,2))\n",
    "plot(AirPassengers_1956_use_mean)\n",
    "plot(AirPassengers)\n",
    "# In our case, we can observe that the mean poorly reflects what existing data should look like."
   ]
  },
  {
   "cell_type": "markdown",
   "metadata": {},
   "source": [
    "# Time Series Objects\n",
    "\n",
    "A time series has two components\n",
    "1. Measures/Values- The value at a given point in time\n",
    "2. Time- The point in time\n",
    "\n",
    "Given a vector of values, we can apply the ts() function to create a time series object.  A object with class timeseries has these two properties."
   ]
  },
  {
   "cell_type": "code",
   "execution_count": 9,
   "metadata": {},
   "outputs": [
    {
     "data": {
      "text/html": [
       "'numeric'"
      ],
      "text/latex": [
       "'numeric'"
      ],
      "text/markdown": [
       "'numeric'"
      ],
      "text/plain": [
       "[1] \"numeric\""
      ]
     },
     "metadata": {},
     "output_type": "display_data"
    },
    {
     "data": {
      "text/html": [
       "'ts'"
      ],
      "text/latex": [
       "'ts'"
      ],
      "text/markdown": [
       "'ts'"
      ],
      "text/plain": [
       "[1] \"ts\""
      ]
     },
     "metadata": {},
     "output_type": "display_data"
    },
    {
     "data": {
      "image/png": "[encoded data removed]",
      "text/plain": [
       "plot without title"
      ]
     },
     "metadata": {},
     "output_type": "display_data"
    }
   ],
   "source": [
    "consumer_prices <- c(2, 3, 7, 8, 10)\n",
    "class(consumer_prices)\n",
    "consumer_prices_time_series <- ts(consumer_prices)\n",
    "class(consumer_prices_time_series)\n",
    "par(mfrow=c(1, 2))\n",
    "plot(consumer_prices)\n",
    "plot(consumer_prices_time_series)"
   ]
  },
  {
   "cell_type": "markdown",
   "metadata": {},
   "source": [
    "##### Below we will generate a more detailed and realistic-looking dataset, and take a closer look at creating time series objects."
   ]
  },
  {
   "cell_type": "code",
   "execution_count": 10,
   "metadata": {},
   "outputs": [
    {
     "data": {
      "image/png": "[encoded data removed]",
      "text/plain": [
       "plot without title"
      ]
     },
     "metadata": {},
     "output_type": "display_data"
    }
   ],
   "source": [
    "# Generate random data for observations each month over a ten-year period starting in 2001.\n",
    "random_data <- seq(1, 100, length.out=120)\n",
    "\n",
    "# Add random noise to each element.\n",
    "for (data in 1:length(random_data)) {\n",
    "    noise <- ifelse(rnorm(1)>=0, sample(5, 1), 0)\n",
    "    random_data[data] <- random_data[data] + noise\n",
    "}\n",
    "\n",
    "plot(random_data)"
   ]
  },
  {
   "cell_type": "code",
   "execution_count": 11,
   "metadata": {},
   "outputs": [
    {
     "data": {
      "text/html": [
       "'numeric'"
      ],
      "text/latex": [
       "'numeric'"
      ],
      "text/markdown": [
       "'numeric'"
      ],
      "text/plain": [
       "[1] \"numeric\""
      ]
     },
     "metadata": {},
     "output_type": "display_data"
    },
    {
     "data": {
      "text/html": [
       "'ts'"
      ],
      "text/latex": [
       "'ts'"
      ],
      "text/markdown": [
       "'ts'"
      ],
      "text/plain": [
       "[1] \"ts\""
      ]
     },
     "metadata": {},
     "output_type": "display_data"
    },
    {
     "name": "stdout",
     "output_type": "stream",
     "text": [
      "Time Series:\n",
      "Start = 1 \n",
      "End = 120 \n",
      "Frequency = 1 \n",
      "  [1]   2.000000   6.831933   3.663866   3.495798   4.327731   5.159664\n",
      "  [7]  10.991597   8.823529   7.655462  11.487395   9.319328  10.151261\n",
      " [13]  11.983193  11.815126  17.647059  13.478992  14.310924  15.142857\n",
      " [19]  15.974790  20.806723  18.638655  18.470588  19.302521  20.134454\n",
      " [25]  22.966387  21.798319  22.630252  28.462185  24.294118  27.126050\n",
      " [31]  25.957983  26.789916  27.621849  33.453782  29.285714  35.117647\n",
      " [37]  32.949580  36.781513  37.613445  36.445378  38.277311  35.109244\n",
      " [43]  39.941176  37.773109  40.605042  38.436975  43.268908  40.100840\n",
      " [49]  40.932773  42.764706  42.596639  45.428571  47.260504  46.092437\n",
      " [55]  47.924370  46.756303  47.588235  53.420168  51.252101  50.084034\n",
      " [61]  50.915966  51.747899  52.579832  53.411765  57.243697  55.075630\n",
      " [67]  58.907563  57.739496  61.571429  59.403361  64.235294  60.067227\n",
      " [73]  61.899160  61.731092  67.563025  66.394958  67.226891  68.058824\n",
      " [79]  70.890756  68.722689  67.554622  69.386555  69.218487  72.050420\n",
      " [85]  71.882353  75.714286  75.546218  73.378151  75.210084  80.042017\n",
      " [91]  75.873950  76.705882  77.537815  78.369748  79.201681  80.033613\n",
      " [97]  80.865546  81.697479  82.529412  87.361345  84.193277  89.025210\n",
      "[103]  85.857143  87.689076  87.521008  93.352941  89.184874  90.016807\n",
      "[109]  92.848739  91.680672  92.512605  96.344538  94.176471  95.008403\n",
      "[115]  95.840336  96.672269 101.504202 100.336134 102.168067 103.000000\n"
     ]
    }
   ],
   "source": [
    "# Convert random matrix to time series\n",
    "class(random_data)\n",
    "random_time_series <- ts(random_data)\n",
    "class(random_time_series)\n",
    "\n",
    "print(random_time_series)\n",
    "# We are measuring by month; so we should have a frequency of 12.\n",
    "# Our start date should be the first month of the year 2001, or: 2001 1\n",
    "# Our end date should be the last month of the year 2010, or: 2010 12"
   ]
  },
  {
   "cell_type": "code",
   "execution_count": 12,
   "metadata": {},
   "outputs": [
    {
     "data": {
      "image/png": "[encoded data removed]",
      "text/plain": [
       "plot without title"
      ]
     },
     "metadata": {},
     "output_type": "display_data"
    }
   ],
   "source": [
    "plot(random_time_series)"
   ]
  },
  {
   "cell_type": "markdown",
   "metadata": {},
   "source": [
    "##### When we created a time time series object from our randomly generated data, the ts() function assumed a few default properties.  We stated that we are recording measurements each month over a ten-year period; so we would want a start of 2001 1, and end date of 2010 12, and a frequency of 12. \n",
    "\n",
    "#####  We are using a dataset with 120 elements, but the ts() function cannot determine start and end dates, or frequencies on its own.  Instead, the ts() function would use a time index of 1, 2, 3, ... 120 (think a frequency of 1, and then \"year 1,\" \"year 2,\" etc).  Therefore, we must manually specify these when creating a time series object. "
   ]
  },
  {
   "cell_type": "markdown",
   "metadata": {},
   "source": [
    "##### Therefore, when analyzing a time series, <u>always</u> check the metadata.  Even if the data appears to look right when examining a table format, it might not have the properties we expect under the hood.\n",
    "\n",
    "##### When creating our own time series object, we can specify these properties with parameters—and we usually must!"
   ]
  },
  {
   "cell_type": "code",
   "execution_count": 13,
   "metadata": {
    "scrolled": true
   },
   "outputs": [
    {
     "name": "stdout",
     "output_type": "stream",
     "text": [
      "            Jan        Feb        Mar        Apr        May        Jun\n",
      "2001   2.000000   6.831933   3.663866   3.495798   4.327731   5.159664\n",
      "2002  11.983193  11.815126  17.647059  13.478992  14.310924  15.142857\n",
      "2003  22.966387  21.798319  22.630252  28.462185  24.294118  27.126050\n",
      "2004  32.949580  36.781513  37.613445  36.445378  38.277311  35.109244\n",
      "2005  40.932773  42.764706  42.596639  45.428571  47.260504  46.092437\n",
      "2006  50.915966  51.747899  52.579832  53.411765  57.243697  55.075630\n",
      "2007  61.899160  61.731092  67.563025  66.394958  67.226891  68.058824\n",
      "2008  71.882353  75.714286  75.546218  73.378151  75.210084  80.042017\n",
      "2009  80.865546  81.697479  82.529412  87.361345  84.193277  89.025210\n",
      "2010  92.848739  91.680672  92.512605  96.344538  94.176471  95.008403\n",
      "            Jul        Aug        Sep        Oct        Nov        Dec\n",
      "2001  10.991597   8.823529   7.655462  11.487395   9.319328  10.151261\n",
      "2002  15.974790  20.806723  18.638655  18.470588  19.302521  20.134454\n",
      "2003  25.957983  26.789916  27.621849  33.453782  29.285714  35.117647\n",
      "2004  39.941176  37.773109  40.605042  38.436975  43.268908  40.100840\n",
      "2005  47.924370  46.756303  47.588235  53.420168  51.252101  50.084034\n",
      "2006  58.907563  57.739496  61.571429  59.403361  64.235294  60.067227\n",
      "2007  70.890756  68.722689  67.554622  69.386555  69.218487  72.050420\n",
      "2008  75.873950  76.705882  77.537815  78.369748  79.201681  80.033613\n",
      "2009  85.857143  87.689076  87.521008  93.352941  89.184874  90.016807\n",
      "2010  95.840336  96.672269 101.504202 100.336134 102.168067 103.000000\n"
     ]
    },
    {
     "data": {
      "text/html": [
       "<ol class=list-inline>\n",
       "\t<li>2001</li>\n",
       "\t<li>1</li>\n",
       "</ol>\n"
      ],
      "text/latex": [
       "\\begin{enumerate*}\n",
       "\\item 2001\n",
       "\\item 1\n",
       "\\end{enumerate*}\n"
      ],
      "text/markdown": [
       "1. 2001\n",
       "2. 1\n",
       "\n",
       "\n"
      ],
      "text/plain": [
       "[1] 2001    1"
      ]
     },
     "metadata": {},
     "output_type": "display_data"
    },
    {
     "data": {
      "text/html": [
       "<ol class=list-inline>\n",
       "\t<li>2010</li>\n",
       "\t<li>12</li>\n",
       "</ol>\n"
      ],
      "text/latex": [
       "\\begin{enumerate*}\n",
       "\\item 2010\n",
       "\\item 12\n",
       "\\end{enumerate*}\n"
      ],
      "text/markdown": [
       "1. 2010\n",
       "2. 12\n",
       "\n",
       "\n"
      ],
      "text/plain": [
       "[1] 2010   12"
      ]
     },
     "metadata": {},
     "output_type": "display_data"
    },
    {
     "data": {
      "text/html": [
       "12"
      ],
      "text/latex": [
       "12"
      ],
      "text/markdown": [
       "12"
      ],
      "text/plain": [
       "[1] 12"
      ]
     },
     "metadata": {},
     "output_type": "display_data"
    },
    {
     "data": {
      "text/html": [
       "0.0833333333333333"
      ],
      "text/latex": [
       "0.0833333333333333"
      ],
      "text/markdown": [
       "0.0833333333333333"
      ],
      "text/plain": [
       "[1] 0.08333333"
      ]
     },
     "metadata": {},
     "output_type": "display_data"
    }
   ],
   "source": [
    "random_time_series <- ts(random_data, start=c(2001, 1), frequency=12) # NEED TO FIGURE OUT HOW THE PARAMETERS WORK AND FIX THIS\n",
    "print(random_time_series)\n",
    "start(random_time_series)\n",
    "end(random_time_series)\n",
    "frequency(random_time_series)\n",
    "deltat(random_time_series)"
   ]
  },
  {
   "cell_type": "code",
   "execution_count": 14,
   "metadata": {},
   "outputs": [
    {
     "data": {
      "image/png": "[encoded data removed]",
      "text/plain": [
       "plot without title"
      ]
     },
     "metadata": {},
     "output_type": "display_data"
    }
   ],
   "source": [
    "plot(random_time_series)"
   ]
  },
  {
   "cell_type": "markdown",
   "metadata": {},
   "source": [
    "## 2020-07-18: When I first experimented with creating my own time series object, I used a multivariate matrix instead of a univariate matrix, which led to unexpected behavior.  Come back and document and example of doing that, with quarters instead of years to make it easier to see and understand.\n",
    "\n",
    "## -Tyler"
   ]
  },
  {
   "cell_type": "code",
   "execution_count": 15,
   "metadata": {},
   "outputs": [
    {
     "data": {
      "text/html": [
       "<table>\n",
       "<thead><tr><th></th><th scope=col>January</th><th scope=col>February</th><th scope=col>March</th><th scope=col>April</th><th scope=col>May</th><th scope=col>June</th><th scope=col>July</th><th scope=col>August</th><th scope=col>September</th><th scope=col>October</th><th scope=col>November</th><th scope=col>December</th></tr></thead>\n",
       "<tbody>\n",
       "\t<tr><th scope=row>2001</th><td> 9.00000  </td><td> 11.83193 </td><td>  8.663866</td><td>  4.495798</td><td>  9.327731</td><td>12.15966  </td><td>  9.991597</td><td>  9.823529</td><td>  9.655462</td><td> 17.48739 </td><td> 17.31933 </td><td> 20.15126 </td></tr>\n",
       "\t<tr><th scope=row>2002</th><td>16.98319  </td><td> 12.81513 </td><td> 17.647059</td><td> 20.478992</td><td> 18.310924</td><td>18.14286  </td><td> 17.974790</td><td> 25.806723</td><td> 25.638655</td><td> 28.47059 </td><td> 25.30252 </td><td> 21.13445 </td></tr>\n",
       "\t<tr><th scope=row>2003</th><td>25.96639  </td><td> 28.79832 </td><td> 26.630252</td><td> 26.462185</td><td> 26.294118</td><td>34.12605  </td><td> 33.957983</td><td> 36.789916</td><td> 33.621849</td><td> 29.45378 </td><td> 34.28571 </td><td> 37.11765 </td></tr>\n",
       "\t<tr><th scope=row>2004</th><td>34.94958  </td><td> 34.78151 </td><td> 34.613445</td><td> 42.445378</td><td> 42.277311</td><td>45.10924  </td><td> 41.941176</td><td> 37.773109</td><td> 42.605042</td><td> 45.43697 </td><td> 43.26891 </td><td> 43.10084 </td></tr>\n",
       "\t<tr><th scope=row>2005</th><td>42.93277  </td><td> 50.76471 </td><td> 50.596639</td><td> 53.428571</td><td> 50.260504</td><td>46.09244  </td><td> 50.924370</td><td> 53.756303</td><td> 51.588235</td><td> 51.42017 </td><td> 51.25210 </td><td> 59.08403 </td></tr>\n",
       "\t<tr><th scope=row>2006</th><td>58.91597  </td><td> 61.74790 </td><td> 58.579832</td><td> 54.411765</td><td> 59.243697</td><td>62.07563  </td><td> 59.907563</td><td> 59.739496</td><td> 59.571429</td><td> 67.40336 </td><td> 67.23529 </td><td> 70.06723 </td></tr>\n",
       "\t<tr><th scope=row>2007</th><td>66.89916  </td><td> 62.73109 </td><td> 67.563025</td><td> 70.394958</td><td> 68.226891</td><td>68.05882  </td><td> 67.890756</td><td> 75.722689</td><td> 75.554622</td><td> 78.38655 </td><td> 75.21849 </td><td> 71.05042 </td></tr>\n",
       "\t<tr><th scope=row>2008</th><td>75.88235  </td><td> 78.71429 </td><td> 76.546218</td><td> 76.378151</td><td> 76.210084</td><td>84.04202  </td><td> 83.873950</td><td> 86.705882</td><td> 83.537815</td><td> 79.36975 </td><td> 84.20168 </td><td> 87.03361 </td></tr>\n",
       "\t<tr><th scope=row>2009</th><td>84.86555  </td><td> 84.69748 </td><td> 84.529412</td><td> 92.361345</td><td> 92.193277</td><td>95.02521  </td><td> 91.857143</td><td> 87.689076</td><td> 92.521008</td><td> 95.35294 </td><td> 93.18487 </td><td> 93.01681 </td></tr>\n",
       "\t<tr><th scope=row>2010</th><td>92.84874  </td><td>100.68067 </td><td>100.512605</td><td>103.344538</td><td>100.176471</td><td>96.00840  </td><td>100.840336</td><td>103.672269</td><td>101.504202</td><td>101.33613 </td><td>101.16807 </td><td>109.00000 </td></tr>\n",
       "</tbody>\n",
       "</table>\n"
      ],
      "text/latex": [
       "\\begin{tabular}{r|llllllllllll}\n",
       "  & January & February & March & April & May & June & July & August & September & October & November & December\\\\\n",
       "\\hline\n",
       "\t2001 &  9.00000   &  11.83193  &   8.663866 &   4.495798 &   9.327731 & 12.15966   &   9.991597 &   9.823529 &   9.655462 &  17.48739  &  17.31933  &  20.15126 \\\\\n",
       "\t2002 & 16.98319   &  12.81513  &  17.647059 &  20.478992 &  18.310924 & 18.14286   &  17.974790 &  25.806723 &  25.638655 &  28.47059  &  25.30252  &  21.13445 \\\\\n",
       "\t2003 & 25.96639   &  28.79832  &  26.630252 &  26.462185 &  26.294118 & 34.12605   &  33.957983 &  36.789916 &  33.621849 &  29.45378  &  34.28571  &  37.11765 \\\\\n",
       "\t2004 & 34.94958   &  34.78151  &  34.613445 &  42.445378 &  42.277311 & 45.10924   &  41.941176 &  37.773109 &  42.605042 &  45.43697  &  43.26891  &  43.10084 \\\\\n",
       "\t2005 & 42.93277   &  50.76471  &  50.596639 &  53.428571 &  50.260504 & 46.09244   &  50.924370 &  53.756303 &  51.588235 &  51.42017  &  51.25210  &  59.08403 \\\\\n",
       "\t2006 & 58.91597   &  61.74790  &  58.579832 &  54.411765 &  59.243697 & 62.07563   &  59.907563 &  59.739496 &  59.571429 &  67.40336  &  67.23529  &  70.06723 \\\\\n",
       "\t2007 & 66.89916   &  62.73109  &  67.563025 &  70.394958 &  68.226891 & 68.05882   &  67.890756 &  75.722689 &  75.554622 &  78.38655  &  75.21849  &  71.05042 \\\\\n",
       "\t2008 & 75.88235   &  78.71429  &  76.546218 &  76.378151 &  76.210084 & 84.04202   &  83.873950 &  86.705882 &  83.537815 &  79.36975  &  84.20168  &  87.03361 \\\\\n",
       "\t2009 & 84.86555   &  84.69748  &  84.529412 &  92.361345 &  92.193277 & 95.02521   &  91.857143 &  87.689076 &  92.521008 &  95.35294  &  93.18487  &  93.01681 \\\\\n",
       "\t2010 & 92.84874   & 100.68067  & 100.512605 & 103.344538 & 100.176471 & 96.00840   & 100.840336 & 103.672269 & 101.504202 & 101.33613  & 101.16807  & 109.00000 \\\\\n",
       "\\end{tabular}\n"
      ],
      "text/markdown": [
       "\n",
       "| <!--/--> | January | February | March | April | May | June | July | August | September | October | November | December |\n",
       "|---|---|---|---|---|---|---|---|---|---|---|---|---|\n",
       "| 2001 |  9.00000   |  11.83193  |   8.663866 |   4.495798 |   9.327731 | 12.15966   |   9.991597 |   9.823529 |   9.655462 |  17.48739  |  17.31933  |  20.15126  |\n",
       "| 2002 | 16.98319   |  12.81513  |  17.647059 |  20.478992 |  18.310924 | 18.14286   |  17.974790 |  25.806723 |  25.638655 |  28.47059  |  25.30252  |  21.13445  |\n",
       "| 2003 | 25.96639   |  28.79832  |  26.630252 |  26.462185 |  26.294118 | 34.12605   |  33.957983 |  36.789916 |  33.621849 |  29.45378  |  34.28571  |  37.11765  |\n",
       "| 2004 | 34.94958   |  34.78151  |  34.613445 |  42.445378 |  42.277311 | 45.10924   |  41.941176 |  37.773109 |  42.605042 |  45.43697  |  43.26891  |  43.10084  |\n",
       "| 2005 | 42.93277   |  50.76471  |  50.596639 |  53.428571 |  50.260504 | 46.09244   |  50.924370 |  53.756303 |  51.588235 |  51.42017  |  51.25210  |  59.08403  |\n",
       "| 2006 | 58.91597   |  61.74790  |  58.579832 |  54.411765 |  59.243697 | 62.07563   |  59.907563 |  59.739496 |  59.571429 |  67.40336  |  67.23529  |  70.06723  |\n",
       "| 2007 | 66.89916   |  62.73109  |  67.563025 |  70.394958 |  68.226891 | 68.05882   |  67.890756 |  75.722689 |  75.554622 |  78.38655  |  75.21849  |  71.05042  |\n",
       "| 2008 | 75.88235   |  78.71429  |  76.546218 |  76.378151 |  76.210084 | 84.04202   |  83.873950 |  86.705882 |  83.537815 |  79.36975  |  84.20168  |  87.03361  |\n",
       "| 2009 | 84.86555   |  84.69748  |  84.529412 |  92.361345 |  92.193277 | 95.02521   |  91.857143 |  87.689076 |  92.521008 |  95.35294  |  93.18487  |  93.01681  |\n",
       "| 2010 | 92.84874   | 100.68067  | 100.512605 | 103.344538 | 100.176471 | 96.00840   | 100.840336 | 103.672269 | 101.504202 | 101.33613  | 101.16807  | 109.00000  |\n",
       "\n"
      ],
      "text/plain": [
       "     January  February  March      April      May        June     July      \n",
       "2001  9.00000  11.83193   8.663866   4.495798   9.327731 12.15966   9.991597\n",
       "2002 16.98319  12.81513  17.647059  20.478992  18.310924 18.14286  17.974790\n",
       "2003 25.96639  28.79832  26.630252  26.462185  26.294118 34.12605  33.957983\n",
       "2004 34.94958  34.78151  34.613445  42.445378  42.277311 45.10924  41.941176\n",
       "2005 42.93277  50.76471  50.596639  53.428571  50.260504 46.09244  50.924370\n",
       "2006 58.91597  61.74790  58.579832  54.411765  59.243697 62.07563  59.907563\n",
       "2007 66.89916  62.73109  67.563025  70.394958  68.226891 68.05882  67.890756\n",
       "2008 75.88235  78.71429  76.546218  76.378151  76.210084 84.04202  83.873950\n",
       "2009 84.86555  84.69748  84.529412  92.361345  92.193277 95.02521  91.857143\n",
       "2010 92.84874 100.68067 100.512605 103.344538 100.176471 96.00840 100.840336\n",
       "     August     September  October   November  December \n",
       "2001   9.823529   9.655462  17.48739  17.31933  20.15126\n",
       "2002  25.806723  25.638655  28.47059  25.30252  21.13445\n",
       "2003  36.789916  33.621849  29.45378  34.28571  37.11765\n",
       "2004  37.773109  42.605042  45.43697  43.26891  43.10084\n",
       "2005  53.756303  51.588235  51.42017  51.25210  59.08403\n",
       "2006  59.739496  59.571429  67.40336  67.23529  70.06723\n",
       "2007  75.722689  75.554622  78.38655  75.21849  71.05042\n",
       "2008  86.705882  83.537815  79.36975  84.20168  87.03361\n",
       "2009  87.689076  92.521008  95.35294  93.18487  93.01681\n",
       "2010 103.672269 101.504202 101.33613 101.16807 109.00000"
      ]
     },
     "metadata": {},
     "output_type": "display_data"
    }
   ],
   "source": [
    "# Generate random monthly data over for ten years\n",
    "random_data <- seq(1, 100, length.out=120) + sample(1:10) # Add a little random noise\n",
    "# Convert our random data to a matrix\n",
    "random_matrix <- matrix(random_data, nrow=10, byrow=TRUE)\n",
    "rownames(random_matrix) <- as.character(seq(2001, 2010, length.out = 10))\n",
    "colnames(random_matrix) <- c(\"January\", \"February\", \"March\",\n",
    "                      \"April\", \"May\", \"June\",\n",
    "                      \"July\", \"August\", \"September\",\n",
    "                      \"October\", \"November\", \"December\")\n",
    "random_matrix"
   ]
  },
  {
   "cell_type": "code",
   "execution_count": 16,
   "metadata": {},
   "outputs": [],
   "source": [
    "random_time_series <- ts(random_matrix, start=c(2001, 1), frequency=12)"
   ]
  },
  {
   "cell_type": "code",
   "execution_count": 17,
   "metadata": {},
   "outputs": [
    {
     "name": "stderr",
     "output_type": "stream",
     "text": [
      "ERROR while rich displaying an object: Error in repr_matrix_generic(obj, \"\\n%s%s\\n\", sprintf(\"|%%s\\n|%s|\\n\", : formal argument \"cols\" matched by multiple actual arguments\n",
      "\n",
      "Traceback:\n",
      "1. FUN(X[[i]], ...)\n",
      "2. tryCatch(withCallingHandlers({\n",
      " .     if (!mime %in% names(repr::mime2repr)) \n",
      " .         stop(\"No repr_* for mimetype \", mime, \" in repr::mime2repr\")\n",
      " .     rpr <- repr::mime2repr[[mime]](obj)\n",
      " .     if (is.null(rpr)) \n",
      " .         return(NULL)\n",
      " .     prepare_content(is.raw(rpr), rpr)\n",
      " . }, error = error_handler), error = outer_handler)\n",
      "3. tryCatchList(expr, classes, parentenv, handlers)\n",
      "4. tryCatchOne(expr, names, parentenv, handlers[[1L]])\n",
      "5. doTryCatch(return(expr), name, parentenv, handler)\n",
      "6. withCallingHandlers({\n",
      " .     if (!mime %in% names(repr::mime2repr)) \n",
      " .         stop(\"No repr_* for mimetype \", mime, \" in repr::mime2repr\")\n",
      " .     rpr <- repr::mime2repr[[mime]](obj)\n",
      " .     if (is.null(rpr)) \n",
      " .         return(NULL)\n",
      " .     prepare_content(is.raw(rpr), rpr)\n",
      " . }, error = error_handler)\n",
      "7. repr::mime2repr[[mime]](obj)\n",
      "8. repr_markdown.ts(obj)\n",
      "9. repr_ts_generic(obj, repr_markdown.matrix, ...)\n",
      "10. repr_func(m, ..., rows = nrow(m), cols = ncol(m))\n"
     ]
    },
    {
     "data": {
      "text/html": [
       "<table>\n",
       "<thead><tr><th></th><th scope=col>January</th><th scope=col>February</th><th scope=col>March</th><th scope=col>April</th><th scope=col>May</th><th scope=col>June</th><th scope=col>July</th><th scope=col>August</th><th scope=col>September</th><th scope=col>October</th><th scope=col>November</th><th scope=col>December</th></tr></thead>\n",
       "<tbody>\n",
       "\t<tr><th scope=row>Jan 2001</th><td> 9.00000  </td><td> 11.83193 </td><td>  8.663866</td><td>  4.495798</td><td>  9.327731</td><td>12.15966  </td><td>  9.991597</td><td>  9.823529</td><td>  9.655462</td><td> 17.48739 </td><td> 17.31933 </td><td> 20.15126 </td></tr>\n",
       "\t<tr><th scope=row>Feb 2001</th><td>16.98319  </td><td> 12.81513 </td><td> 17.647059</td><td> 20.478992</td><td> 18.310924</td><td>18.14286  </td><td> 17.974790</td><td> 25.806723</td><td> 25.638655</td><td> 28.47059 </td><td> 25.30252 </td><td> 21.13445 </td></tr>\n",
       "\t<tr><th scope=row>Mar 2001</th><td>25.96639  </td><td> 28.79832 </td><td> 26.630252</td><td> 26.462185</td><td> 26.294118</td><td>34.12605  </td><td> 33.957983</td><td> 36.789916</td><td> 33.621849</td><td> 29.45378 </td><td> 34.28571 </td><td> 37.11765 </td></tr>\n",
       "\t<tr><th scope=row>Apr 2001</th><td>34.94958  </td><td> 34.78151 </td><td> 34.613445</td><td> 42.445378</td><td> 42.277311</td><td>45.10924  </td><td> 41.941176</td><td> 37.773109</td><td> 42.605042</td><td> 45.43697 </td><td> 43.26891 </td><td> 43.10084 </td></tr>\n",
       "\t<tr><th scope=row>May 2001</th><td>42.93277  </td><td> 50.76471 </td><td> 50.596639</td><td> 53.428571</td><td> 50.260504</td><td>46.09244  </td><td> 50.924370</td><td> 53.756303</td><td> 51.588235</td><td> 51.42017 </td><td> 51.25210 </td><td> 59.08403 </td></tr>\n",
       "\t<tr><th scope=row>Jun 2001</th><td>58.91597  </td><td> 61.74790 </td><td> 58.579832</td><td> 54.411765</td><td> 59.243697</td><td>62.07563  </td><td> 59.907563</td><td> 59.739496</td><td> 59.571429</td><td> 67.40336 </td><td> 67.23529 </td><td> 70.06723 </td></tr>\n",
       "\t<tr><th scope=row>Jul 2001</th><td>66.89916  </td><td> 62.73109 </td><td> 67.563025</td><td> 70.394958</td><td> 68.226891</td><td>68.05882  </td><td> 67.890756</td><td> 75.722689</td><td> 75.554622</td><td> 78.38655 </td><td> 75.21849 </td><td> 71.05042 </td></tr>\n",
       "\t<tr><th scope=row>Aug 2001</th><td>75.88235  </td><td> 78.71429 </td><td> 76.546218</td><td> 76.378151</td><td> 76.210084</td><td>84.04202  </td><td> 83.873950</td><td> 86.705882</td><td> 83.537815</td><td> 79.36975 </td><td> 84.20168 </td><td> 87.03361 </td></tr>\n",
       "\t<tr><th scope=row>Sep 2001</th><td>84.86555  </td><td> 84.69748 </td><td> 84.529412</td><td> 92.361345</td><td> 92.193277</td><td>95.02521  </td><td> 91.857143</td><td> 87.689076</td><td> 92.521008</td><td> 95.35294 </td><td> 93.18487 </td><td> 93.01681 </td></tr>\n",
       "\t<tr><th scope=row>Oct 2001</th><td>92.84874  </td><td>100.68067 </td><td>100.512605</td><td>103.344538</td><td>100.176471</td><td>96.00840  </td><td>100.840336</td><td>103.672269</td><td>101.504202</td><td>101.33613 </td><td>101.16807 </td><td>109.00000 </td></tr>\n",
       "</tbody>\n",
       "</table>\n"
      ],
      "text/latex": [
       "\\begin{tabular}{r|llllllllllll}\n",
       "  & January & February & March & April & May & June & July & August & September & October & November & December\\\\\n",
       "\\hline\n",
       "\tJan 2001 &  9.00000   &  11.83193  &   8.663866 &   4.495798 &   9.327731 & 12.15966   &   9.991597 &   9.823529 &   9.655462 &  17.48739  &  17.31933  &  20.15126 \\\\\n",
       "\tFeb 2001 & 16.98319   &  12.81513  &  17.647059 &  20.478992 &  18.310924 & 18.14286   &  17.974790 &  25.806723 &  25.638655 &  28.47059  &  25.30252  &  21.13445 \\\\\n",
       "\tMar 2001 & 25.96639   &  28.79832  &  26.630252 &  26.462185 &  26.294118 & 34.12605   &  33.957983 &  36.789916 &  33.621849 &  29.45378  &  34.28571  &  37.11765 \\\\\n",
       "\tApr 2001 & 34.94958   &  34.78151  &  34.613445 &  42.445378 &  42.277311 & 45.10924   &  41.941176 &  37.773109 &  42.605042 &  45.43697  &  43.26891  &  43.10084 \\\\\n",
       "\tMay 2001 & 42.93277   &  50.76471  &  50.596639 &  53.428571 &  50.260504 & 46.09244   &  50.924370 &  53.756303 &  51.588235 &  51.42017  &  51.25210  &  59.08403 \\\\\n",
       "\tJun 2001 & 58.91597   &  61.74790  &  58.579832 &  54.411765 &  59.243697 & 62.07563   &  59.907563 &  59.739496 &  59.571429 &  67.40336  &  67.23529  &  70.06723 \\\\\n",
       "\tJul 2001 & 66.89916   &  62.73109  &  67.563025 &  70.394958 &  68.226891 & 68.05882   &  67.890756 &  75.722689 &  75.554622 &  78.38655  &  75.21849  &  71.05042 \\\\\n",
       "\tAug 2001 & 75.88235   &  78.71429  &  76.546218 &  76.378151 &  76.210084 & 84.04202   &  83.873950 &  86.705882 &  83.537815 &  79.36975  &  84.20168  &  87.03361 \\\\\n",
       "\tSep 2001 & 84.86555   &  84.69748  &  84.529412 &  92.361345 &  92.193277 & 95.02521   &  91.857143 &  87.689076 &  92.521008 &  95.35294  &  93.18487  &  93.01681 \\\\\n",
       "\tOct 2001 & 92.84874   & 100.68067  & 100.512605 & 103.344538 & 100.176471 & 96.00840   & 100.840336 & 103.672269 & 101.504202 & 101.33613  & 101.16807  & 109.00000 \\\\\n",
       "\\end{tabular}\n"
      ],
      "text/plain": [
       "         January  February  March      April      May        June    \n",
       "Jan 2001  9.00000  11.83193   8.663866   4.495798   9.327731 12.15966\n",
       "Feb 2001 16.98319  12.81513  17.647059  20.478992  18.310924 18.14286\n",
       "Mar 2001 25.96639  28.79832  26.630252  26.462185  26.294118 34.12605\n",
       "Apr 2001 34.94958  34.78151  34.613445  42.445378  42.277311 45.10924\n",
       "May 2001 42.93277  50.76471  50.596639  53.428571  50.260504 46.09244\n",
       "Jun 2001 58.91597  61.74790  58.579832  54.411765  59.243697 62.07563\n",
       "Jul 2001 66.89916  62.73109  67.563025  70.394958  68.226891 68.05882\n",
       "Aug 2001 75.88235  78.71429  76.546218  76.378151  76.210084 84.04202\n",
       "Sep 2001 84.86555  84.69748  84.529412  92.361345  92.193277 95.02521\n",
       "Oct 2001 92.84874 100.68067 100.512605 103.344538 100.176471 96.00840\n",
       "         July       August     September  October   November  December \n",
       "Jan 2001   9.991597   9.823529   9.655462  17.48739  17.31933  20.15126\n",
       "Feb 2001  17.974790  25.806723  25.638655  28.47059  25.30252  21.13445\n",
       "Mar 2001  33.957983  36.789916  33.621849  29.45378  34.28571  37.11765\n",
       "Apr 2001  41.941176  37.773109  42.605042  45.43697  43.26891  43.10084\n",
       "May 2001  50.924370  53.756303  51.588235  51.42017  51.25210  59.08403\n",
       "Jun 2001  59.907563  59.739496  59.571429  67.40336  67.23529  70.06723\n",
       "Jul 2001  67.890756  75.722689  75.554622  78.38655  75.21849  71.05042\n",
       "Aug 2001  83.873950  86.705882  83.537815  79.36975  84.20168  87.03361\n",
       "Sep 2001  91.857143  87.689076  92.521008  95.35294  93.18487  93.01681\n",
       "Oct 2001 100.840336 103.672269 101.504202 101.33613 101.16807 109.00000"
      ]
     },
     "metadata": {},
     "output_type": "display_data"
    }
   ],
   "source": [
    "random_time_series"
   ]
  },
  {
   "cell_type": "code",
   "execution_count": 18,
   "metadata": {},
   "outputs": [
    {
     "data": {
      "text/html": [
       "<ol class=list-inline>\n",
       "\t<li>2001</li>\n",
       "\t<li>1</li>\n",
       "</ol>\n"
      ],
      "text/latex": [
       "\\begin{enumerate*}\n",
       "\\item 2001\n",
       "\\item 1\n",
       "\\end{enumerate*}\n"
      ],
      "text/markdown": [
       "1. 2001\n",
       "2. 1\n",
       "\n",
       "\n"
      ],
      "text/plain": [
       "[1] 2001    1"
      ]
     },
     "metadata": {},
     "output_type": "display_data"
    },
    {
     "data": {
      "text/html": [
       "<ol class=list-inline>\n",
       "\t<li>2001</li>\n",
       "\t<li>10</li>\n",
       "</ol>\n"
      ],
      "text/latex": [
       "\\begin{enumerate*}\n",
       "\\item 2001\n",
       "\\item 10\n",
       "\\end{enumerate*}\n"
      ],
      "text/markdown": [
       "1. 2001\n",
       "2. 10\n",
       "\n",
       "\n"
      ],
      "text/plain": [
       "[1] 2001   10"
      ]
     },
     "metadata": {},
     "output_type": "display_data"
    },
    {
     "data": {
      "text/html": [
       "12"
      ],
      "text/latex": [
       "12"
      ],
      "text/markdown": [
       "12"
      ],
      "text/plain": [
       "[1] 12"
      ]
     },
     "metadata": {},
     "output_type": "display_data"
    },
    {
     "data": {
      "text/html": [
       "0.0833333333333333"
      ],
      "text/latex": [
       "0.0833333333333333"
      ],
      "text/markdown": [
       "0.0833333333333333"
      ],
      "text/plain": [
       "[1] 0.08333333"
      ]
     },
     "metadata": {},
     "output_type": "display_data"
    }
   ],
   "source": [
    "start(random_time_series)\n",
    "end(random_time_series)\n",
    "frequency(random_time_series)\n",
    "deltat(random_time_series)"
   ]
  },
  {
   "cell_type": "code",
   "execution_count": 19,
   "metadata": {},
   "outputs": [],
   "source": [
    "tsobj <- ts(as.vector(random_matrix), start=2001, end=2010, frequency=12)"
   ]
  },
  {
   "cell_type": "code",
   "execution_count": 20,
   "metadata": {},
   "outputs": [
    {
     "data": {
      "text/html": [
       "<table>\n",
       "<thead><tr><th></th><th scope=col>January</th><th scope=col>February</th><th scope=col>March</th><th scope=col>April</th><th scope=col>May</th><th scope=col>June</th><th scope=col>July</th><th scope=col>August</th><th scope=col>September</th><th scope=col>October</th><th scope=col>November</th><th scope=col>December</th></tr></thead>\n",
       "<tbody>\n",
       "\t<tr><th scope=row>2001</th><td> 9.00000  </td><td> 11.83193 </td><td>  8.663866</td><td>  4.495798</td><td>  9.327731</td><td>12.15966  </td><td>  9.991597</td><td>  9.823529</td><td>  9.655462</td><td> 17.48739 </td><td> 17.31933 </td><td> 20.15126 </td></tr>\n",
       "\t<tr><th scope=row>2002</th><td>16.98319  </td><td> 12.81513 </td><td> 17.647059</td><td> 20.478992</td><td> 18.310924</td><td>18.14286  </td><td> 17.974790</td><td> 25.806723</td><td> 25.638655</td><td> 28.47059 </td><td> 25.30252 </td><td> 21.13445 </td></tr>\n",
       "\t<tr><th scope=row>2003</th><td>25.96639  </td><td> 28.79832 </td><td> 26.630252</td><td> 26.462185</td><td> 26.294118</td><td>34.12605  </td><td> 33.957983</td><td> 36.789916</td><td> 33.621849</td><td> 29.45378 </td><td> 34.28571 </td><td> 37.11765 </td></tr>\n",
       "\t<tr><th scope=row>2004</th><td>34.94958  </td><td> 34.78151 </td><td> 34.613445</td><td> 42.445378</td><td> 42.277311</td><td>45.10924  </td><td> 41.941176</td><td> 37.773109</td><td> 42.605042</td><td> 45.43697 </td><td> 43.26891 </td><td> 43.10084 </td></tr>\n",
       "\t<tr><th scope=row>2005</th><td>42.93277  </td><td> 50.76471 </td><td> 50.596639</td><td> 53.428571</td><td> 50.260504</td><td>46.09244  </td><td> 50.924370</td><td> 53.756303</td><td> 51.588235</td><td> 51.42017 </td><td> 51.25210 </td><td> 59.08403 </td></tr>\n",
       "\t<tr><th scope=row>2006</th><td>58.91597  </td><td> 61.74790 </td><td> 58.579832</td><td> 54.411765</td><td> 59.243697</td><td>62.07563  </td><td> 59.907563</td><td> 59.739496</td><td> 59.571429</td><td> 67.40336 </td><td> 67.23529 </td><td> 70.06723 </td></tr>\n",
       "\t<tr><th scope=row>2007</th><td>66.89916  </td><td> 62.73109 </td><td> 67.563025</td><td> 70.394958</td><td> 68.226891</td><td>68.05882  </td><td> 67.890756</td><td> 75.722689</td><td> 75.554622</td><td> 78.38655 </td><td> 75.21849 </td><td> 71.05042 </td></tr>\n",
       "\t<tr><th scope=row>2008</th><td>75.88235  </td><td> 78.71429 </td><td> 76.546218</td><td> 76.378151</td><td> 76.210084</td><td>84.04202  </td><td> 83.873950</td><td> 86.705882</td><td> 83.537815</td><td> 79.36975 </td><td> 84.20168 </td><td> 87.03361 </td></tr>\n",
       "\t<tr><th scope=row>2009</th><td>84.86555  </td><td> 84.69748 </td><td> 84.529412</td><td> 92.361345</td><td> 92.193277</td><td>95.02521  </td><td> 91.857143</td><td> 87.689076</td><td> 92.521008</td><td> 95.35294 </td><td> 93.18487 </td><td> 93.01681 </td></tr>\n",
       "\t<tr><th scope=row>2010</th><td>92.84874  </td><td>100.68067 </td><td>100.512605</td><td>103.344538</td><td>100.176471</td><td>96.00840  </td><td>100.840336</td><td>103.672269</td><td>101.504202</td><td>101.33613 </td><td>101.16807 </td><td>109.00000 </td></tr>\n",
       "</tbody>\n",
       "</table>\n"
      ],
      "text/latex": [
       "\\begin{tabular}{r|llllllllllll}\n",
       "  & January & February & March & April & May & June & July & August & September & October & November & December\\\\\n",
       "\\hline\n",
       "\t2001 &  9.00000   &  11.83193  &   8.663866 &   4.495798 &   9.327731 & 12.15966   &   9.991597 &   9.823529 &   9.655462 &  17.48739  &  17.31933  &  20.15126 \\\\\n",
       "\t2002 & 16.98319   &  12.81513  &  17.647059 &  20.478992 &  18.310924 & 18.14286   &  17.974790 &  25.806723 &  25.638655 &  28.47059  &  25.30252  &  21.13445 \\\\\n",
       "\t2003 & 25.96639   &  28.79832  &  26.630252 &  26.462185 &  26.294118 & 34.12605   &  33.957983 &  36.789916 &  33.621849 &  29.45378  &  34.28571  &  37.11765 \\\\\n",
       "\t2004 & 34.94958   &  34.78151  &  34.613445 &  42.445378 &  42.277311 & 45.10924   &  41.941176 &  37.773109 &  42.605042 &  45.43697  &  43.26891  &  43.10084 \\\\\n",
       "\t2005 & 42.93277   &  50.76471  &  50.596639 &  53.428571 &  50.260504 & 46.09244   &  50.924370 &  53.756303 &  51.588235 &  51.42017  &  51.25210  &  59.08403 \\\\\n",
       "\t2006 & 58.91597   &  61.74790  &  58.579832 &  54.411765 &  59.243697 & 62.07563   &  59.907563 &  59.739496 &  59.571429 &  67.40336  &  67.23529  &  70.06723 \\\\\n",
       "\t2007 & 66.89916   &  62.73109  &  67.563025 &  70.394958 &  68.226891 & 68.05882   &  67.890756 &  75.722689 &  75.554622 &  78.38655  &  75.21849  &  71.05042 \\\\\n",
       "\t2008 & 75.88235   &  78.71429  &  76.546218 &  76.378151 &  76.210084 & 84.04202   &  83.873950 &  86.705882 &  83.537815 &  79.36975  &  84.20168  &  87.03361 \\\\\n",
       "\t2009 & 84.86555   &  84.69748  &  84.529412 &  92.361345 &  92.193277 & 95.02521   &  91.857143 &  87.689076 &  92.521008 &  95.35294  &  93.18487  &  93.01681 \\\\\n",
       "\t2010 & 92.84874   & 100.68067  & 100.512605 & 103.344538 & 100.176471 & 96.00840   & 100.840336 & 103.672269 & 101.504202 & 101.33613  & 101.16807  & 109.00000 \\\\\n",
       "\\end{tabular}\n"
      ],
      "text/markdown": [
       "\n",
       "| <!--/--> | January | February | March | April | May | June | July | August | September | October | November | December |\n",
       "|---|---|---|---|---|---|---|---|---|---|---|---|---|\n",
       "| 2001 |  9.00000   |  11.83193  |   8.663866 |   4.495798 |   9.327731 | 12.15966   |   9.991597 |   9.823529 |   9.655462 |  17.48739  |  17.31933  |  20.15126  |\n",
       "| 2002 | 16.98319   |  12.81513  |  17.647059 |  20.478992 |  18.310924 | 18.14286   |  17.974790 |  25.806723 |  25.638655 |  28.47059  |  25.30252  |  21.13445  |\n",
       "| 2003 | 25.96639   |  28.79832  |  26.630252 |  26.462185 |  26.294118 | 34.12605   |  33.957983 |  36.789916 |  33.621849 |  29.45378  |  34.28571  |  37.11765  |\n",
       "| 2004 | 34.94958   |  34.78151  |  34.613445 |  42.445378 |  42.277311 | 45.10924   |  41.941176 |  37.773109 |  42.605042 |  45.43697  |  43.26891  |  43.10084  |\n",
       "| 2005 | 42.93277   |  50.76471  |  50.596639 |  53.428571 |  50.260504 | 46.09244   |  50.924370 |  53.756303 |  51.588235 |  51.42017  |  51.25210  |  59.08403  |\n",
       "| 2006 | 58.91597   |  61.74790  |  58.579832 |  54.411765 |  59.243697 | 62.07563   |  59.907563 |  59.739496 |  59.571429 |  67.40336  |  67.23529  |  70.06723  |\n",
       "| 2007 | 66.89916   |  62.73109  |  67.563025 |  70.394958 |  68.226891 | 68.05882   |  67.890756 |  75.722689 |  75.554622 |  78.38655  |  75.21849  |  71.05042  |\n",
       "| 2008 | 75.88235   |  78.71429  |  76.546218 |  76.378151 |  76.210084 | 84.04202   |  83.873950 |  86.705882 |  83.537815 |  79.36975  |  84.20168  |  87.03361  |\n",
       "| 2009 | 84.86555   |  84.69748  |  84.529412 |  92.361345 |  92.193277 | 95.02521   |  91.857143 |  87.689076 |  92.521008 |  95.35294  |  93.18487  |  93.01681  |\n",
       "| 2010 | 92.84874   | 100.68067  | 100.512605 | 103.344538 | 100.176471 | 96.00840   | 100.840336 | 103.672269 | 101.504202 | 101.33613  | 101.16807  | 109.00000  |\n",
       "\n"
      ],
      "text/plain": [
       "     January  February  March      April      May        June     July      \n",
       "2001  9.00000  11.83193   8.663866   4.495798   9.327731 12.15966   9.991597\n",
       "2002 16.98319  12.81513  17.647059  20.478992  18.310924 18.14286  17.974790\n",
       "2003 25.96639  28.79832  26.630252  26.462185  26.294118 34.12605  33.957983\n",
       "2004 34.94958  34.78151  34.613445  42.445378  42.277311 45.10924  41.941176\n",
       "2005 42.93277  50.76471  50.596639  53.428571  50.260504 46.09244  50.924370\n",
       "2006 58.91597  61.74790  58.579832  54.411765  59.243697 62.07563  59.907563\n",
       "2007 66.89916  62.73109  67.563025  70.394958  68.226891 68.05882  67.890756\n",
       "2008 75.88235  78.71429  76.546218  76.378151  76.210084 84.04202  83.873950\n",
       "2009 84.86555  84.69748  84.529412  92.361345  92.193277 95.02521  91.857143\n",
       "2010 92.84874 100.68067 100.512605 103.344538 100.176471 96.00840 100.840336\n",
       "     August     September  October   November  December \n",
       "2001   9.823529   9.655462  17.48739  17.31933  20.15126\n",
       "2002  25.806723  25.638655  28.47059  25.30252  21.13445\n",
       "2003  36.789916  33.621849  29.45378  34.28571  37.11765\n",
       "2004  37.773109  42.605042  45.43697  43.26891  43.10084\n",
       "2005  53.756303  51.588235  51.42017  51.25210  59.08403\n",
       "2006  59.739496  59.571429  67.40336  67.23529  70.06723\n",
       "2007  75.722689  75.554622  78.38655  75.21849  71.05042\n",
       "2008  86.705882  83.537815  79.36975  84.20168  87.03361\n",
       "2009  87.689076  92.521008  95.35294  93.18487  93.01681\n",
       "2010 103.672269 101.504202 101.33613 101.16807 109.00000"
      ]
     },
     "metadata": {},
     "output_type": "display_data"
    }
   ],
   "source": [
    "random_matrix"
   ]
  },
  {
   "cell_type": "code",
   "execution_count": 21,
   "metadata": {
    "scrolled": true
   },
   "outputs": [
    {
     "data": {
      "text/html": [
       "<table>\n",
       "<thead><tr><th></th><th scope=col>2001</th><th scope=col>2002</th><th scope=col>2003</th><th scope=col>2004</th><th scope=col>2005</th><th scope=col>2006</th><th scope=col>2007</th><th scope=col>2008</th><th scope=col>2009</th><th scope=col>2010</th></tr></thead>\n",
       "<tbody>\n",
       "\t<tr><th scope=row>January</th><td> 9.000000</td><td>16.98319 </td><td>25.96639 </td><td>34.94958 </td><td>42.93277 </td><td>58.91597 </td><td>66.89916 </td><td>75.88235 </td><td>84.86555 </td><td> 92.84874</td></tr>\n",
       "\t<tr><th scope=row>February</th><td>11.831933</td><td>12.81513 </td><td>28.79832 </td><td>34.78151 </td><td>50.76471 </td><td>61.74790 </td><td>62.73109 </td><td>78.71429 </td><td>84.69748 </td><td>100.68067</td></tr>\n",
       "\t<tr><th scope=row>March</th><td> 8.663866</td><td>17.64706 </td><td>26.63025 </td><td>34.61345 </td><td>50.59664 </td><td>58.57983 </td><td>67.56303 </td><td>76.54622 </td><td>84.52941 </td><td>100.51261</td></tr>\n",
       "\t<tr><th scope=row>April</th><td> 4.495798</td><td>20.47899 </td><td>26.46218 </td><td>42.44538 </td><td>53.42857 </td><td>54.41176 </td><td>70.39496 </td><td>76.37815 </td><td>92.36134 </td><td>103.34454</td></tr>\n",
       "\t<tr><th scope=row>May</th><td> 9.327731</td><td>18.31092 </td><td>26.29412 </td><td>42.27731 </td><td>50.26050 </td><td>59.24370 </td><td>68.22689 </td><td>76.21008 </td><td>92.19328 </td><td>100.17647</td></tr>\n",
       "\t<tr><th scope=row>June</th><td>12.159664</td><td>18.14286 </td><td>34.12605 </td><td>45.10924 </td><td>46.09244 </td><td>62.07563 </td><td>68.05882 </td><td>84.04202 </td><td>95.02521 </td><td> 96.00840</td></tr>\n",
       "\t<tr><th scope=row>July</th><td> 9.991597</td><td>17.97479 </td><td>33.95798 </td><td>41.94118 </td><td>50.92437 </td><td>59.90756 </td><td>67.89076 </td><td>83.87395 </td><td>91.85714 </td><td>100.84034</td></tr>\n",
       "\t<tr><th scope=row>August</th><td> 9.823529</td><td>25.80672 </td><td>36.78992 </td><td>37.77311 </td><td>53.75630 </td><td>59.73950 </td><td>75.72269 </td><td>86.70588 </td><td>87.68908 </td><td>103.67227</td></tr>\n",
       "\t<tr><th scope=row>September</th><td> 9.655462</td><td>25.63866 </td><td>33.62185 </td><td>42.60504 </td><td>51.58824 </td><td>59.57143 </td><td>75.55462 </td><td>83.53782 </td><td>92.52101 </td><td>101.50420</td></tr>\n",
       "\t<tr><th scope=row>October</th><td>17.487395</td><td>28.47059 </td><td>29.45378 </td><td>45.43697 </td><td>51.42017 </td><td>67.40336 </td><td>78.38655 </td><td>79.36975 </td><td>95.35294 </td><td>101.33613</td></tr>\n",
       "\t<tr><th scope=row>November</th><td>17.319328</td><td>25.30252 </td><td>34.28571 </td><td>43.26891 </td><td>51.25210 </td><td>67.23529 </td><td>75.21849 </td><td>84.20168 </td><td>93.18487 </td><td>101.16807</td></tr>\n",
       "\t<tr><th scope=row>December</th><td>20.151261</td><td>21.13445 </td><td>37.11765 </td><td>43.10084 </td><td>59.08403 </td><td>70.06723 </td><td>71.05042 </td><td>87.03361 </td><td>93.01681 </td><td>109.00000</td></tr>\n",
       "</tbody>\n",
       "</table>\n"
      ],
      "text/latex": [
       "\\begin{tabular}{r|llllllllll}\n",
       "  & 2001 & 2002 & 2003 & 2004 & 2005 & 2006 & 2007 & 2008 & 2009 & 2010\\\\\n",
       "\\hline\n",
       "\tJanuary &  9.000000 & 16.98319  & 25.96639  & 34.94958  & 42.93277  & 58.91597  & 66.89916  & 75.88235  & 84.86555  &  92.84874\\\\\n",
       "\tFebruary & 11.831933 & 12.81513  & 28.79832  & 34.78151  & 50.76471  & 61.74790  & 62.73109  & 78.71429  & 84.69748  & 100.68067\\\\\n",
       "\tMarch &  8.663866 & 17.64706  & 26.63025  & 34.61345  & 50.59664  & 58.57983  & 67.56303  & 76.54622  & 84.52941  & 100.51261\\\\\n",
       "\tApril &  4.495798 & 20.47899  & 26.46218  & 42.44538  & 53.42857  & 54.41176  & 70.39496  & 76.37815  & 92.36134  & 103.34454\\\\\n",
       "\tMay &  9.327731 & 18.31092  & 26.29412  & 42.27731  & 50.26050  & 59.24370  & 68.22689  & 76.21008  & 92.19328  & 100.17647\\\\\n",
       "\tJune & 12.159664 & 18.14286  & 34.12605  & 45.10924  & 46.09244  & 62.07563  & 68.05882  & 84.04202  & 95.02521  &  96.00840\\\\\n",
       "\tJuly &  9.991597 & 17.97479  & 33.95798  & 41.94118  & 50.92437  & 59.90756  & 67.89076  & 83.87395  & 91.85714  & 100.84034\\\\\n",
       "\tAugust &  9.823529 & 25.80672  & 36.78992  & 37.77311  & 53.75630  & 59.73950  & 75.72269  & 86.70588  & 87.68908  & 103.67227\\\\\n",
       "\tSeptember &  9.655462 & 25.63866  & 33.62185  & 42.60504  & 51.58824  & 59.57143  & 75.55462  & 83.53782  & 92.52101  & 101.50420\\\\\n",
       "\tOctober & 17.487395 & 28.47059  & 29.45378  & 45.43697  & 51.42017  & 67.40336  & 78.38655  & 79.36975  & 95.35294  & 101.33613\\\\\n",
       "\tNovember & 17.319328 & 25.30252  & 34.28571  & 43.26891  & 51.25210  & 67.23529  & 75.21849  & 84.20168  & 93.18487  & 101.16807\\\\\n",
       "\tDecember & 20.151261 & 21.13445  & 37.11765  & 43.10084  & 59.08403  & 70.06723  & 71.05042  & 87.03361  & 93.01681  & 109.00000\\\\\n",
       "\\end{tabular}\n"
      ],
      "text/markdown": [
       "\n",
       "| <!--/--> | 2001 | 2002 | 2003 | 2004 | 2005 | 2006 | 2007 | 2008 | 2009 | 2010 |\n",
       "|---|---|---|---|---|---|---|---|---|---|---|\n",
       "| January |  9.000000 | 16.98319  | 25.96639  | 34.94958  | 42.93277  | 58.91597  | 66.89916  | 75.88235  | 84.86555  |  92.84874 |\n",
       "| February | 11.831933 | 12.81513  | 28.79832  | 34.78151  | 50.76471  | 61.74790  | 62.73109  | 78.71429  | 84.69748  | 100.68067 |\n",
       "| March |  8.663866 | 17.64706  | 26.63025  | 34.61345  | 50.59664  | 58.57983  | 67.56303  | 76.54622  | 84.52941  | 100.51261 |\n",
       "| April |  4.495798 | 20.47899  | 26.46218  | 42.44538  | 53.42857  | 54.41176  | 70.39496  | 76.37815  | 92.36134  | 103.34454 |\n",
       "| May |  9.327731 | 18.31092  | 26.29412  | 42.27731  | 50.26050  | 59.24370  | 68.22689  | 76.21008  | 92.19328  | 100.17647 |\n",
       "| June | 12.159664 | 18.14286  | 34.12605  | 45.10924  | 46.09244  | 62.07563  | 68.05882  | 84.04202  | 95.02521  |  96.00840 |\n",
       "| July |  9.991597 | 17.97479  | 33.95798  | 41.94118  | 50.92437  | 59.90756  | 67.89076  | 83.87395  | 91.85714  | 100.84034 |\n",
       "| August |  9.823529 | 25.80672  | 36.78992  | 37.77311  | 53.75630  | 59.73950  | 75.72269  | 86.70588  | 87.68908  | 103.67227 |\n",
       "| September |  9.655462 | 25.63866  | 33.62185  | 42.60504  | 51.58824  | 59.57143  | 75.55462  | 83.53782  | 92.52101  | 101.50420 |\n",
       "| October | 17.487395 | 28.47059  | 29.45378  | 45.43697  | 51.42017  | 67.40336  | 78.38655  | 79.36975  | 95.35294  | 101.33613 |\n",
       "| November | 17.319328 | 25.30252  | 34.28571  | 43.26891  | 51.25210  | 67.23529  | 75.21849  | 84.20168  | 93.18487  | 101.16807 |\n",
       "| December | 20.151261 | 21.13445  | 37.11765  | 43.10084  | 59.08403  | 70.06723  | 71.05042  | 87.03361  | 93.01681  | 109.00000 |\n",
       "\n"
      ],
      "text/plain": [
       "          2001      2002     2003     2004     2005     2006     2007    \n",
       "January    9.000000 16.98319 25.96639 34.94958 42.93277 58.91597 66.89916\n",
       "February  11.831933 12.81513 28.79832 34.78151 50.76471 61.74790 62.73109\n",
       "March      8.663866 17.64706 26.63025 34.61345 50.59664 58.57983 67.56303\n",
       "April      4.495798 20.47899 26.46218 42.44538 53.42857 54.41176 70.39496\n",
       "May        9.327731 18.31092 26.29412 42.27731 50.26050 59.24370 68.22689\n",
       "June      12.159664 18.14286 34.12605 45.10924 46.09244 62.07563 68.05882\n",
       "July       9.991597 17.97479 33.95798 41.94118 50.92437 59.90756 67.89076\n",
       "August     9.823529 25.80672 36.78992 37.77311 53.75630 59.73950 75.72269\n",
       "September  9.655462 25.63866 33.62185 42.60504 51.58824 59.57143 75.55462\n",
       "October   17.487395 28.47059 29.45378 45.43697 51.42017 67.40336 78.38655\n",
       "November  17.319328 25.30252 34.28571 43.26891 51.25210 67.23529 75.21849\n",
       "December  20.151261 21.13445 37.11765 43.10084 59.08403 70.06723 71.05042\n",
       "          2008     2009     2010     \n",
       "January   75.88235 84.86555  92.84874\n",
       "February  78.71429 84.69748 100.68067\n",
       "March     76.54622 84.52941 100.51261\n",
       "April     76.37815 92.36134 103.34454\n",
       "May       76.21008 92.19328 100.17647\n",
       "June      84.04202 95.02521  96.00840\n",
       "July      83.87395 91.85714 100.84034\n",
       "August    86.70588 87.68908 103.67227\n",
       "September 83.53782 92.52101 101.50420\n",
       "October   79.36975 95.35294 101.33613\n",
       "November  84.20168 93.18487 101.16807\n",
       "December  87.03361 93.01681 109.00000"
      ]
     },
     "metadata": {},
     "output_type": "display_data"
    }
   ],
   "source": [
    "t(random_matrix)"
   ]
  },
  {
   "cell_type": "code",
   "execution_count": 22,
   "metadata": {},
   "outputs": [
    {
     "data": {
      "image/png": "[encoded data removed]",
      "text/plain": [
       "plot without title"
      ]
     },
     "metadata": {},
     "output_type": "display_data"
    }
   ],
   "source": [
    "plot(tsobj)"
   ]
  },
  {
   "cell_type": "code",
   "execution_count": null,
   "metadata": {},
   "outputs": [],
   "source": []
  },
  {
   "cell_type": "code",
   "execution_count": null,
   "metadata": {},
   "outputs": [],
   "source": []
  },
  {
   "cell_type": "code",
   "execution_count": null,
   "metadata": {},
   "outputs": [],
   "source": []
  },
  {
   "cell_type": "code",
   "execution_count": 23,
   "metadata": {},
   "outputs": [
    {
     "data": {
      "text/html": [
       "<ol class=list-inline>\n",
       "\t<li>10</li>\n",
       "\t<li>4.83193277310924</li>\n",
       "\t<li>8.66386554621849</li>\n",
       "\t<li>7.49579831932773</li>\n",
       "\t<li>6.32773109243698</li>\n",
       "\t<li>12.1596638655462</li>\n",
       "\t<li>10.9915966386555</li>\n",
       "\t<li>16.8235294117647</li>\n",
       "\t<li>8.65546218487395</li>\n",
       "\t<li>16.4873949579832</li>\n",
       "\t<li>18.3193277310924</li>\n",
       "\t<li>13.1512605042017</li>\n",
       "\t<li>16.9831932773109</li>\n",
       "\t<li>15.8151260504202</li>\n",
       "\t<li>14.6470588235294</li>\n",
       "\t<li>20.4789915966387</li>\n",
       "\t<li>19.3109243697479</li>\n",
       "\t<li>25.1428571428571</li>\n",
       "\t<li>16.9747899159664</li>\n",
       "\t<li>24.8067226890756</li>\n",
       "\t<li>26.6386554621849</li>\n",
       "\t<li>21.4705882352941</li>\n",
       "\t<li>25.3025210084034</li>\n",
       "\t<li>24.1344537815126</li>\n",
       "\t<li>22.9663865546218</li>\n",
       "\t<li>28.7983193277311</li>\n",
       "\t<li>27.6302521008403</li>\n",
       "\t<li>33.4621848739496</li>\n",
       "\t<li>25.2941176470588</li>\n",
       "\t<li>33.1260504201681</li>\n",
       "\t<li>34.9579831932773</li>\n",
       "\t<li>29.7899159663866</li>\n",
       "\t<li>33.6218487394958</li>\n",
       "\t<li>32.453781512605</li>\n",
       "\t<li>31.2857142857143</li>\n",
       "\t<li>37.1176470588235</li>\n",
       "\t<li>35.9495798319328</li>\n",
       "\t<li>41.781512605042</li>\n",
       "\t<li>33.6134453781513</li>\n",
       "\t<li>41.4453781512605</li>\n",
       "\t<li>43.2773109243698</li>\n",
       "\t<li>38.109243697479</li>\n",
       "\t<li>41.9411764705882</li>\n",
       "\t<li>40.7731092436975</li>\n",
       "\t<li>39.6050420168067</li>\n",
       "\t<li>45.436974789916</li>\n",
       "\t<li>44.2689075630252</li>\n",
       "\t<li>50.1008403361345</li>\n",
       "\t<li>41.9327731092437</li>\n",
       "\t<li>49.7647058823529</li>\n",
       "\t<li>51.5966386554622</li>\n",
       "\t<li>46.4285714285714</li>\n",
       "\t<li>50.2605042016807</li>\n",
       "\t<li>49.0924369747899</li>\n",
       "\t<li>47.9243697478992</li>\n",
       "\t<li>53.7563025210084</li>\n",
       "\t<li>52.5882352941177</li>\n",
       "\t<li>58.4201680672269</li>\n",
       "\t<li>50.2521008403361</li>\n",
       "\t<li>58.0840336134454</li>\n",
       "\t<li>59.9159663865546</li>\n",
       "\t<li>54.7478991596639</li>\n",
       "\t<li>58.5798319327731</li>\n",
       "\t<li>57.4117647058824</li>\n",
       "\t<li>56.2436974789916</li>\n",
       "\t<li>62.0756302521008</li>\n",
       "\t<li>60.9075630252101</li>\n",
       "\t<li>66.7394957983193</li>\n",
       "\t<li>58.5714285714286</li>\n",
       "\t<li>66.4033613445378</li>\n",
       "\t<li>68.2352941176471</li>\n",
       "\t<li>63.0672268907563</li>\n",
       "\t<li>66.8991596638655</li>\n",
       "\t<li>65.7310924369748</li>\n",
       "\t<li>64.563025210084</li>\n",
       "\t<li>70.3949579831933</li>\n",
       "\t<li>69.2268907563025</li>\n",
       "\t<li>75.0588235294118</li>\n",
       "\t<li>66.890756302521</li>\n",
       "\t<li>74.7226890756303</li>\n",
       "\t<li>76.5546218487395</li>\n",
       "\t<li>71.3865546218487</li>\n",
       "\t<li>75.218487394958</li>\n",
       "\t<li>74.0504201680672</li>\n",
       "\t<li>72.8823529411765</li>\n",
       "\t<li>78.7142857142857</li>\n",
       "\t<li>77.546218487395</li>\n",
       "\t<li>83.3781512605042</li>\n",
       "\t<li>75.2100840336135</li>\n",
       "\t<li>83.0420168067227</li>\n",
       "\t<li>84.8739495798319</li>\n",
       "\t<li>79.7058823529412</li>\n",
       "\t<li>83.5378151260504</li>\n",
       "\t<li>82.3697478991597</li>\n",
       "\t<li>81.2016806722689</li>\n",
       "\t<li>87.0336134453782</li>\n",
       "\t<li>85.8655462184874</li>\n",
       "\t<li>91.6974789915966</li>\n",
       "\t<li>83.5294117647059</li>\n",
       "\t<li>91.3613445378151</li>\n",
       "\t<li>93.1932773109244</li>\n",
       "\t<li>88.0252100840336</li>\n",
       "\t<li>91.8571428571429</li>\n",
       "\t<li>90.6890756302521</li>\n",
       "\t<li>89.5210084033613</li>\n",
       "\t<li>95.3529411764706</li>\n",
       "\t<li>94.1848739495798</li>\n",
       "\t<li>100.016806722689</li>\n",
       "\t<li>91.8487394957983</li>\n",
       "\t<li>99.6806722689076</li>\n",
       "\t<li>101.512605042017</li>\n",
       "\t<li>96.3445378151261</li>\n",
       "\t<li>100.176470588235</li>\n",
       "\t<li>99.0084033613445</li>\n",
       "\t<li>97.8403361344538</li>\n",
       "\t<li>103.672268907563</li>\n",
       "\t<li>102.504201680672</li>\n",
       "\t<li>108.336134453782</li>\n",
       "\t<li>100.168067226891</li>\n",
       "\t<li>108</li>\n",
       "</ol>\n"
      ],
      "text/latex": [
       "\\begin{enumerate*}\n",
       "\\item 10\n",
       "\\item 4.83193277310924\n",
       "\\item 8.66386554621849\n",
       "\\item 7.49579831932773\n",
       "\\item 6.32773109243698\n",
       "\\item 12.1596638655462\n",
       "\\item 10.9915966386555\n",
       "\\item 16.8235294117647\n",
       "\\item 8.65546218487395\n",
       "\\item 16.4873949579832\n",
       "\\item 18.3193277310924\n",
       "\\item 13.1512605042017\n",
       "\\item 16.9831932773109\n",
       "\\item 15.8151260504202\n",
       "\\item 14.6470588235294\n",
       "\\item 20.4789915966387\n",
       "\\item 19.3109243697479\n",
       "\\item 25.1428571428571\n",
       "\\item 16.9747899159664\n",
       "\\item 24.8067226890756\n",
       "\\item 26.6386554621849\n",
       "\\item 21.4705882352941\n",
       "\\item 25.3025210084034\n",
       "\\item 24.1344537815126\n",
       "\\item 22.9663865546218\n",
       "\\item 28.7983193277311\n",
       "\\item 27.6302521008403\n",
       "\\item 33.4621848739496\n",
       "\\item 25.2941176470588\n",
       "\\item 33.1260504201681\n",
       "\\item 34.9579831932773\n",
       "\\item 29.7899159663866\n",
       "\\item 33.6218487394958\n",
       "\\item 32.453781512605\n",
       "\\item 31.2857142857143\n",
       "\\item 37.1176470588235\n",
       "\\item 35.9495798319328\n",
       "\\item 41.781512605042\n",
       "\\item 33.6134453781513\n",
       "\\item 41.4453781512605\n",
       "\\item 43.2773109243698\n",
       "\\item 38.109243697479\n",
       "\\item 41.9411764705882\n",
       "\\item 40.7731092436975\n",
       "\\item 39.6050420168067\n",
       "\\item 45.436974789916\n",
       "\\item 44.2689075630252\n",
       "\\item 50.1008403361345\n",
       "\\item 41.9327731092437\n",
       "\\item 49.7647058823529\n",
       "\\item 51.5966386554622\n",
       "\\item 46.4285714285714\n",
       "\\item 50.2605042016807\n",
       "\\item 49.0924369747899\n",
       "\\item 47.9243697478992\n",
       "\\item 53.7563025210084\n",
       "\\item 52.5882352941177\n",
       "\\item 58.4201680672269\n",
       "\\item 50.2521008403361\n",
       "\\item 58.0840336134454\n",
       "\\item 59.9159663865546\n",
       "\\item 54.7478991596639\n",
       "\\item 58.5798319327731\n",
       "\\item 57.4117647058824\n",
       "\\item 56.2436974789916\n",
       "\\item 62.0756302521008\n",
       "\\item 60.9075630252101\n",
       "\\item 66.7394957983193\n",
       "\\item 58.5714285714286\n",
       "\\item 66.4033613445378\n",
       "\\item 68.2352941176471\n",
       "\\item 63.0672268907563\n",
       "\\item 66.8991596638655\n",
       "\\item 65.7310924369748\n",
       "\\item 64.563025210084\n",
       "\\item 70.3949579831933\n",
       "\\item 69.2268907563025\n",
       "\\item 75.0588235294118\n",
       "\\item 66.890756302521\n",
       "\\item 74.7226890756303\n",
       "\\item 76.5546218487395\n",
       "\\item 71.3865546218487\n",
       "\\item 75.218487394958\n",
       "\\item 74.0504201680672\n",
       "\\item 72.8823529411765\n",
       "\\item 78.7142857142857\n",
       "\\item 77.546218487395\n",
       "\\item 83.3781512605042\n",
       "\\item 75.2100840336135\n",
       "\\item 83.0420168067227\n",
       "\\item 84.8739495798319\n",
       "\\item 79.7058823529412\n",
       "\\item 83.5378151260504\n",
       "\\item 82.3697478991597\n",
       "\\item 81.2016806722689\n",
       "\\item 87.0336134453782\n",
       "\\item 85.8655462184874\n",
       "\\item 91.6974789915966\n",
       "\\item 83.5294117647059\n",
       "\\item 91.3613445378151\n",
       "\\item 93.1932773109244\n",
       "\\item 88.0252100840336\n",
       "\\item 91.8571428571429\n",
       "\\item 90.6890756302521\n",
       "\\item 89.5210084033613\n",
       "\\item 95.3529411764706\n",
       "\\item 94.1848739495798\n",
       "\\item 100.016806722689\n",
       "\\item 91.8487394957983\n",
       "\\item 99.6806722689076\n",
       "\\item 101.512605042017\n",
       "\\item 96.3445378151261\n",
       "\\item 100.176470588235\n",
       "\\item 99.0084033613445\n",
       "\\item 97.8403361344538\n",
       "\\item 103.672268907563\n",
       "\\item 102.504201680672\n",
       "\\item 108.336134453782\n",
       "\\item 100.168067226891\n",
       "\\item 108\n",
       "\\end{enumerate*}\n"
      ],
      "text/markdown": [
       "1. 10\n",
       "2. 4.83193277310924\n",
       "3. 8.66386554621849\n",
       "4. 7.49579831932773\n",
       "5. 6.32773109243698\n",
       "6. 12.1596638655462\n",
       "7. 10.9915966386555\n",
       "8. 16.8235294117647\n",
       "9. 8.65546218487395\n",
       "10. 16.4873949579832\n",
       "11. 18.3193277310924\n",
       "12. 13.1512605042017\n",
       "13. 16.9831932773109\n",
       "14. 15.8151260504202\n",
       "15. 14.6470588235294\n",
       "16. 20.4789915966387\n",
       "17. 19.3109243697479\n",
       "18. 25.1428571428571\n",
       "19. 16.9747899159664\n",
       "20. 24.8067226890756\n",
       "21. 26.6386554621849\n",
       "22. 21.4705882352941\n",
       "23. 25.3025210084034\n",
       "24. 24.1344537815126\n",
       "25. 22.9663865546218\n",
       "26. 28.7983193277311\n",
       "27. 27.6302521008403\n",
       "28. 33.4621848739496\n",
       "29. 25.2941176470588\n",
       "30. 33.1260504201681\n",
       "31. 34.9579831932773\n",
       "32. 29.7899159663866\n",
       "33. 33.6218487394958\n",
       "34. 32.453781512605\n",
       "35. 31.2857142857143\n",
       "36. 37.1176470588235\n",
       "37. 35.9495798319328\n",
       "38. 41.781512605042\n",
       "39. 33.6134453781513\n",
       "40. 41.4453781512605\n",
       "41. 43.2773109243698\n",
       "42. 38.109243697479\n",
       "43. 41.9411764705882\n",
       "44. 40.7731092436975\n",
       "45. 39.6050420168067\n",
       "46. 45.436974789916\n",
       "47. 44.2689075630252\n",
       "48. 50.1008403361345\n",
       "49. 41.9327731092437\n",
       "50. 49.7647058823529\n",
       "51. 51.5966386554622\n",
       "52. 46.4285714285714\n",
       "53. 50.2605042016807\n",
       "54. 49.0924369747899\n",
       "55. 47.9243697478992\n",
       "56. 53.7563025210084\n",
       "57. 52.5882352941177\n",
       "58. 58.4201680672269\n",
       "59. 50.2521008403361\n",
       "60. 58.0840336134454\n",
       "61. 59.9159663865546\n",
       "62. 54.7478991596639\n",
       "63. 58.5798319327731\n",
       "64. 57.4117647058824\n",
       "65. 56.2436974789916\n",
       "66. 62.0756302521008\n",
       "67. 60.9075630252101\n",
       "68. 66.7394957983193\n",
       "69. 58.5714285714286\n",
       "70. 66.4033613445378\n",
       "71. 68.2352941176471\n",
       "72. 63.0672268907563\n",
       "73. 66.8991596638655\n",
       "74. 65.7310924369748\n",
       "75. 64.563025210084\n",
       "76. 70.3949579831933\n",
       "77. 69.2268907563025\n",
       "78. 75.0588235294118\n",
       "79. 66.890756302521\n",
       "80. 74.7226890756303\n",
       "81. 76.5546218487395\n",
       "82. 71.3865546218487\n",
       "83. 75.218487394958\n",
       "84. 74.0504201680672\n",
       "85. 72.8823529411765\n",
       "86. 78.7142857142857\n",
       "87. 77.546218487395\n",
       "88. 83.3781512605042\n",
       "89. 75.2100840336135\n",
       "90. 83.0420168067227\n",
       "91. 84.8739495798319\n",
       "92. 79.7058823529412\n",
       "93. 83.5378151260504\n",
       "94. 82.3697478991597\n",
       "95. 81.2016806722689\n",
       "96. 87.0336134453782\n",
       "97. 85.8655462184874\n",
       "98. 91.6974789915966\n",
       "99. 83.5294117647059\n",
       "100. 91.3613445378151\n",
       "101. 93.1932773109244\n",
       "102. 88.0252100840336\n",
       "103. 91.8571428571429\n",
       "104. 90.6890756302521\n",
       "105. 89.5210084033613\n",
       "106. 95.3529411764706\n",
       "107. 94.1848739495798\n",
       "108. 100.016806722689\n",
       "109. 91.8487394957983\n",
       "110. 99.6806722689076\n",
       "111. 101.512605042017\n",
       "112. 96.3445378151261\n",
       "113. 100.176470588235\n",
       "114. 99.0084033613445\n",
       "115. 97.8403361344538\n",
       "116. 103.672268907563\n",
       "117. 102.504201680672\n",
       "118. 108.336134453782\n",
       "119. 100.168067226891\n",
       "120. 108\n",
       "\n",
       "\n"
      ],
      "text/plain": [
       "  [1]  10.000000   4.831933   8.663866   7.495798   6.327731  12.159664\n",
       "  [7]  10.991597  16.823529   8.655462  16.487395  18.319328  13.151261\n",
       " [13]  16.983193  15.815126  14.647059  20.478992  19.310924  25.142857\n",
       " [19]  16.974790  24.806723  26.638655  21.470588  25.302521  24.134454\n",
       " [25]  22.966387  28.798319  27.630252  33.462185  25.294118  33.126050\n",
       " [31]  34.957983  29.789916  33.621849  32.453782  31.285714  37.117647\n",
       " [37]  35.949580  41.781513  33.613445  41.445378  43.277311  38.109244\n",
       " [43]  41.941176  40.773109  39.605042  45.436975  44.268908  50.100840\n",
       " [49]  41.932773  49.764706  51.596639  46.428571  50.260504  49.092437\n",
       " [55]  47.924370  53.756303  52.588235  58.420168  50.252101  58.084034\n",
       " [61]  59.915966  54.747899  58.579832  57.411765  56.243697  62.075630\n",
       " [67]  60.907563  66.739496  58.571429  66.403361  68.235294  63.067227\n",
       " [73]  66.899160  65.731092  64.563025  70.394958  69.226891  75.058824\n",
       " [79]  66.890756  74.722689  76.554622  71.386555  75.218487  74.050420\n",
       " [85]  72.882353  78.714286  77.546218  83.378151  75.210084  83.042017\n",
       " [91]  84.873950  79.705882  83.537815  82.369748  81.201681  87.033613\n",
       " [97]  85.865546  91.697479  83.529412  91.361345  93.193277  88.025210\n",
       "[103]  91.857143  90.689076  89.521008  95.352941  94.184874 100.016807\n",
       "[109]  91.848739  99.680672 101.512605  96.344538 100.176471  99.008403\n",
       "[115]  97.840336 103.672269 102.504202 108.336134 100.168067 108.000000"
      ]
     },
     "metadata": {},
     "output_type": "display_data"
    }
   ],
   "source": [
    "# Generate random monthly data over for ten years\n",
    "random_data <- seq(1, 100, length.out=120) + sample(1:10) # Add a little random noise\n",
    "# Convert our random data to a matrix\n",
    "\n",
    "random_data"
   ]
  },
  {
   "cell_type": "code",
   "execution_count": 24,
   "metadata": {},
   "outputs": [
    {
     "name": "stdout",
     "output_type": "stream",
     "text": [
      "            Jan        Feb        Mar        Apr        May        Jun\n",
      "2001  10.000000   4.831933   8.663866   7.495798   6.327731  12.159664\n",
      "2002  16.983193  15.815126  14.647059  20.478992  19.310924  25.142857\n",
      "2003  22.966387  28.798319  27.630252  33.462185  25.294118  33.126050\n",
      "2004  35.949580  41.781513  33.613445  41.445378  43.277311  38.109244\n",
      "2005  41.932773  49.764706  51.596639  46.428571  50.260504  49.092437\n",
      "2006  59.915966  54.747899  58.579832  57.411765  56.243697  62.075630\n",
      "2007  66.899160  65.731092  64.563025  70.394958  69.226891  75.058824\n",
      "2008  72.882353  78.714286  77.546218  83.378151  75.210084  83.042017\n",
      "2009  85.865546  91.697479  83.529412  91.361345  93.193277  88.025210\n",
      "2010  91.848739  99.680672 101.512605  96.344538 100.176471  99.008403\n",
      "            Jul        Aug        Sep        Oct        Nov        Dec\n",
      "2001  10.991597  16.823529   8.655462  16.487395  18.319328  13.151261\n",
      "2002  16.974790  24.806723  26.638655  21.470588  25.302521  24.134454\n",
      "2003  34.957983  29.789916  33.621849  32.453782  31.285714  37.117647\n",
      "2004  41.941176  40.773109  39.605042  45.436975  44.268908  50.100840\n",
      "2005  47.924370  53.756303  52.588235  58.420168  50.252101  58.084034\n",
      "2006  60.907563  66.739496  58.571429  66.403361  68.235294  63.067227\n",
      "2007  66.890756  74.722689  76.554622  71.386555  75.218487  74.050420\n",
      "2008  84.873950  79.705882  83.537815  82.369748  81.201681  87.033613\n",
      "2009  91.857143  90.689076  89.521008  95.352941  94.184874 100.016807\n",
      "2010  97.840336 103.672269 102.504202 108.336134 100.168067 108.000000\n"
     ]
    }
   ],
   "source": [
    "random_time_series <- ts(random_data, frequency=12, start=2001, end=c(2010,12))\n",
    "print(random_time_series)"
   ]
  },
  {
   "cell_type": "code",
   "execution_count": 25,
   "metadata": {},
   "outputs": [
    {
     "data": {
      "text/html": [
       "<ol class=list-inline>\n",
       "\t<li>2001</li>\n",
       "\t<li>1</li>\n",
       "</ol>\n"
      ],
      "text/latex": [
       "\\begin{enumerate*}\n",
       "\\item 2001\n",
       "\\item 1\n",
       "\\end{enumerate*}\n"
      ],
      "text/markdown": [
       "1. 2001\n",
       "2. 1\n",
       "\n",
       "\n"
      ],
      "text/plain": [
       "[1] 2001    1"
      ]
     },
     "metadata": {},
     "output_type": "display_data"
    },
    {
     "data": {
      "text/html": [
       "<ol class=list-inline>\n",
       "\t<li>2010</li>\n",
       "\t<li>12</li>\n",
       "</ol>\n"
      ],
      "text/latex": [
       "\\begin{enumerate*}\n",
       "\\item 2010\n",
       "\\item 12\n",
       "\\end{enumerate*}\n"
      ],
      "text/markdown": [
       "1. 2010\n",
       "2. 12\n",
       "\n",
       "\n"
      ],
      "text/plain": [
       "[1] 2010   12"
      ]
     },
     "metadata": {},
     "output_type": "display_data"
    },
    {
     "data": {
      "text/html": [
       "12"
      ],
      "text/latex": [
       "12"
      ],
      "text/markdown": [
       "12"
      ],
      "text/plain": [
       "[1] 12"
      ]
     },
     "metadata": {},
     "output_type": "display_data"
    },
    {
     "data": {
      "text/html": [
       "0.0833333333333333"
      ],
      "text/latex": [
       "0.0833333333333333"
      ],
      "text/markdown": [
       "0.0833333333333333"
      ],
      "text/plain": [
       "[1] 0.08333333"
      ]
     },
     "metadata": {},
     "output_type": "display_data"
    }
   ],
   "source": [
    "start(random_time_series)\n",
    "end(random_time_series)\n",
    "frequency(random_time_series)\n",
    "deltat(random_time_series)"
   ]
  },
  {
   "cell_type": "code",
   "execution_count": 26,
   "metadata": {},
   "outputs": [
    {
     "data": {
      "image/png": "[encoded data removed]",
      "text/plain": [
       "plot without title"
      ]
     },
     "metadata": {},
     "output_type": "display_data"
    }
   ],
   "source": [
    "plot(random_time_series)"
   ]
  },
  {
   "cell_type": "code",
   "execution_count": null,
   "metadata": {},
   "outputs": [],
   "source": []
  },
  {
   "cell_type": "code",
   "execution_count": null,
   "metadata": {},
   "outputs": [],
   "source": []
  }
 ],
 "metadata": {
  "kernelspec": {
   "display_name": "R",
   "language": "R",
   "name": "ir"
  },
  "language_info": {
   "codemirror_mode": "r",
   "file_extension": ".r",
   "mimetype": "text/x-r-source",
   "name": "R",
   "pygments_lexer": "r",
   "version": "3.6.1"
  }
 },
 "nbformat": 4,
 "nbformat_minor": 2
}
