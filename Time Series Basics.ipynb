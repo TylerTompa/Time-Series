{
 "cells": [
  {
   "cell_type": "markdown",
   "metadata": {},
   "source": [
    "# Time Series\n",
    "\n",
    "Simply put, a time series is any data put into chronological order.  Time Series Analysis therefore is simply an analysis of how a subject has behaved over time."
   ]
  },
  {
   "cell_type": "code",
   "execution_count": 1,
   "metadata": {},
   "outputs": [
    {
     "name": "stdout",
     "output_type": "stream",
     "text": [
      "Time Series:\n",
      "Start = 1871 \n",
      "End = 1970 \n",
      "Frequency = 1 \n",
      "  [1] 1120 1160  963 1210 1160 1160  813 1230 1370 1140  995  935 1110  994 1020\n",
      " [16]  960 1180  799  958 1140 1100 1210 1150 1250 1260 1220 1030 1100  774  840\n",
      " [31]  874  694  940  833  701  916  692 1020 1050  969  831  726  456  824  702\n",
      " [46] 1120 1100  832  764  821  768  845  864  862  698  845  744  796 1040  759\n",
      " [61]  781  865  845  944  984  897  822 1010  771  676  649  846  812  742  801\n",
      " [76] 1040  860  874  848  890  744  749  838 1050  918  986  797  923  975  815\n",
      " [91] 1020  906  901 1170  912  746  919  718  714  740\n"
     ]
    }
   ],
   "source": [
    "# The built-in Nile object is a dataset recording the measurements of the annual flow of the Nile river.\n",
    "# It's class is \"ts,\" for time series.\n",
    "# Using the print() function on a time series object,\n",
    "# we can examine the start date, and end date, as well as the measurements.\n",
    "print(Nile)"
   ]
  },
  {
   "cell_type": "code",
   "execution_count": 2,
   "metadata": {},
   "outputs": [
    {
     "data": {
      "text/html": [
       "100"
      ],
      "text/latex": [
       "100"
      ],
      "text/markdown": [
       "100"
      ],
      "text/plain": [
       "[1] 100"
      ]
     },
     "metadata": {},
     "output_type": "display_data"
    },
    {
     "data": {
      "text/html": [
       "<ol class=list-inline>\n",
       "\t<li>1120</li>\n",
       "\t<li>1160</li>\n",
       "\t<li>963</li>\n",
       "\t<li>1210</li>\n",
       "\t<li>1160</li>\n",
       "</ol>\n"
      ],
      "text/latex": [
       "\\begin{enumerate*}\n",
       "\\item 1120\n",
       "\\item 1160\n",
       "\\item 963\n",
       "\\item 1210\n",
       "\\item 1160\n",
       "\\end{enumerate*}\n"
      ],
      "text/markdown": [
       "1. 1120\n",
       "2. 1160\n",
       "3. 963\n",
       "4. 1210\n",
       "5. 1160\n",
       "\n",
       "\n"
      ],
      "text/plain": [
       "[1] 1120 1160  963 1210 1160"
      ]
     },
     "metadata": {},
     "output_type": "display_data"
    },
    {
     "data": {
      "text/html": [
       "<ol class=list-inline>\n",
       "\t<li>746</li>\n",
       "\t<li>919</li>\n",
       "\t<li>718</li>\n",
       "\t<li>714</li>\n",
       "\t<li>740</li>\n",
       "</ol>\n"
      ],
      "text/latex": [
       "\\begin{enumerate*}\n",
       "\\item 746\n",
       "\\item 919\n",
       "\\item 718\n",
       "\\item 714\n",
       "\\item 740\n",
       "\\end{enumerate*}\n"
      ],
      "text/markdown": [
       "1. 746\n",
       "2. 919\n",
       "3. 718\n",
       "4. 714\n",
       "5. 740\n",
       "\n",
       "\n"
      ],
      "text/plain": [
       "[1] 746 919 718 714 740"
      ]
     },
     "metadata": {},
     "output_type": "display_data"
    }
   ],
   "source": [
    "# Similarly to dataframes, we can view other metadata about this time series\n",
    "length(Nile)\n",
    "head(Nile, 5)\n",
    "tail(Nile, 5)\n",
    "\n",
    "# Right off the bat, we can already see that the last few values are much less than the first few."
   ]
  },
  {
   "cell_type": "code",
   "execution_count": 3,
   "metadata": {
    "scrolled": true
   },
   "outputs": [
    {
     "data": {
      "image/png": "[encoded data removed]",
      "text/plain": [
       "Plot with title \"Annual Flow of Nile River \n",
       " 1871-1970\""
      ]
     },
     "metadata": {},
     "output_type": "display_data"
    }
   ],
   "source": [
    "# Is it also useful to visualize your time series before digging any deeper.\n",
    "plot(Nile, xlab=\"Year\", ylab= expression('River Volume 1e9 m'^3) , main=\"Annual Flow of Nile River \\n 1871-1970\")"
   ]
  },
  {
   "cell_type": "markdown",
   "metadata": {},
   "source": [
    "# Descriptive Information about Time Series\n",
    "\n",
    "Time series data can come in a variety of formats.  Among these are:\n",
    "\n",
    "1. Data that is exactly evenly-spaced, such as the temperature at every hour.\n",
    "2. Data that is approximately evenly-spaced, such as the temperature recorded every time you stand up from your desk.\n",
    "3. Data that is evenly spaced, but with missing values, such as the temperature recorded, but only during working hours.  This would give us a few consecutive hours, then a large pause, then another set of consecutive values, and so on.\n",
    "\n",
    "Time series analysis begins with a few assumptions:\n",
    "1. Consecutive observations are evenly-spaced.\n",
    "2. A discrete time-observation index is used. \n",
    "\n",
    "In practice, this may only hold approximately.  Depending on the circumstances, we can sometimes ignore small discrepancies and perform our analysis as if the frequencies were exact."
   ]
  },
  {
   "cell_type": "code",
   "execution_count": 4,
   "metadata": {
    "scrolled": true
   },
   "outputs": [
    {
     "data": {
      "image/png": "[encoded data removed]",
      "text/plain": [
       "plot without title"
      ]
     },
     "metadata": {},
     "output_type": "display_data"
    }
   ],
   "source": [
    "# Consider the AirPassengers dataset,\n",
    "# which records the total international airline passengers in thousands by month\n",
    "plot(AirPassengers)"
   ]
  },
  {
   "cell_type": "code",
   "execution_count": 5,
   "metadata": {},
   "outputs": [
    {
     "data": {
      "text/html": [
       "12"
      ],
      "text/latex": [
       "12"
      ],
      "text/markdown": [
       "12"
      ],
      "text/plain": [
       "[1] 12"
      ]
     },
     "metadata": {},
     "output_type": "display_data"
    },
    {
     "data": {
      "text/html": [
       "<ol class=list-inline>\n",
       "\t<li>1949</li>\n",
       "\t<li>1</li>\n",
       "</ol>\n"
      ],
      "text/latex": [
       "\\begin{enumerate*}\n",
       "\\item 1949\n",
       "\\item 1\n",
       "\\end{enumerate*}\n"
      ],
      "text/markdown": [
       "1. 1949\n",
       "2. 1\n",
       "\n",
       "\n"
      ],
      "text/plain": [
       "[1] 1949    1"
      ]
     },
     "metadata": {},
     "output_type": "display_data"
    },
    {
     "data": {
      "text/html": [
       "<ol class=list-inline>\n",
       "\t<li>1960</li>\n",
       "\t<li>12</li>\n",
       "</ol>\n"
      ],
      "text/latex": [
       "\\begin{enumerate*}\n",
       "\\item 1960\n",
       "\\item 12\n",
       "\\end{enumerate*}\n"
      ],
      "text/markdown": [
       "1. 1960\n",
       "2. 12\n",
       "\n",
       "\n"
      ],
      "text/plain": [
       "[1] 1960   12"
      ]
     },
     "metadata": {},
     "output_type": "display_data"
    },
    {
     "data": {
      "text/html": [
       "0.0833333333333333"
      ],
      "text/latex": [
       "0.0833333333333333"
      ],
      "text/markdown": [
       "0.0833333333333333"
      ],
      "text/plain": [
       "[1] 0.08333333"
      ]
     },
     "metadata": {},
     "output_type": "display_data"
    }
   ],
   "source": [
    "# The frequency function returns the number of samples per unit time\n",
    "frequency(AirPassengers)\n",
    "# We can see that in this dataset, each unit time has twelve observations; in this case, twelve months.\n",
    "\n",
    "# The start() function returns the time index of the first observation.\n",
    "# The end() function returns the time index of the last observation.\n",
    "start(AirPassengers)\n",
    "end(AirPassengers)\n",
    "# We can see that the first observation is the first month of the year 1949,\n",
    "# and the last observation is the twelfth month of the year 1960.\n",
    "\n",
    "# The deltat() function returns the time interval between each observation.\n",
    "deltat(AirPassengers)\n",
    "# In our case, we are breaking down observations by month.\n",
    "# Therefore, we have 1/12 = 0.083 observations within each year; this is the deltat value."
   ]
  },
  {
   "cell_type": "code",
   "execution_count": 6,
   "metadata": {},
   "outputs": [
    {
     "name": "stderr",
     "output_type": "stream",
     "text": [
      "ERROR while rich displaying an object: Error in repr_matrix_generic(obj, \"\\n%s%s\\n\", sprintf(\"|%%s\\n|%s|\\n\", : formal argument \"cols\" matched by multiple actual arguments\n",
      "\n",
      "Traceback:\n",
      "1. FUN(X[[i]], ...)\n",
      "2. tryCatch(withCallingHandlers({\n",
      " .     if (!mime %in% names(repr::mime2repr)) \n",
      " .         stop(\"No repr_* for mimetype \", mime, \" in repr::mime2repr\")\n",
      " .     rpr <- repr::mime2repr[[mime]](obj)\n",
      " .     if (is.null(rpr)) \n",
      " .         return(NULL)\n",
      " .     prepare_content(is.raw(rpr), rpr)\n",
      " . }, error = error_handler), error = outer_handler)\n",
      "3. tryCatchList(expr, classes, parentenv, handlers)\n",
      "4. tryCatchOne(expr, names, parentenv, handlers[[1L]])\n",
      "5. doTryCatch(return(expr), name, parentenv, handler)\n",
      "6. withCallingHandlers({\n",
      " .     if (!mime %in% names(repr::mime2repr)) \n",
      " .         stop(\"No repr_* for mimetype \", mime, \" in repr::mime2repr\")\n",
      " .     rpr <- repr::mime2repr[[mime]](obj)\n",
      " .     if (is.null(rpr)) \n",
      " .         return(NULL)\n",
      " .     prepare_content(is.raw(rpr), rpr)\n",
      " . }, error = error_handler)\n",
      "7. repr::mime2repr[[mime]](obj)\n",
      "8. repr_markdown.ts(obj)\n",
      "9. repr_ts_generic(obj, repr_markdown.matrix, ...)\n",
      "10. repr_func(m, ..., rows = nrow(m), cols = ncol(m))\n"
     ]
    },
    {
     "data": {
      "text/html": [
       "<table>\n",
       "<thead><tr><th></th><th scope=col>Jan</th><th scope=col>Feb</th><th scope=col>Mar</th><th scope=col>Apr</th><th scope=col>May</th><th scope=col>Jun</th><th scope=col>Jul</th><th scope=col>Aug</th><th scope=col>Sep</th><th scope=col>Oct</th><th scope=col>Nov</th><th scope=col>Dec</th></tr></thead>\n",
       "<tbody>\n",
       "\t<tr><th scope=row>1949</th><td>1949.000</td><td>1949.083</td><td>1949.167</td><td>1949.250</td><td>1949.333</td><td>1949.417</td><td>1949.500</td><td>1949.583</td><td>1949.667</td><td>1949.750</td><td>1949.833</td><td>1949.917</td></tr>\n",
       "\t<tr><th scope=row>1950</th><td>1950.000</td><td>1950.083</td><td>1950.167</td><td>1950.250</td><td>1950.333</td><td>1950.417</td><td>1950.500</td><td>1950.583</td><td>1950.667</td><td>1950.750</td><td>1950.833</td><td>1950.917</td></tr>\n",
       "\t<tr><th scope=row>1951</th><td>1951.000</td><td>1951.083</td><td>1951.167</td><td>1951.250</td><td>1951.333</td><td>1951.417</td><td>1951.500</td><td>1951.583</td><td>1951.667</td><td>1951.750</td><td>1951.833</td><td>1951.917</td></tr>\n",
       "\t<tr><th scope=row>1952</th><td>1952.000</td><td>1952.083</td><td>1952.167</td><td>1952.250</td><td>1952.333</td><td>1952.417</td><td>1952.500</td><td>1952.583</td><td>1952.667</td><td>1952.750</td><td>1952.833</td><td>1952.917</td></tr>\n",
       "\t<tr><th scope=row>1953</th><td>1953.000</td><td>1953.083</td><td>1953.167</td><td>1953.250</td><td>1953.333</td><td>1953.417</td><td>1953.500</td><td>1953.583</td><td>1953.667</td><td>1953.750</td><td>1953.833</td><td>1953.917</td></tr>\n",
       "\t<tr><th scope=row>1954</th><td>1954.000</td><td>1954.083</td><td>1954.167</td><td>1954.250</td><td>1954.333</td><td>1954.417</td><td>1954.500</td><td>1954.583</td><td>1954.667</td><td>1954.750</td><td>1954.833</td><td>1954.917</td></tr>\n",
       "\t<tr><th scope=row>1955</th><td>1955.000</td><td>1955.083</td><td>1955.167</td><td>1955.250</td><td>1955.333</td><td>1955.417</td><td>1955.500</td><td>1955.583</td><td>1955.667</td><td>1955.750</td><td>1955.833</td><td>1955.917</td></tr>\n",
       "\t<tr><th scope=row>1956</th><td>1956.000</td><td>1956.083</td><td>1956.167</td><td>1956.250</td><td>1956.333</td><td>1956.417</td><td>1956.500</td><td>1956.583</td><td>1956.667</td><td>1956.750</td><td>1956.833</td><td>1956.917</td></tr>\n",
       "\t<tr><th scope=row>1957</th><td>1957.000</td><td>1957.083</td><td>1957.167</td><td>1957.250</td><td>1957.333</td><td>1957.417</td><td>1957.500</td><td>1957.583</td><td>1957.667</td><td>1957.750</td><td>1957.833</td><td>1957.917</td></tr>\n",
       "\t<tr><th scope=row>1958</th><td>1958.000</td><td>1958.083</td><td>1958.167</td><td>1958.250</td><td>1958.333</td><td>1958.417</td><td>1958.500</td><td>1958.583</td><td>1958.667</td><td>1958.750</td><td>1958.833</td><td>1958.917</td></tr>\n",
       "\t<tr><th scope=row>1959</th><td>1959.000</td><td>1959.083</td><td>1959.167</td><td>1959.250</td><td>1959.333</td><td>1959.417</td><td>1959.500</td><td>1959.583</td><td>1959.667</td><td>1959.750</td><td>1959.833</td><td>1959.917</td></tr>\n",
       "\t<tr><th scope=row>1960</th><td>1960.000</td><td>1960.083</td><td>1960.167</td><td>1960.250</td><td>1960.333</td><td>1960.417</td><td>1960.500</td><td>1960.583</td><td>1960.667</td><td>1960.750</td><td>1960.833</td><td>1960.917</td></tr>\n",
       "</tbody>\n",
       "</table>\n"
      ],
      "text/latex": [
       "\\begin{tabular}{r|llllllllllll}\n",
       "  & Jan & Feb & Mar & Apr & May & Jun & Jul & Aug & Sep & Oct & Nov & Dec\\\\\n",
       "\\hline\n",
       "\t1949 & 1949.000 & 1949.083 & 1949.167 & 1949.250 & 1949.333 & 1949.417 & 1949.500 & 1949.583 & 1949.667 & 1949.750 & 1949.833 & 1949.917\\\\\n",
       "\t1950 & 1950.000 & 1950.083 & 1950.167 & 1950.250 & 1950.333 & 1950.417 & 1950.500 & 1950.583 & 1950.667 & 1950.750 & 1950.833 & 1950.917\\\\\n",
       "\t1951 & 1951.000 & 1951.083 & 1951.167 & 1951.250 & 1951.333 & 1951.417 & 1951.500 & 1951.583 & 1951.667 & 1951.750 & 1951.833 & 1951.917\\\\\n",
       "\t1952 & 1952.000 & 1952.083 & 1952.167 & 1952.250 & 1952.333 & 1952.417 & 1952.500 & 1952.583 & 1952.667 & 1952.750 & 1952.833 & 1952.917\\\\\n",
       "\t1953 & 1953.000 & 1953.083 & 1953.167 & 1953.250 & 1953.333 & 1953.417 & 1953.500 & 1953.583 & 1953.667 & 1953.750 & 1953.833 & 1953.917\\\\\n",
       "\t1954 & 1954.000 & 1954.083 & 1954.167 & 1954.250 & 1954.333 & 1954.417 & 1954.500 & 1954.583 & 1954.667 & 1954.750 & 1954.833 & 1954.917\\\\\n",
       "\t1955 & 1955.000 & 1955.083 & 1955.167 & 1955.250 & 1955.333 & 1955.417 & 1955.500 & 1955.583 & 1955.667 & 1955.750 & 1955.833 & 1955.917\\\\\n",
       "\t1956 & 1956.000 & 1956.083 & 1956.167 & 1956.250 & 1956.333 & 1956.417 & 1956.500 & 1956.583 & 1956.667 & 1956.750 & 1956.833 & 1956.917\\\\\n",
       "\t1957 & 1957.000 & 1957.083 & 1957.167 & 1957.250 & 1957.333 & 1957.417 & 1957.500 & 1957.583 & 1957.667 & 1957.750 & 1957.833 & 1957.917\\\\\n",
       "\t1958 & 1958.000 & 1958.083 & 1958.167 & 1958.250 & 1958.333 & 1958.417 & 1958.500 & 1958.583 & 1958.667 & 1958.750 & 1958.833 & 1958.917\\\\\n",
       "\t1959 & 1959.000 & 1959.083 & 1959.167 & 1959.250 & 1959.333 & 1959.417 & 1959.500 & 1959.583 & 1959.667 & 1959.750 & 1959.833 & 1959.917\\\\\n",
       "\t1960 & 1960.000 & 1960.083 & 1960.167 & 1960.250 & 1960.333 & 1960.417 & 1960.500 & 1960.583 & 1960.667 & 1960.750 & 1960.833 & 1960.917\\\\\n",
       "\\end{tabular}\n"
      ],
      "text/plain": [
       "     Jan      Feb      Mar      Apr      May      Jun      Jul      Aug     \n",
       "1949 1949.000 1949.083 1949.167 1949.250 1949.333 1949.417 1949.500 1949.583\n",
       "1950 1950.000 1950.083 1950.167 1950.250 1950.333 1950.417 1950.500 1950.583\n",
       "1951 1951.000 1951.083 1951.167 1951.250 1951.333 1951.417 1951.500 1951.583\n",
       "1952 1952.000 1952.083 1952.167 1952.250 1952.333 1952.417 1952.500 1952.583\n",
       "1953 1953.000 1953.083 1953.167 1953.250 1953.333 1953.417 1953.500 1953.583\n",
       "1954 1954.000 1954.083 1954.167 1954.250 1954.333 1954.417 1954.500 1954.583\n",
       "1955 1955.000 1955.083 1955.167 1955.250 1955.333 1955.417 1955.500 1955.583\n",
       "1956 1956.000 1956.083 1956.167 1956.250 1956.333 1956.417 1956.500 1956.583\n",
       "1957 1957.000 1957.083 1957.167 1957.250 1957.333 1957.417 1957.500 1957.583\n",
       "1958 1958.000 1958.083 1958.167 1958.250 1958.333 1958.417 1958.500 1958.583\n",
       "1959 1959.000 1959.083 1959.167 1959.250 1959.333 1959.417 1959.500 1959.583\n",
       "1960 1960.000 1960.083 1960.167 1960.250 1960.333 1960.417 1960.500 1960.583\n",
       "     Sep      Oct      Nov      Dec     \n",
       "1949 1949.667 1949.750 1949.833 1949.917\n",
       "1950 1950.667 1950.750 1950.833 1950.917\n",
       "1951 1951.667 1951.750 1951.833 1951.917\n",
       "1952 1952.667 1952.750 1952.833 1952.917\n",
       "1953 1953.667 1953.750 1953.833 1953.917\n",
       "1954 1954.667 1954.750 1954.833 1954.917\n",
       "1955 1955.667 1955.750 1955.833 1955.917\n",
       "1956 1956.667 1956.750 1956.833 1956.917\n",
       "1957 1957.667 1957.750 1957.833 1957.917\n",
       "1958 1958.667 1958.750 1958.833 1958.917\n",
       "1959 1959.667 1959.750 1959.833 1959.917\n",
       "1960 1960.667 1960.750 1960.833 1960.917"
      ]
     },
     "metadata": {},
     "output_type": "display_data"
    },
    {
     "name": "stderr",
     "output_type": "stream",
     "text": [
      "ERROR while rich displaying an object: Error in repr_matrix_generic(obj, \"\\n%s%s\\n\", sprintf(\"|%%s\\n|%s|\\n\", : formal argument \"cols\" matched by multiple actual arguments\n",
      "\n",
      "Traceback:\n",
      "1. FUN(X[[i]], ...)\n",
      "2. tryCatch(withCallingHandlers({\n",
      " .     if (!mime %in% names(repr::mime2repr)) \n",
      " .         stop(\"No repr_* for mimetype \", mime, \" in repr::mime2repr\")\n",
      " .     rpr <- repr::mime2repr[[mime]](obj)\n",
      " .     if (is.null(rpr)) \n",
      " .         return(NULL)\n",
      " .     prepare_content(is.raw(rpr), rpr)\n",
      " . }, error = error_handler), error = outer_handler)\n",
      "3. tryCatchList(expr, classes, parentenv, handlers)\n",
      "4. tryCatchOne(expr, names, parentenv, handlers[[1L]])\n",
      "5. doTryCatch(return(expr), name, parentenv, handler)\n",
      "6. withCallingHandlers({\n",
      " .     if (!mime %in% names(repr::mime2repr)) \n",
      " .         stop(\"No repr_* for mimetype \", mime, \" in repr::mime2repr\")\n",
      " .     rpr <- repr::mime2repr[[mime]](obj)\n",
      " .     if (is.null(rpr)) \n",
      " .         return(NULL)\n",
      " .     prepare_content(is.raw(rpr), rpr)\n",
      " . }, error = error_handler)\n",
      "7. repr::mime2repr[[mime]](obj)\n",
      "8. repr_markdown.ts(obj)\n",
      "9. repr_ts_generic(obj, repr_markdown.matrix, ...)\n",
      "10. repr_func(m, ..., rows = nrow(m), cols = ncol(m))\n"
     ]
    },
    {
     "data": {
      "text/html": [
       "<table>\n",
       "<thead><tr><th></th><th scope=col>Jan</th><th scope=col>Feb</th><th scope=col>Mar</th><th scope=col>Apr</th><th scope=col>May</th><th scope=col>Jun</th><th scope=col>Jul</th><th scope=col>Aug</th><th scope=col>Sep</th><th scope=col>Oct</th><th scope=col>Nov</th><th scope=col>Dec</th></tr></thead>\n",
       "<tbody>\n",
       "\t<tr><th scope=row>1949</th><td> 1</td><td> 2</td><td> 3</td><td> 4</td><td> 5</td><td> 6</td><td> 7</td><td> 8</td><td> 9</td><td>10</td><td>11</td><td>12</td></tr>\n",
       "\t<tr><th scope=row>1950</th><td> 1</td><td> 2</td><td> 3</td><td> 4</td><td> 5</td><td> 6</td><td> 7</td><td> 8</td><td> 9</td><td>10</td><td>11</td><td>12</td></tr>\n",
       "\t<tr><th scope=row>1951</th><td> 1</td><td> 2</td><td> 3</td><td> 4</td><td> 5</td><td> 6</td><td> 7</td><td> 8</td><td> 9</td><td>10</td><td>11</td><td>12</td></tr>\n",
       "\t<tr><th scope=row>1952</th><td> 1</td><td> 2</td><td> 3</td><td> 4</td><td> 5</td><td> 6</td><td> 7</td><td> 8</td><td> 9</td><td>10</td><td>11</td><td>12</td></tr>\n",
       "\t<tr><th scope=row>1953</th><td> 1</td><td> 2</td><td> 3</td><td> 4</td><td> 5</td><td> 6</td><td> 7</td><td> 8</td><td> 9</td><td>10</td><td>11</td><td>12</td></tr>\n",
       "\t<tr><th scope=row>1954</th><td> 1</td><td> 2</td><td> 3</td><td> 4</td><td> 5</td><td> 6</td><td> 7</td><td> 8</td><td> 9</td><td>10</td><td>11</td><td>12</td></tr>\n",
       "\t<tr><th scope=row>1955</th><td> 1</td><td> 2</td><td> 3</td><td> 4</td><td> 5</td><td> 6</td><td> 7</td><td> 8</td><td> 9</td><td>10</td><td>11</td><td>12</td></tr>\n",
       "\t<tr><th scope=row>1956</th><td> 1</td><td> 2</td><td> 3</td><td> 4</td><td> 5</td><td> 6</td><td> 7</td><td> 8</td><td> 9</td><td>10</td><td>11</td><td>12</td></tr>\n",
       "\t<tr><th scope=row>1957</th><td> 1</td><td> 2</td><td> 3</td><td> 4</td><td> 5</td><td> 6</td><td> 7</td><td> 8</td><td> 9</td><td>10</td><td>11</td><td>12</td></tr>\n",
       "\t<tr><th scope=row>1958</th><td> 1</td><td> 2</td><td> 3</td><td> 4</td><td> 5</td><td> 6</td><td> 7</td><td> 8</td><td> 9</td><td>10</td><td>11</td><td>12</td></tr>\n",
       "\t<tr><th scope=row>1959</th><td> 1</td><td> 2</td><td> 3</td><td> 4</td><td> 5</td><td> 6</td><td> 7</td><td> 8</td><td> 9</td><td>10</td><td>11</td><td>12</td></tr>\n",
       "\t<tr><th scope=row>1960</th><td> 1</td><td> 2</td><td> 3</td><td> 4</td><td> 5</td><td> 6</td><td> 7</td><td> 8</td><td> 9</td><td>10</td><td>11</td><td>12</td></tr>\n",
       "</tbody>\n",
       "</table>\n"
      ],
      "text/latex": [
       "\\begin{tabular}{r|llllllllllll}\n",
       "  & Jan & Feb & Mar & Apr & May & Jun & Jul & Aug & Sep & Oct & Nov & Dec\\\\\n",
       "\\hline\n",
       "\t1949 &  1 &  2 &  3 &  4 &  5 &  6 &  7 &  8 &  9 & 10 & 11 & 12\\\\\n",
       "\t1950 &  1 &  2 &  3 &  4 &  5 &  6 &  7 &  8 &  9 & 10 & 11 & 12\\\\\n",
       "\t1951 &  1 &  2 &  3 &  4 &  5 &  6 &  7 &  8 &  9 & 10 & 11 & 12\\\\\n",
       "\t1952 &  1 &  2 &  3 &  4 &  5 &  6 &  7 &  8 &  9 & 10 & 11 & 12\\\\\n",
       "\t1953 &  1 &  2 &  3 &  4 &  5 &  6 &  7 &  8 &  9 & 10 & 11 & 12\\\\\n",
       "\t1954 &  1 &  2 &  3 &  4 &  5 &  6 &  7 &  8 &  9 & 10 & 11 & 12\\\\\n",
       "\t1955 &  1 &  2 &  3 &  4 &  5 &  6 &  7 &  8 &  9 & 10 & 11 & 12\\\\\n",
       "\t1956 &  1 &  2 &  3 &  4 &  5 &  6 &  7 &  8 &  9 & 10 & 11 & 12\\\\\n",
       "\t1957 &  1 &  2 &  3 &  4 &  5 &  6 &  7 &  8 &  9 & 10 & 11 & 12\\\\\n",
       "\t1958 &  1 &  2 &  3 &  4 &  5 &  6 &  7 &  8 &  9 & 10 & 11 & 12\\\\\n",
       "\t1959 &  1 &  2 &  3 &  4 &  5 &  6 &  7 &  8 &  9 & 10 & 11 & 12\\\\\n",
       "\t1960 &  1 &  2 &  3 &  4 &  5 &  6 &  7 &  8 &  9 & 10 & 11 & 12\\\\\n",
       "\\end{tabular}\n"
      ],
      "text/plain": [
       "     Jan Feb Mar Apr May Jun Jul Aug Sep Oct Nov Dec\n",
       "1949  1   2   3   4   5   6   7   8   9  10  11  12 \n",
       "1950  1   2   3   4   5   6   7   8   9  10  11  12 \n",
       "1951  1   2   3   4   5   6   7   8   9  10  11  12 \n",
       "1952  1   2   3   4   5   6   7   8   9  10  11  12 \n",
       "1953  1   2   3   4   5   6   7   8   9  10  11  12 \n",
       "1954  1   2   3   4   5   6   7   8   9  10  11  12 \n",
       "1955  1   2   3   4   5   6   7   8   9  10  11  12 \n",
       "1956  1   2   3   4   5   6   7   8   9  10  11  12 \n",
       "1957  1   2   3   4   5   6   7   8   9  10  11  12 \n",
       "1958  1   2   3   4   5   6   7   8   9  10  11  12 \n",
       "1959  1   2   3   4   5   6   7   8   9  10  11  12 \n",
       "1960  1   2   3   4   5   6   7   8   9  10  11  12 "
      ]
     },
     "metadata": {},
     "output_type": "display_data"
    }
   ],
   "source": [
    "# The time() function returns a vector of times at which each observation was sampled.\n",
    "time(AirPassengers)\n",
    "# Our first observation in 1949 was recorded at 1949.00, followed by 1949.083, then 1949.0167, etc.\n",
    "\n",
    "# Lastly, the cycle() function returns the position in the cycle for each observation.\n",
    "# Since our example is monthly, we have a cycle of one year,\n",
    "# where January is the first position; February is the second, and so on.\n",
    "cycle(AirPassengers)"
   ]
  },
  {
   "cell_type": "markdown",
   "metadata": {},
   "source": [
    "# Missing Data in Time Series"
   ]
  },
  {
   "cell_type": "code",
   "execution_count": 7,
   "metadata": {},
   "outputs": [
    {
     "name": "stderr",
     "output_type": "stream",
     "text": [
      "ERROR while rich displaying an object: Error in repr_matrix_generic(obj, \"\\n%s%s\\n\", sprintf(\"|%%s\\n|%s|\\n\", : formal argument \"cols\" matched by multiple actual arguments\n",
      "\n",
      "Traceback:\n",
      "1. FUN(X[[i]], ...)\n",
      "2. tryCatch(withCallingHandlers({\n",
      " .     if (!mime %in% names(repr::mime2repr)) \n",
      " .         stop(\"No repr_* for mimetype \", mime, \" in repr::mime2repr\")\n",
      " .     rpr <- repr::mime2repr[[mime]](obj)\n",
      " .     if (is.null(rpr)) \n",
      " .         return(NULL)\n",
      " .     prepare_content(is.raw(rpr), rpr)\n",
      " . }, error = error_handler), error = outer_handler)\n",
      "3. tryCatchList(expr, classes, parentenv, handlers)\n",
      "4. tryCatchOne(expr, names, parentenv, handlers[[1L]])\n",
      "5. doTryCatch(return(expr), name, parentenv, handler)\n",
      "6. withCallingHandlers({\n",
      " .     if (!mime %in% names(repr::mime2repr)) \n",
      " .         stop(\"No repr_* for mimetype \", mime, \" in repr::mime2repr\")\n",
      " .     rpr <- repr::mime2repr[[mime]](obj)\n",
      " .     if (is.null(rpr)) \n",
      " .         return(NULL)\n",
      " .     prepare_content(is.raw(rpr), rpr)\n",
      " . }, error = error_handler)\n",
      "7. repr::mime2repr[[mime]](obj)\n",
      "8. repr_markdown.ts(obj)\n",
      "9. repr_ts_generic(obj, repr_markdown.matrix, ...)\n",
      "10. repr_func(m, ..., rows = nrow(m), cols = ncol(m))\n"
     ]
    },
    {
     "data": {
      "text/html": [
       "<table>\n",
       "<thead><tr><th></th><th scope=col>Jan</th><th scope=col>Feb</th><th scope=col>Mar</th><th scope=col>Apr</th><th scope=col>May</th><th scope=col>Jun</th><th scope=col>Jul</th><th scope=col>Aug</th><th scope=col>Sep</th><th scope=col>Oct</th><th scope=col>Nov</th><th scope=col>Dec</th></tr></thead>\n",
       "<tbody>\n",
       "\t<tr><th scope=row>1949</th><td>112</td><td>118</td><td>132</td><td>129</td><td>121</td><td>135</td><td>148</td><td>148</td><td>136</td><td>119</td><td>104</td><td>118</td></tr>\n",
       "\t<tr><th scope=row>1950</th><td>115</td><td>126</td><td>141</td><td>135</td><td>125</td><td>149</td><td>170</td><td>170</td><td>158</td><td>133</td><td>114</td><td>140</td></tr>\n",
       "\t<tr><th scope=row>1951</th><td>145</td><td>150</td><td>178</td><td>163</td><td>172</td><td>178</td><td>199</td><td>199</td><td>184</td><td>162</td><td>146</td><td>166</td></tr>\n",
       "\t<tr><th scope=row>1952</th><td>171</td><td>180</td><td>193</td><td>181</td><td>183</td><td>218</td><td>230</td><td>242</td><td>209</td><td>191</td><td>172</td><td>194</td></tr>\n",
       "\t<tr><th scope=row>1953</th><td>196</td><td>196</td><td>236</td><td>235</td><td>229</td><td>243</td><td>264</td><td>272</td><td>237</td><td>211</td><td>180</td><td>201</td></tr>\n",
       "\t<tr><th scope=row>1954</th><td>204</td><td>188</td><td>235</td><td>227</td><td>234</td><td>264</td><td>302</td><td>293</td><td>259</td><td>229</td><td>203</td><td>229</td></tr>\n",
       "\t<tr><th scope=row>1955</th><td>242</td><td>233</td><td>267</td><td>269</td><td>270</td><td>315</td><td>364</td><td>347</td><td>312</td><td>274</td><td>237</td><td>278</td></tr>\n",
       "\t<tr><th scope=row>1956</th><td> NA</td><td> NA</td><td> NA</td><td> NA</td><td> NA</td><td> NA</td><td> NA</td><td> NA</td><td> NA</td><td> NA</td><td> NA</td><td> NA</td></tr>\n",
       "\t<tr><th scope=row>1957</th><td>315</td><td>301</td><td>356</td><td>348</td><td>355</td><td>422</td><td>465</td><td>467</td><td>404</td><td>347</td><td>305</td><td>336</td></tr>\n",
       "\t<tr><th scope=row>1958</th><td>340</td><td>318</td><td>362</td><td>348</td><td>363</td><td>435</td><td>491</td><td>505</td><td>404</td><td>359</td><td>310</td><td>337</td></tr>\n",
       "\t<tr><th scope=row>1959</th><td>360</td><td>342</td><td>406</td><td>396</td><td>420</td><td>472</td><td>548</td><td>559</td><td>463</td><td>407</td><td>362</td><td>405</td></tr>\n",
       "\t<tr><th scope=row>1960</th><td>417</td><td>391</td><td>419</td><td>461</td><td>472</td><td>535</td><td>622</td><td>606</td><td>508</td><td>461</td><td>390</td><td>432</td></tr>\n",
       "</tbody>\n",
       "</table>\n"
      ],
      "text/latex": [
       "\\begin{tabular}{r|llllllllllll}\n",
       "  & Jan & Feb & Mar & Apr & May & Jun & Jul & Aug & Sep & Oct & Nov & Dec\\\\\n",
       "\\hline\n",
       "\t1949 & 112 & 118 & 132 & 129 & 121 & 135 & 148 & 148 & 136 & 119 & 104 & 118\\\\\n",
       "\t1950 & 115 & 126 & 141 & 135 & 125 & 149 & 170 & 170 & 158 & 133 & 114 & 140\\\\\n",
       "\t1951 & 145 & 150 & 178 & 163 & 172 & 178 & 199 & 199 & 184 & 162 & 146 & 166\\\\\n",
       "\t1952 & 171 & 180 & 193 & 181 & 183 & 218 & 230 & 242 & 209 & 191 & 172 & 194\\\\\n",
       "\t1953 & 196 & 196 & 236 & 235 & 229 & 243 & 264 & 272 & 237 & 211 & 180 & 201\\\\\n",
       "\t1954 & 204 & 188 & 235 & 227 & 234 & 264 & 302 & 293 & 259 & 229 & 203 & 229\\\\\n",
       "\t1955 & 242 & 233 & 267 & 269 & 270 & 315 & 364 & 347 & 312 & 274 & 237 & 278\\\\\n",
       "\t1956 &  NA &  NA &  NA &  NA &  NA &  NA &  NA &  NA &  NA &  NA &  NA &  NA\\\\\n",
       "\t1957 & 315 & 301 & 356 & 348 & 355 & 422 & 465 & 467 & 404 & 347 & 305 & 336\\\\\n",
       "\t1958 & 340 & 318 & 362 & 348 & 363 & 435 & 491 & 505 & 404 & 359 & 310 & 337\\\\\n",
       "\t1959 & 360 & 342 & 406 & 396 & 420 & 472 & 548 & 559 & 463 & 407 & 362 & 405\\\\\n",
       "\t1960 & 417 & 391 & 419 & 461 & 472 & 535 & 622 & 606 & 508 & 461 & 390 & 432\\\\\n",
       "\\end{tabular}\n"
      ],
      "text/plain": [
       "     Jan Feb Mar Apr May Jun Jul Aug Sep Oct Nov Dec\n",
       "1949 112 118 132 129 121 135 148 148 136 119 104 118\n",
       "1950 115 126 141 135 125 149 170 170 158 133 114 140\n",
       "1951 145 150 178 163 172 178 199 199 184 162 146 166\n",
       "1952 171 180 193 181 183 218 230 242 209 191 172 194\n",
       "1953 196 196 236 235 229 243 264 272 237 211 180 201\n",
       "1954 204 188 235 227 234 264 302 293 259 229 203 229\n",
       "1955 242 233 267 269 270 315 364 347 312 274 237 278\n",
       "1956  NA  NA  NA  NA  NA  NA  NA  NA  NA  NA  NA  NA\n",
       "1957 315 301 356 348 355 422 465 467 404 347 305 336\n",
       "1958 340 318 362 348 363 435 491 505 404 359 310 337\n",
       "1959 360 342 406 396 420 472 548 559 463 407 362 405\n",
       "1960 417 391 419 461 472 535 622 606 508 461 390 432"
      ]
     },
     "metadata": {},
     "output_type": "display_data"
    },
    {
     "data": {
      "image/png": "[encoded data removed]",
      "text/plain": [
       "plot without title"
      ]
     },
     "metadata": {},
     "output_type": "display_data"
    }
   ],
   "source": [
    "# Suppose were missing data from the year 1956\n",
    "AirPassengers[85:96] <- NA\n",
    "AirPassengers\n",
    "plot(AirPassengers)"
   ]
  },
  {
   "cell_type": "code",
   "execution_count": 8,
   "metadata": {},
   "outputs": [
    {
     "name": "stderr",
     "output_type": "stream",
     "text": [
      "ERROR while rich displaying an object: Error in repr_matrix_generic(obj, \"\\n%s%s\\n\", sprintf(\"|%%s\\n|%s|\\n\", : formal argument \"cols\" matched by multiple actual arguments\n",
      "\n",
      "Traceback:\n",
      "1. FUN(X[[i]], ...)\n",
      "2. tryCatch(withCallingHandlers({\n",
      " .     if (!mime %in% names(repr::mime2repr)) \n",
      " .         stop(\"No repr_* for mimetype \", mime, \" in repr::mime2repr\")\n",
      " .     rpr <- repr::mime2repr[[mime]](obj)\n",
      " .     if (is.null(rpr)) \n",
      " .         return(NULL)\n",
      " .     prepare_content(is.raw(rpr), rpr)\n",
      " . }, error = error_handler), error = outer_handler)\n",
      "3. tryCatchList(expr, classes, parentenv, handlers)\n",
      "4. tryCatchOne(expr, names, parentenv, handlers[[1L]])\n",
      "5. doTryCatch(return(expr), name, parentenv, handler)\n",
      "6. withCallingHandlers({\n",
      " .     if (!mime %in% names(repr::mime2repr)) \n",
      " .         stop(\"No repr_* for mimetype \", mime, \" in repr::mime2repr\")\n",
      " .     rpr <- repr::mime2repr[[mime]](obj)\n",
      " .     if (is.null(rpr)) \n",
      " .         return(NULL)\n",
      " .     prepare_content(is.raw(rpr), rpr)\n",
      " . }, error = error_handler)\n",
      "7. repr::mime2repr[[mime]](obj)\n",
      "8. repr_markdown.ts(obj)\n",
      "9. repr_ts_generic(obj, repr_markdown.matrix, ...)\n",
      "10. repr_func(m, ..., rows = nrow(m), cols = ncol(m))\n"
     ]
    },
    {
     "data": {
      "text/html": [
       "<table>\n",
       "<thead><tr><th></th><th scope=col>Jan</th><th scope=col>Feb</th><th scope=col>Mar</th><th scope=col>Apr</th><th scope=col>May</th><th scope=col>Jun</th><th scope=col>Jul</th><th scope=col>Aug</th><th scope=col>Sep</th><th scope=col>Oct</th><th scope=col>Nov</th><th scope=col>Dec</th></tr></thead>\n",
       "<tbody>\n",
       "\t<tr><th scope=row>1949</th><td>112.0000</td><td>118.0000</td><td>132.0000</td><td>129.0000</td><td>121.0000</td><td>135.0000</td><td>148.0000</td><td>148.0000</td><td>136.0000</td><td>119.0000</td><td>104.0000</td><td>118.0000</td></tr>\n",
       "\t<tr><th scope=row>1950</th><td>115.0000</td><td>126.0000</td><td>141.0000</td><td>135.0000</td><td>125.0000</td><td>149.0000</td><td>170.0000</td><td>170.0000</td><td>158.0000</td><td>133.0000</td><td>114.0000</td><td>140.0000</td></tr>\n",
       "\t<tr><th scope=row>1951</th><td>145.0000</td><td>150.0000</td><td>178.0000</td><td>163.0000</td><td>172.0000</td><td>178.0000</td><td>199.0000</td><td>199.0000</td><td>184.0000</td><td>162.0000</td><td>146.0000</td><td>166.0000</td></tr>\n",
       "\t<tr><th scope=row>1952</th><td>171.0000</td><td>180.0000</td><td>193.0000</td><td>181.0000</td><td>183.0000</td><td>218.0000</td><td>230.0000</td><td>242.0000</td><td>209.0000</td><td>191.0000</td><td>172.0000</td><td>194.0000</td></tr>\n",
       "\t<tr><th scope=row>1953</th><td>196.0000</td><td>196.0000</td><td>236.0000</td><td>235.0000</td><td>229.0000</td><td>243.0000</td><td>264.0000</td><td>272.0000</td><td>237.0000</td><td>211.0000</td><td>180.0000</td><td>201.0000</td></tr>\n",
       "\t<tr><th scope=row>1954</th><td>204.0000</td><td>188.0000</td><td>235.0000</td><td>227.0000</td><td>234.0000</td><td>264.0000</td><td>302.0000</td><td>293.0000</td><td>259.0000</td><td>229.0000</td><td>203.0000</td><td>229.0000</td></tr>\n",
       "\t<tr><th scope=row>1955</th><td>242.0000</td><td>233.0000</td><td>267.0000</td><td>269.0000</td><td>270.0000</td><td>315.0000</td><td>364.0000</td><td>347.0000</td><td>312.0000</td><td>274.0000</td><td>237.0000</td><td>278.0000</td></tr>\n",
       "\t<tr><th scope=row>1956</th><td>275.9394</td><td>275.9394</td><td>275.9394</td><td>275.9394</td><td>275.9394</td><td>275.9394</td><td>275.9394</td><td>275.9394</td><td>275.9394</td><td>275.9394</td><td>275.9394</td><td>275.9394</td></tr>\n",
       "\t<tr><th scope=row>1957</th><td>315.0000</td><td>301.0000</td><td>356.0000</td><td>348.0000</td><td>355.0000</td><td>422.0000</td><td>465.0000</td><td>467.0000</td><td>404.0000</td><td>347.0000</td><td>305.0000</td><td>336.0000</td></tr>\n",
       "\t<tr><th scope=row>1958</th><td>340.0000</td><td>318.0000</td><td>362.0000</td><td>348.0000</td><td>363.0000</td><td>435.0000</td><td>491.0000</td><td>505.0000</td><td>404.0000</td><td>359.0000</td><td>310.0000</td><td>337.0000</td></tr>\n",
       "\t<tr><th scope=row>1959</th><td>360.0000</td><td>342.0000</td><td>406.0000</td><td>396.0000</td><td>420.0000</td><td>472.0000</td><td>548.0000</td><td>559.0000</td><td>463.0000</td><td>407.0000</td><td>362.0000</td><td>405.0000</td></tr>\n",
       "\t<tr><th scope=row>1960</th><td>417.0000</td><td>391.0000</td><td>419.0000</td><td>461.0000</td><td>472.0000</td><td>535.0000</td><td>622.0000</td><td>606.0000</td><td>508.0000</td><td>461.0000</td><td>390.0000</td><td>432.0000</td></tr>\n",
       "</tbody>\n",
       "</table>\n"
      ],
      "text/latex": [
       "\\begin{tabular}{r|llllllllllll}\n",
       "  & Jan & Feb & Mar & Apr & May & Jun & Jul & Aug & Sep & Oct & Nov & Dec\\\\\n",
       "\\hline\n",
       "\t1949 & 112.0000 & 118.0000 & 132.0000 & 129.0000 & 121.0000 & 135.0000 & 148.0000 & 148.0000 & 136.0000 & 119.0000 & 104.0000 & 118.0000\\\\\n",
       "\t1950 & 115.0000 & 126.0000 & 141.0000 & 135.0000 & 125.0000 & 149.0000 & 170.0000 & 170.0000 & 158.0000 & 133.0000 & 114.0000 & 140.0000\\\\\n",
       "\t1951 & 145.0000 & 150.0000 & 178.0000 & 163.0000 & 172.0000 & 178.0000 & 199.0000 & 199.0000 & 184.0000 & 162.0000 & 146.0000 & 166.0000\\\\\n",
       "\t1952 & 171.0000 & 180.0000 & 193.0000 & 181.0000 & 183.0000 & 218.0000 & 230.0000 & 242.0000 & 209.0000 & 191.0000 & 172.0000 & 194.0000\\\\\n",
       "\t1953 & 196.0000 & 196.0000 & 236.0000 & 235.0000 & 229.0000 & 243.0000 & 264.0000 & 272.0000 & 237.0000 & 211.0000 & 180.0000 & 201.0000\\\\\n",
       "\t1954 & 204.0000 & 188.0000 & 235.0000 & 227.0000 & 234.0000 & 264.0000 & 302.0000 & 293.0000 & 259.0000 & 229.0000 & 203.0000 & 229.0000\\\\\n",
       "\t1955 & 242.0000 & 233.0000 & 267.0000 & 269.0000 & 270.0000 & 315.0000 & 364.0000 & 347.0000 & 312.0000 & 274.0000 & 237.0000 & 278.0000\\\\\n",
       "\t1956 & 275.9394 & 275.9394 & 275.9394 & 275.9394 & 275.9394 & 275.9394 & 275.9394 & 275.9394 & 275.9394 & 275.9394 & 275.9394 & 275.9394\\\\\n",
       "\t1957 & 315.0000 & 301.0000 & 356.0000 & 348.0000 & 355.0000 & 422.0000 & 465.0000 & 467.0000 & 404.0000 & 347.0000 & 305.0000 & 336.0000\\\\\n",
       "\t1958 & 340.0000 & 318.0000 & 362.0000 & 348.0000 & 363.0000 & 435.0000 & 491.0000 & 505.0000 & 404.0000 & 359.0000 & 310.0000 & 337.0000\\\\\n",
       "\t1959 & 360.0000 & 342.0000 & 406.0000 & 396.0000 & 420.0000 & 472.0000 & 548.0000 & 559.0000 & 463.0000 & 407.0000 & 362.0000 & 405.0000\\\\\n",
       "\t1960 & 417.0000 & 391.0000 & 419.0000 & 461.0000 & 472.0000 & 535.0000 & 622.0000 & 606.0000 & 508.0000 & 461.0000 & 390.0000 & 432.0000\\\\\n",
       "\\end{tabular}\n"
      ],
      "text/plain": [
       "     Jan      Feb      Mar      Apr      May      Jun      Jul      Aug     \n",
       "1949 112.0000 118.0000 132.0000 129.0000 121.0000 135.0000 148.0000 148.0000\n",
       "1950 115.0000 126.0000 141.0000 135.0000 125.0000 149.0000 170.0000 170.0000\n",
       "1951 145.0000 150.0000 178.0000 163.0000 172.0000 178.0000 199.0000 199.0000\n",
       "1952 171.0000 180.0000 193.0000 181.0000 183.0000 218.0000 230.0000 242.0000\n",
       "1953 196.0000 196.0000 236.0000 235.0000 229.0000 243.0000 264.0000 272.0000\n",
       "1954 204.0000 188.0000 235.0000 227.0000 234.0000 264.0000 302.0000 293.0000\n",
       "1955 242.0000 233.0000 267.0000 269.0000 270.0000 315.0000 364.0000 347.0000\n",
       "1956 275.9394 275.9394 275.9394 275.9394 275.9394 275.9394 275.9394 275.9394\n",
       "1957 315.0000 301.0000 356.0000 348.0000 355.0000 422.0000 465.0000 467.0000\n",
       "1958 340.0000 318.0000 362.0000 348.0000 363.0000 435.0000 491.0000 505.0000\n",
       "1959 360.0000 342.0000 406.0000 396.0000 420.0000 472.0000 548.0000 559.0000\n",
       "1960 417.0000 391.0000 419.0000 461.0000 472.0000 535.0000 622.0000 606.0000\n",
       "     Sep      Oct      Nov      Dec     \n",
       "1949 136.0000 119.0000 104.0000 118.0000\n",
       "1950 158.0000 133.0000 114.0000 140.0000\n",
       "1951 184.0000 162.0000 146.0000 166.0000\n",
       "1952 209.0000 191.0000 172.0000 194.0000\n",
       "1953 237.0000 211.0000 180.0000 201.0000\n",
       "1954 259.0000 229.0000 203.0000 229.0000\n",
       "1955 312.0000 274.0000 237.0000 278.0000\n",
       "1956 275.9394 275.9394 275.9394 275.9394\n",
       "1957 404.0000 347.0000 305.0000 336.0000\n",
       "1958 404.0000 359.0000 310.0000 337.0000\n",
       "1959 463.0000 407.0000 362.0000 405.0000\n",
       "1960 508.0000 461.0000 390.0000 432.0000"
      ]
     },
     "metadata": {},
     "output_type": "display_data"
    },
    {
     "data": {
      "image/png": "[encoded data removed]",
      "text/plain": [
       "plot without title"
      ]
     },
     "metadata": {},
     "output_type": "display_data"
    }
   ],
   "source": [
    "# In certain cases, we simply replace missing values with means, medians, or other types of averages.\n",
    "AirPassengers_1956_use_mean <- AirPassengers\n",
    "AirPassengers_1956_use_mean[85:96] <- mean(AirPassengers, na.rm = TRUE) # remove NA values, as this breaks the mean() function.\n",
    "AirPassengers_1956_use_mean\n",
    "par(mfrow=c(1,2))\n",
    "plot(AirPassengers_1956_use_mean)\n",
    "plot(AirPassengers)\n",
    "# In our case, we can observe that the mean poorly reflects what existing data should look like."
   ]
  },
  {
   "cell_type": "markdown",
   "metadata": {},
   "source": [
    "# Time Series Objects\n",
    "\n",
    "A time series has two components\n",
    "1. Measures/Values- The value at a given point in time\n",
    "2. Time- The point in time\n",
    "\n",
    "Given a vector of values, we can apply the ts() function to create a time series object.  A object with class timeseries has these two properties."
   ]
  },
  {
   "cell_type": "code",
   "execution_count": 9,
   "metadata": {},
   "outputs": [
    {
     "data": {
      "text/html": [
       "'numeric'"
      ],
      "text/latex": [
       "'numeric'"
      ],
      "text/markdown": [
       "'numeric'"
      ],
      "text/plain": [
       "[1] \"numeric\""
      ]
     },
     "metadata": {},
     "output_type": "display_data"
    },
    {
     "data": {
      "text/html": [
       "'ts'"
      ],
      "text/latex": [
       "'ts'"
      ],
      "text/markdown": [
       "'ts'"
      ],
      "text/plain": [
       "[1] \"ts\""
      ]
     },
     "metadata": {},
     "output_type": "display_data"
    },
    {
     "data": {
      "image/png": "[encoded data removed]",
      "text/plain": [
       "plot without title"
      ]
     },
     "metadata": {},
     "output_type": "display_data"
    }
   ],
   "source": [
    "consumer_prices <- c(2, 3, 7, 8, 10)\n",
    "class(consumer_prices)\n",
    "consumer_prices_time_series <- ts(consumer_prices)\n",
    "class(consumer_prices_time_series)\n",
    "par(mfrow=c(1, 2))\n",
    "plot(consumer_prices)\n",
    "plot(consumer_prices_time_series)"
   ]
  },
  {
   "cell_type": "markdown",
   "metadata": {},
   "source": [
    "##### Below we will generate a more detailed and realistic-looking dataset, and take a closer look at creating time series objects."
   ]
  },
  {
   "cell_type": "code",
   "execution_count": 10,
   "metadata": {},
   "outputs": [
    {
     "data": {
      "image/png": "[encoded data removed]",
      "text/plain": [
       "plot without title"
      ]
     },
     "metadata": {},
     "output_type": "display_data"
    }
   ],
   "source": [
    "# Generate random data for observations each month over a ten-year period starting in 2001.\n",
    "random_data <- seq(1, 100, length.out=120)\n",
    "\n",
    "# Add random noise to each element.\n",
    "for (data in 1:length(random_data)) {\n",
    "    noise <- ifelse(rnorm(1)>=0, sample(5, 1), 0)\n",
    "    random_data[data] <- random_data[data] + noise\n",
    "}\n",
    "\n",
    "plot(random_data)"
   ]
  },
  {
   "cell_type": "code",
   "execution_count": 11,
   "metadata": {},
   "outputs": [
    {
     "data": {
      "text/html": [
       "'numeric'"
      ],
      "text/latex": [
       "'numeric'"
      ],
      "text/markdown": [
       "'numeric'"
      ],
      "text/plain": [
       "[1] \"numeric\""
      ]
     },
     "metadata": {},
     "output_type": "display_data"
    },
    {
     "data": {
      "text/html": [
       "'ts'"
      ],
      "text/latex": [
       "'ts'"
      ],
      "text/markdown": [
       "'ts'"
      ],
      "text/plain": [
       "[1] \"ts\""
      ]
     },
     "metadata": {},
     "output_type": "display_data"
    },
    {
     "name": "stdout",
     "output_type": "stream",
     "text": [
      "Time Series:\n",
      "Start = 1 \n",
      "End = 120 \n",
      "Frequency = 1 \n",
      "  [1]   5.000000   1.831933   7.663866   3.495798   8.327731   5.159664\n",
      "  [7]   5.991597   6.823529  12.655462   9.487395  12.319328  15.151261\n",
      " [13]  10.983193  13.815126  12.647059  13.478992  14.310924  18.142857\n",
      " [19]  16.974790  19.806723  21.638655  21.470588  19.302521  20.134454\n",
      " [25]  22.966387  24.798319  24.630252  23.462185  29.294118  27.126050\n",
      " [31]  28.957983  28.789916  27.621849  28.453782  29.285714  30.117647\n",
      " [37]  30.949580  35.781513  33.613445  33.445378  34.277311  35.109244\n",
      " [43]  35.941176  40.773109  38.605042  43.436975  39.268908  41.100840\n",
      " [49]  40.932773  46.764706  47.596639  43.428571  48.260504  45.092437\n",
      " [55]  46.924370  51.756303  47.588235  52.420168  49.252101  50.084034\n",
      " [61]  52.915966  56.747899  55.579832  53.411765  55.243697  55.075630\n",
      " [67]  55.907563  60.739496  57.571429  58.403361  59.235294  63.067227\n",
      " [73]  62.899160  63.731092  62.563025  63.394958  69.226891  70.058824\n",
      " [79]  68.890756  70.722689  69.554622  72.386555  69.218487  71.050420\n",
      " [85]  74.882353  75.714286  75.546218  74.378151  74.210084  75.042017\n",
      " [91]  75.873950  76.705882  79.537815  83.369748  81.201681  82.033613\n",
      " [97]  82.865546  81.697479  83.529412  83.361345  85.193277  88.025210\n",
      "[103]  85.857143  88.689076  92.521008  89.352941  92.184874  90.016807\n",
      "[109]  93.848739  91.680672  92.512605  97.344538  94.176471  95.008403\n",
      "[115]  95.840336  96.672269 102.504202  98.336134 104.168067 100.000000\n"
     ]
    }
   ],
   "source": [
    "# Convert random matrix to time series\n",
    "class(random_data)\n",
    "random_time_series <- ts(random_data)\n",
    "class(random_time_series)\n",
    "\n",
    "print(random_time_series)\n",
    "# We are measuring by month; so we should have a frequency of 12.\n",
    "# Our start date should be the first month of the year 2001, or: 2001 1\n",
    "# Our end date should be the last month of the year 2010, or: 2010 12"
   ]
  },
  {
   "cell_type": "code",
   "execution_count": 12,
   "metadata": {},
   "outputs": [
    {
     "data": {
      "image/png": "[encoded data removed]",
      "text/plain": [
       "plot without title"
      ]
     },
     "metadata": {},
     "output_type": "display_data"
    }
   ],
   "source": [
    "plot(random_time_series)"
   ]
  },
  {
   "cell_type": "markdown",
   "metadata": {},
   "source": [
    "##### We stated that we are recording measurements each month over a ten-year period; so we would want a start of 2001 1, and end date of 2010 12, and a frequency of 12.  When we create a time time series object from our randomly generated data though, the ts() function assumes a few default properties.  \n",
    "\n",
    "#####  We are using a dataset with 120 elements, but the ts() function cannot determine start and end dates, or frequencies on its own.  Instead, the ts() function would use a time index of 1, 2, 3, ... 120 (think a frequency of 1, and then \"year 1,\" \"year 2,\" etc).  Therefore, we must manually specify these when creating a time series object. \n",
    "\n",
    "##### When analyzing a time series then, <u>always</u> check the metadata.  Even if the data appears to look right when examining a table format, it might not have the properties we expect under the hood.  When creating our own time series object, we can specify these properties with parameters—and we usually must!"
   ]
  },
  {
   "cell_type": "code",
   "execution_count": 13,
   "metadata": {
    "scrolled": true
   },
   "outputs": [
    {
     "name": "stdout",
     "output_type": "stream",
     "text": [
      "            Jan        Feb        Mar        Apr        May        Jun\n",
      "2001   5.000000   1.831933   7.663866   3.495798   8.327731   5.159664\n",
      "2002  10.983193  13.815126  12.647059  13.478992  14.310924  18.142857\n",
      "2003  22.966387  24.798319  24.630252  23.462185  29.294118  27.126050\n",
      "2004  30.949580  35.781513  33.613445  33.445378  34.277311  35.109244\n",
      "2005  40.932773  46.764706  47.596639  43.428571  48.260504  45.092437\n",
      "2006  52.915966  56.747899  55.579832  53.411765  55.243697  55.075630\n",
      "2007  62.899160  63.731092  62.563025  63.394958  69.226891  70.058824\n",
      "2008  74.882353  75.714286  75.546218  74.378151  74.210084  75.042017\n",
      "2009  82.865546  81.697479  83.529412  83.361345  85.193277  88.025210\n",
      "2010  93.848739  91.680672  92.512605  97.344538  94.176471  95.008403\n",
      "            Jul        Aug        Sep        Oct        Nov        Dec\n",
      "2001   5.991597   6.823529  12.655462   9.487395  12.319328  15.151261\n",
      "2002  16.974790  19.806723  21.638655  21.470588  19.302521  20.134454\n",
      "2003  28.957983  28.789916  27.621849  28.453782  29.285714  30.117647\n",
      "2004  35.941176  40.773109  38.605042  43.436975  39.268908  41.100840\n",
      "2005  46.924370  51.756303  47.588235  52.420168  49.252101  50.084034\n",
      "2006  55.907563  60.739496  57.571429  58.403361  59.235294  63.067227\n",
      "2007  68.890756  70.722689  69.554622  72.386555  69.218487  71.050420\n",
      "2008  75.873950  76.705882  79.537815  83.369748  81.201681  82.033613\n",
      "2009  85.857143  88.689076  92.521008  89.352941  92.184874  90.016807\n",
      "2010  95.840336  96.672269 102.504202  98.336134 104.168067 100.000000\n"
     ]
    },
    {
     "data": {
      "text/html": [
       "<ol class=list-inline>\n",
       "\t<li>2001</li>\n",
       "\t<li>1</li>\n",
       "</ol>\n"
      ],
      "text/latex": [
       "\\begin{enumerate*}\n",
       "\\item 2001\n",
       "\\item 1\n",
       "\\end{enumerate*}\n"
      ],
      "text/markdown": [
       "1. 2001\n",
       "2. 1\n",
       "\n",
       "\n"
      ],
      "text/plain": [
       "[1] 2001    1"
      ]
     },
     "metadata": {},
     "output_type": "display_data"
    },
    {
     "data": {
      "text/html": [
       "<ol class=list-inline>\n",
       "\t<li>2010</li>\n",
       "\t<li>12</li>\n",
       "</ol>\n"
      ],
      "text/latex": [
       "\\begin{enumerate*}\n",
       "\\item 2010\n",
       "\\item 12\n",
       "\\end{enumerate*}\n"
      ],
      "text/markdown": [
       "1. 2010\n",
       "2. 12\n",
       "\n",
       "\n"
      ],
      "text/plain": [
       "[1] 2010   12"
      ]
     },
     "metadata": {},
     "output_type": "display_data"
    },
    {
     "data": {
      "text/html": [
       "12"
      ],
      "text/latex": [
       "12"
      ],
      "text/markdown": [
       "12"
      ],
      "text/plain": [
       "[1] 12"
      ]
     },
     "metadata": {},
     "output_type": "display_data"
    },
    {
     "data": {
      "text/html": [
       "0.0833333333333333"
      ],
      "text/latex": [
       "0.0833333333333333"
      ],
      "text/markdown": [
       "0.0833333333333333"
      ],
      "text/plain": [
       "[1] 0.08333333"
      ]
     },
     "metadata": {},
     "output_type": "display_data"
    }
   ],
   "source": [
    "# The ts() function includes paramets for start, end, frequency, and deltat.\n",
    "# Usually it is enough to specify only a start/end date, and the frequency/deltat value,\n",
    "# and the rest mathetically work out on their own.\n",
    "random_time_series <- ts(random_data, start=c(2001, 1), frequency=12)\n",
    "print(random_time_series)\n",
    "start(random_time_series)\n",
    "end(random_time_series)\n",
    "frequency(random_time_series)\n",
    "deltat(random_time_series)"
   ]
  },
  {
   "cell_type": "code",
   "execution_count": 14,
   "metadata": {},
   "outputs": [
    {
     "data": {
      "image/png": "[encoded data removed]",
      "text/plain": [
       "plot without title"
      ]
     },
     "metadata": {},
     "output_type": "display_data"
    }
   ],
   "source": [
    "plot(random_time_series)"
   ]
  },
  {
   "cell_type": "markdown",
   "metadata": {},
   "source": [
    "#### WARNING: Time series can be created from vectors or matrices, but we must careful when using matrices, or we may get unintended result.  Though the ts() function will accept multivariate matrices, it may not always give the expected result.  Consider for example quarterly measurements over a two-year period."
   ]
  },
  {
   "cell_type": "code",
   "execution_count": 15,
   "metadata": {},
   "outputs": [
    {
     "name": "stderr",
     "output_type": "stream",
     "text": [
      "Warning message:\n",
      "\"package 'dplyr' was built under R version 3.6.3\"\n",
      "Attaching package: 'dplyr'\n",
      "\n",
      "The following objects are masked from 'package:stats':\n",
      "\n",
      "    filter, lag\n",
      "\n",
      "The following objects are masked from 'package:base':\n",
      "\n",
      "    intersect, setdiff, setequal, union\n",
      "\n"
     ]
    },
    {
     "data": {
      "text/html": [
       "<table>\n",
       "<tbody>\n",
       "\t<tr><td> 1</td><td> 8</td><td>15</td><td>22</td></tr>\n",
       "\t<tr><td>29</td><td>36</td><td>43</td><td>50</td></tr>\n",
       "</tbody>\n",
       "</table>\n"
      ],
      "text/latex": [
       "\\begin{tabular}{llll}\n",
       "\t  1 &  8 & 15 & 22\\\\\n",
       "\t 29 & 36 & 43 & 50\\\\\n",
       "\\end{tabular}\n"
      ],
      "text/markdown": [
       "\n",
       "|  1 |  8 | 15 | 22 |\n",
       "| 29 | 36 | 43 | 50 |\n",
       "\n"
      ],
      "text/plain": [
       "     [,1] [,2] [,3] [,4]\n",
       "[1,]  1    8   15   22  \n",
       "[2,] 29   36   43   50  "
      ]
     },
     "metadata": {},
     "output_type": "display_data"
    }
   ],
   "source": [
    "library(dplyr)\n",
    "data_for_example <- seq(1, 50, length.out=8) %>% matrix(., nrow=2, byrow=TRUE)\n",
    "\n",
    "# Add random noise\n",
    "# for (i in 1:length(quarterly_matrix)) {\n",
    "#     noise <- ifelse(rnorm(1) > 0, sample(5,1), 0)\n",
    "#     quarterly_matrix[i] <- quarterly_matrix[i] + noise\n",
    "# }\n",
    "data_for_example # We expect two rows and four columns"
   ]
  },
  {
   "cell_type": "code",
   "execution_count": 16,
   "metadata": {
    "scrolled": true
   },
   "outputs": [
    {
     "name": "stderr",
     "output_type": "stream",
     "text": [
      "ERROR while rich displaying an object: Error in repr_matrix_generic(obj, \"\\n%s%s\\n\", sprintf(\"|%%s\\n|%s|\\n\", : formal argument \"cols\" matched by multiple actual arguments\n",
      "\n",
      "Traceback:\n",
      "1. FUN(X[[i]], ...)\n",
      "2. tryCatch(withCallingHandlers({\n",
      " .     if (!mime %in% names(repr::mime2repr)) \n",
      " .         stop(\"No repr_* for mimetype \", mime, \" in repr::mime2repr\")\n",
      " .     rpr <- repr::mime2repr[[mime]](obj)\n",
      " .     if (is.null(rpr)) \n",
      " .         return(NULL)\n",
      " .     prepare_content(is.raw(rpr), rpr)\n",
      " . }, error = error_handler), error = outer_handler)\n",
      "3. tryCatchList(expr, classes, parentenv, handlers)\n",
      "4. tryCatchOne(expr, names, parentenv, handlers[[1L]])\n",
      "5. doTryCatch(return(expr), name, parentenv, handler)\n",
      "6. withCallingHandlers({\n",
      " .     if (!mime %in% names(repr::mime2repr)) \n",
      " .         stop(\"No repr_* for mimetype \", mime, \" in repr::mime2repr\")\n",
      " .     rpr <- repr::mime2repr[[mime]](obj)\n",
      " .     if (is.null(rpr)) \n",
      " .         return(NULL)\n",
      " .     prepare_content(is.raw(rpr), rpr)\n",
      " . }, error = error_handler)\n",
      "7. repr::mime2repr[[mime]](obj)\n",
      "8. repr_markdown.ts(obj)\n",
      "9. repr_ts_generic(obj, repr_markdown.matrix, ...)\n",
      "10. repr_func(m, ..., rows = nrow(m), cols = ncol(m))\n"
     ]
    },
    {
     "data": {
      "text/html": [
       "<table>\n",
       "<thead><tr><th></th><th scope=col>Series 1</th><th scope=col>Series 2</th><th scope=col>Series 3</th><th scope=col>Series 4</th></tr></thead>\n",
       "<tbody>\n",
       "\t<tr><th scope=row>2001 Q1</th><td> 1</td><td> 8</td><td>15</td><td>22</td></tr>\n",
       "\t<tr><th scope=row>2001 Q2</th><td>29</td><td>36</td><td>43</td><td>50</td></tr>\n",
       "\t<tr><th scope=row>2001 Q3</th><td> 1</td><td> 8</td><td>15</td><td>22</td></tr>\n",
       "\t<tr><th scope=row>2001 Q4</th><td>29</td><td>36</td><td>43</td><td>50</td></tr>\n",
       "\t<tr><th scope=row>2002 Q1</th><td> 1</td><td> 8</td><td>15</td><td>22</td></tr>\n",
       "\t<tr><th scope=row>2002 Q2</th><td>29</td><td>36</td><td>43</td><td>50</td></tr>\n",
       "\t<tr><th scope=row>2002 Q3</th><td> 1</td><td> 8</td><td>15</td><td>22</td></tr>\n",
       "\t<tr><th scope=row>2002 Q4</th><td>29</td><td>36</td><td>43</td><td>50</td></tr>\n",
       "</tbody>\n",
       "</table>\n"
      ],
      "text/latex": [
       "\\begin{tabular}{r|llll}\n",
       "  & Series 1 & Series 2 & Series 3 & Series 4\\\\\n",
       "\\hline\n",
       "\t2001 Q1 &  1 &  8 & 15 & 22\\\\\n",
       "\t2001 Q2 & 29 & 36 & 43 & 50\\\\\n",
       "\t2001 Q3 &  1 &  8 & 15 & 22\\\\\n",
       "\t2001 Q4 & 29 & 36 & 43 & 50\\\\\n",
       "\t2002 Q1 &  1 &  8 & 15 & 22\\\\\n",
       "\t2002 Q2 & 29 & 36 & 43 & 50\\\\\n",
       "\t2002 Q3 &  1 &  8 & 15 & 22\\\\\n",
       "\t2002 Q4 & 29 & 36 & 43 & 50\\\\\n",
       "\\end{tabular}\n"
      ],
      "text/plain": [
       "        Series 1 Series 2 Series 3 Series 4\n",
       "2001 Q1  1        8       15       22      \n",
       "2001 Q2 29       36       43       50      \n",
       "2001 Q3  1        8       15       22      \n",
       "2001 Q4 29       36       43       50      \n",
       "2002 Q1  1        8       15       22      \n",
       "2002 Q2 29       36       43       50      \n",
       "2002 Q3  1        8       15       22      \n",
       "2002 Q4 29       36       43       50      "
      ]
     },
     "metadata": {},
     "output_type": "display_data"
    }
   ],
   "source": [
    "# Convert quarterly data to time series object\n",
    "time_series_for_example <- ts(data_for_example, start=c(2001, 1), end=c(2002, 4), frequency=4)\n",
    "\n",
    "# We confirmed that our matrix had two rows and four columns.  We should have the same format here.\n",
    "time_series_for_example"
   ]
  },
  {
   "cell_type": "code",
   "execution_count": 17,
   "metadata": {},
   "outputs": [
    {
     "data": {
      "image/png": "[encoded data removed]",
      "text/plain": [
       "plot without title"
      ]
     },
     "metadata": {},
     "output_type": "display_data"
    }
   ],
   "source": [
    "plot(time_series_for_example)"
   ]
  },
  {
   "cell_type": "markdown",
   "metadata": {},
   "source": [
    "##### This is not what we expected.  The ts() function accepted the multivariate matrix, but it assumes each column is distinct univariate time series.  The first column in our random matrix contained the meausrements c(1,29); we specified a start time of 2001 Q1 and an end time of 2002 Q4, with a frequency of 4 (quarterly).  Therefore, the ts() function reads c(1, 29) as a single distinct time series, and recycles these measurements for 2001 Q1, 2001 Q2, 2001 Q3, ... 2002 Q3, 2002 Q4.  The next column in our matrix contains c(8, 36).  Again, the ts() function sees this as a new distinct time series, and recycles these two measurements to cover each quarter over two years.  This repeats for each column.  Consider if we had used a frequency of 12 instead of 4:"
   ]
  },
  {
   "cell_type": "code",
   "execution_count": 18,
   "metadata": {},
   "outputs": [
    {
     "name": "stderr",
     "output_type": "stream",
     "text": [
      "ERROR while rich displaying an object: Error in repr_matrix_generic(obj, \"\\n%s%s\\n\", sprintf(\"|%%s\\n|%s|\\n\", : formal argument \"cols\" matched by multiple actual arguments\n",
      "\n",
      "Traceback:\n",
      "1. FUN(X[[i]], ...)\n",
      "2. tryCatch(withCallingHandlers({\n",
      " .     if (!mime %in% names(repr::mime2repr)) \n",
      " .         stop(\"No repr_* for mimetype \", mime, \" in repr::mime2repr\")\n",
      " .     rpr <- repr::mime2repr[[mime]](obj)\n",
      " .     if (is.null(rpr)) \n",
      " .         return(NULL)\n",
      " .     prepare_content(is.raw(rpr), rpr)\n",
      " . }, error = error_handler), error = outer_handler)\n",
      "3. tryCatchList(expr, classes, parentenv, handlers)\n",
      "4. tryCatchOne(expr, names, parentenv, handlers[[1L]])\n",
      "5. doTryCatch(return(expr), name, parentenv, handler)\n",
      "6. withCallingHandlers({\n",
      " .     if (!mime %in% names(repr::mime2repr)) \n",
      " .         stop(\"No repr_* for mimetype \", mime, \" in repr::mime2repr\")\n",
      " .     rpr <- repr::mime2repr[[mime]](obj)\n",
      " .     if (is.null(rpr)) \n",
      " .         return(NULL)\n",
      " .     prepare_content(is.raw(rpr), rpr)\n",
      " . }, error = error_handler)\n",
      "7. repr::mime2repr[[mime]](obj)\n",
      "8. repr_markdown.ts(obj)\n",
      "9. repr_ts_generic(obj, repr_markdown.matrix, ...)\n",
      "10. repr_func(m, ..., rows = nrow(m), cols = ncol(m))\n"
     ]
    },
    {
     "data": {
      "text/html": [
       "<table>\n",
       "<thead><tr><th></th><th scope=col>Series 1</th><th scope=col>Series 2</th><th scope=col>Series 3</th><th scope=col>Series 4</th></tr></thead>\n",
       "<tbody>\n",
       "\t<tr><th scope=row>Jan 2001</th><td> 1</td><td> 8</td><td>15</td><td>22</td></tr>\n",
       "\t<tr><th scope=row>Feb 2001</th><td>29</td><td>36</td><td>43</td><td>50</td></tr>\n",
       "\t<tr><th scope=row>Mar 2001</th><td> 1</td><td> 8</td><td>15</td><td>22</td></tr>\n",
       "\t<tr><th scope=row>Apr 2001</th><td>29</td><td>36</td><td>43</td><td>50</td></tr>\n",
       "\t<tr><th scope=row>May 2001</th><td> 1</td><td> 8</td><td>15</td><td>22</td></tr>\n",
       "\t<tr><th scope=row>Jun 2001</th><td>29</td><td>36</td><td>43</td><td>50</td></tr>\n",
       "\t<tr><th scope=row>Jul 2001</th><td> 1</td><td> 8</td><td>15</td><td>22</td></tr>\n",
       "\t<tr><th scope=row>Aug 2001</th><td>29</td><td>36</td><td>43</td><td>50</td></tr>\n",
       "\t<tr><th scope=row>Sep 2001</th><td> 1</td><td> 8</td><td>15</td><td>22</td></tr>\n",
       "\t<tr><th scope=row>Oct 2001</th><td>29</td><td>36</td><td>43</td><td>50</td></tr>\n",
       "\t<tr><th scope=row>Nov 2001</th><td> 1</td><td> 8</td><td>15</td><td>22</td></tr>\n",
       "\t<tr><th scope=row>Dec 2001</th><td>29</td><td>36</td><td>43</td><td>50</td></tr>\n",
       "\t<tr><th scope=row>Jan 2002</th><td> 1</td><td> 8</td><td>15</td><td>22</td></tr>\n",
       "\t<tr><th scope=row>Feb 2002</th><td>29</td><td>36</td><td>43</td><td>50</td></tr>\n",
       "\t<tr><th scope=row>Mar 2002</th><td> 1</td><td> 8</td><td>15</td><td>22</td></tr>\n",
       "\t<tr><th scope=row>Apr 2002</th><td>29</td><td>36</td><td>43</td><td>50</td></tr>\n",
       "</tbody>\n",
       "</table>\n"
      ],
      "text/latex": [
       "\\begin{tabular}{r|llll}\n",
       "  & Series 1 & Series 2 & Series 3 & Series 4\\\\\n",
       "\\hline\n",
       "\tJan 2001 &  1 &  8 & 15 & 22\\\\\n",
       "\tFeb 2001 & 29 & 36 & 43 & 50\\\\\n",
       "\tMar 2001 &  1 &  8 & 15 & 22\\\\\n",
       "\tApr 2001 & 29 & 36 & 43 & 50\\\\\n",
       "\tMay 2001 &  1 &  8 & 15 & 22\\\\\n",
       "\tJun 2001 & 29 & 36 & 43 & 50\\\\\n",
       "\tJul 2001 &  1 &  8 & 15 & 22\\\\\n",
       "\tAug 2001 & 29 & 36 & 43 & 50\\\\\n",
       "\tSep 2001 &  1 &  8 & 15 & 22\\\\\n",
       "\tOct 2001 & 29 & 36 & 43 & 50\\\\\n",
       "\tNov 2001 &  1 &  8 & 15 & 22\\\\\n",
       "\tDec 2001 & 29 & 36 & 43 & 50\\\\\n",
       "\tJan 2002 &  1 &  8 & 15 & 22\\\\\n",
       "\tFeb 2002 & 29 & 36 & 43 & 50\\\\\n",
       "\tMar 2002 &  1 &  8 & 15 & 22\\\\\n",
       "\tApr 2002 & 29 & 36 & 43 & 50\\\\\n",
       "\\end{tabular}\n"
      ],
      "text/plain": [
       "         Series 1 Series 2 Series 3 Series 4\n",
       "Jan 2001  1        8       15       22      \n",
       "Feb 2001 29       36       43       50      \n",
       "Mar 2001  1        8       15       22      \n",
       "Apr 2001 29       36       43       50      \n",
       "May 2001  1        8       15       22      \n",
       "Jun 2001 29       36       43       50      \n",
       "Jul 2001  1        8       15       22      \n",
       "Aug 2001 29       36       43       50      \n",
       "Sep 2001  1        8       15       22      \n",
       "Oct 2001 29       36       43       50      \n",
       "Nov 2001  1        8       15       22      \n",
       "Dec 2001 29       36       43       50      \n",
       "Jan 2002  1        8       15       22      \n",
       "Feb 2002 29       36       43       50      \n",
       "Mar 2002  1        8       15       22      \n",
       "Apr 2002 29       36       43       50      "
      ]
     },
     "metadata": {},
     "output_type": "display_data"
    }
   ],
   "source": [
    "time_series_for_example <- ts(data_for_example, start=c(2001, 1), end=c(2002, 4), frequency=12)\n",
    "\n",
    "# We confirmed that our matrix had two rows and four columns.  We should have the same format here.\n",
    "time_series_for_example"
   ]
  },
  {
   "cell_type": "markdown",
   "metadata": {},
   "source": [
    "##### Here, we are repeating the first column c(1, 29) over the entire first year.  Also interestingly, notice how our end= agument is still (2002, 4).  The ts() function only recycles the data up until the 4$\\displaystyle ^{th}$ month.\n",
    "\n",
    "##### Lastly, let's check the class of this new time series object, to make sure it really is a time series object. "
   ]
  },
  {
   "cell_type": "code",
   "execution_count": 19,
   "metadata": {},
   "outputs": [
    {
     "data": {
      "text/html": [
       "<ol class=list-inline>\n",
       "\t<li>'mts'</li>\n",
       "\t<li>'ts'</li>\n",
       "\t<li>'matrix'</li>\n",
       "</ol>\n"
      ],
      "text/latex": [
       "\\begin{enumerate*}\n",
       "\\item 'mts'\n",
       "\\item 'ts'\n",
       "\\item 'matrix'\n",
       "\\end{enumerate*}\n"
      ],
      "text/markdown": [
       "1. 'mts'\n",
       "2. 'ts'\n",
       "3. 'matrix'\n",
       "\n",
       "\n"
      ],
      "text/plain": [
       "[1] \"mts\"    \"ts\"     \"matrix\""
      ]
     },
     "metadata": {},
     "output_type": "display_data"
    }
   ],
   "source": [
    "class(time_series_for_example)"
   ]
  },
  {
   "cell_type": "markdown",
   "metadata": {},
   "source": [
    "##### The time series has three classes, which may or may not be an issue.  One more argument we can speficy when creating time series object is the class= argument, to explicitly tell R that we want a class of only ts."
   ]
  },
  {
   "cell_type": "code",
   "execution_count": 20,
   "metadata": {},
   "outputs": [
    {
     "data": {
      "text/html": [
       "'ts'"
      ],
      "text/latex": [
       "'ts'"
      ],
      "text/markdown": [
       "'ts'"
      ],
      "text/plain": [
       "[1] \"ts\""
      ]
     },
     "metadata": {},
     "output_type": "display_data"
    }
   ],
   "source": [
    "time_series_for_example <- ts(data_for_example, start=c(2001, 1), end=c(2002, 4), frequency=12, class=\"ts\")\n",
    "class(time_series_for_example)"
   ]
  }
 ],
 "metadata": {
  "kernelspec": {
   "display_name": "R",
   "language": "R",
   "name": "ir"
  },
  "language_info": {
   "codemirror_mode": "r",
   "file_extension": ".r",
   "mimetype": "text/x-r-source",
   "name": "R",
   "pygments_lexer": "r",
   "version": "3.6.1"
  }
 },
 "nbformat": 4,
 "nbformat_minor": 2
}
